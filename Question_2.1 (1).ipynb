{
 "cells": [
  {
   "cell_type": "code",
   "execution_count": 2,
   "metadata": {},
   "outputs": [],
   "source": [
    "# pandas to read the final dataframe of the books \n",
    "import pandas as pd \n",
    "\n",
    "# pickle package to import the various files (e.g. vocabulary, inverted_index, ...)\n",
    "import pickle \n",
    "\n",
    "\n",
    "# nltk packages for cleaning the plots \n",
    "import nltk as nl\n",
    "from nltk.corpus import stopwords\n",
    "from nltk.stem import PorterStemmer \n",
    "from nltk.tokenize import sent_tokenize, word_tokenize\n",
    "from nltk import WordNetLemmatizer"
   ]
  },
  {
   "cell_type": "markdown",
   "metadata": {},
   "source": [
    "We import the vocabulary and the inverted index:"
   ]
  },
  {
   "cell_type": "code",
   "execution_count": 3,
   "metadata": {},
   "outputs": [],
   "source": [
    "with open( 'vocabulary.pkl', 'rb') as f:\n",
    "        vocabulary= pickle.load(f)\n",
    "        f.close()\n"
   ]
  },
  {
   "cell_type": "code",
   "execution_count": 4,
   "metadata": {},
   "outputs": [],
   "source": [
    "with open( 'Inverted_Index.pkl', 'rb') as f:\n",
    "        ID= pickle.load(f)\n",
    "        f.close()"
   ]
  },
  {
   "cell_type": "markdown",
   "metadata": {},
   "source": [
    "We import the clenaed dataframe of the books: "
   ]
  },
  {
   "cell_type": "code",
   "execution_count": 5,
   "metadata": {
    "scrolled": true
   },
   "outputs": [],
   "source": [
    "df=pd.read_csv('dataset/Dataset_300Pages.tsv', sep='\\t')\n",
    "\n",
    "df.dropna(subset=['Plot'],inplace=True)\n",
    "\n",
    "df.reset_index(drop=True,inplace=True)"
   ]
  },
  {
   "cell_type": "code",
   "execution_count": 6,
   "metadata": {},
   "outputs": [
    {
     "data": {
      "text/html": [
       "<div>\n",
       "<style scoped>\n",
       "    .dataframe tbody tr th:only-of-type {\n",
       "        vertical-align: middle;\n",
       "    }\n",
       "\n",
       "    .dataframe tbody tr th {\n",
       "        vertical-align: top;\n",
       "    }\n",
       "\n",
       "    .dataframe thead th {\n",
       "        text-align: right;\n",
       "    }\n",
       "</style>\n",
       "<table border=\"1\" class=\"dataframe\">\n",
       "  <thead>\n",
       "    <tr style=\"text-align: right;\">\n",
       "      <th></th>\n",
       "      <th>document_ID</th>\n",
       "      <th>bookTitle</th>\n",
       "      <th>bookSeries</th>\n",
       "      <th>bookAuthors</th>\n",
       "      <th>ratingValue</th>\n",
       "      <th>ratingCount</th>\n",
       "      <th>reviewCount</th>\n",
       "      <th>Plot_Values</th>\n",
       "      <th>Plot</th>\n",
       "      <th>NumberofPages</th>\n",
       "      <th>Publishing_Date</th>\n",
       "      <th>Characters</th>\n",
       "      <th>Setting</th>\n",
       "      <th>Url</th>\n",
       "    </tr>\n",
       "  </thead>\n",
       "  <tbody>\n",
       "    <tr>\n",
       "      <th>0</th>\n",
       "      <td>0</td>\n",
       "      <td>MARS</td>\n",
       "      <td>NaN</td>\n",
       "      <td>Jasmine  Rose</td>\n",
       "      <td>4.38</td>\n",
       "      <td>69</td>\n",
       "      <td>13</td>\n",
       "      <td>{5: '47', 4: '7', 3: '11', 2: '2', 1: '2'}</td>\n",
       "      <td>❝�� my heart has become a planetand you are th...</td>\n",
       "      <td>NaN</td>\n",
       "      <td>2014</td>\n",
       "      <td>NaN</td>\n",
       "      <td>NaN</td>\n",
       "      <td>https://www.goodreads.com/book/show/23279048-mars</td>\n",
       "    </tr>\n",
       "    <tr>\n",
       "      <th>1</th>\n",
       "      <td>1</td>\n",
       "      <td>Black Box</td>\n",
       "      <td>NaN</td>\n",
       "      <td>Cassia Leo</td>\n",
       "      <td>4.02</td>\n",
       "      <td>6244</td>\n",
       "      <td>903</td>\n",
       "      <td>{5: '2297', 4: '2320', 3: '1181', 2: '345', 1:...</td>\n",
       "      <td>♥️ Three fateful encounters....♥️ Two heart-br...</td>\n",
       "      <td>400.0</td>\n",
       "      <td>February 28th 2014</td>\n",
       "      <td>['Mikki Gladstone', 'William \"Crush\" Slayer']</td>\n",
       "      <td>['Boston, Massachusetts']</td>\n",
       "      <td>https://www.goodreads.com/book/show/29539518-b...</td>\n",
       "    </tr>\n",
       "    <tr>\n",
       "      <th>2</th>\n",
       "      <td>2</td>\n",
       "      <td>Ruin and Rising</td>\n",
       "      <td>The Shadow and Bone Trilogy #3</td>\n",
       "      <td>Leigh Bardugo</td>\n",
       "      <td>4.09</td>\n",
       "      <td>158624</td>\n",
       "      <td>19396</td>\n",
       "      <td>{5: '62107', 4: '59607', 3: '27962', 2: '6810'...</td>\n",
       "      <td>▶ \\nAlternative Cover Edition #1\\nThe capital ...</td>\n",
       "      <td>422.0</td>\n",
       "      <td>June 17th 2014</td>\n",
       "      <td>['Alina Starkov', 'Malyen Oretsev', 'Darkling'...</td>\n",
       "      <td>['Ravka ']</td>\n",
       "      <td>https://www.goodreads.com/book/show/14061957-r...</td>\n",
       "    </tr>\n",
       "  </tbody>\n",
       "</table>\n",
       "</div>"
      ],
      "text/plain": [
       "   document_ID        bookTitle                      bookSeries  \\\n",
       "0            0             MARS                             NaN   \n",
       "1            1        Black Box                             NaN   \n",
       "2            2  Ruin and Rising  The Shadow and Bone Trilogy #3   \n",
       "\n",
       "     bookAuthors  ratingValue  ratingCount  reviewCount  \\\n",
       "0  Jasmine  Rose         4.38           69           13   \n",
       "1     Cassia Leo         4.02         6244          903   \n",
       "2  Leigh Bardugo         4.09       158624        19396   \n",
       "\n",
       "                                         Plot_Values  \\\n",
       "0         {5: '47', 4: '7', 3: '11', 2: '2', 1: '2'}   \n",
       "1  {5: '2297', 4: '2320', 3: '1181', 2: '345', 1:...   \n",
       "2  {5: '62107', 4: '59607', 3: '27962', 2: '6810'...   \n",
       "\n",
       "                                                Plot  NumberofPages  \\\n",
       "0  ❝�� my heart has become a planetand you are th...            NaN   \n",
       "1  ♥️ Three fateful encounters....♥️ Two heart-br...          400.0   \n",
       "2  ▶ \\nAlternative Cover Edition #1\\nThe capital ...          422.0   \n",
       "\n",
       "      Publishing_Date                                         Characters  \\\n",
       "0                2014                                                NaN   \n",
       "1  February 28th 2014      ['Mikki Gladstone', 'William \"Crush\" Slayer']   \n",
       "2      June 17th 2014  ['Alina Starkov', 'Malyen Oretsev', 'Darkling'...   \n",
       "\n",
       "                     Setting  \\\n",
       "0                        NaN   \n",
       "1  ['Boston, Massachusetts']   \n",
       "2                 ['Ravka ']   \n",
       "\n",
       "                                                 Url  \n",
       "0  https://www.goodreads.com/book/show/23279048-mars  \n",
       "1  https://www.goodreads.com/book/show/29539518-b...  \n",
       "2  https://www.goodreads.com/book/show/14061957-r...  "
      ]
     },
     "execution_count": 6,
     "metadata": {},
     "output_type": "execute_result"
    }
   ],
   "source": [
    "df.head(3)"
   ]
  },
  {
   "cell_type": "markdown",
   "metadata": {},
   "source": [
    "We will also need these functions to run the query:  "
   ]
  },
  {
   "cell_type": "code",
   "execution_count": 7,
   "metadata": {},
   "outputs": [],
   "source": [
    "def clean_info (string):\n",
    "    # this command will split the string given in input in substrings by using \n",
    "    # the words given to RegexpTokenizer as argument\n",
    "    \n",
    "\n",
    "    \n",
    "    # filter the punctuation\n",
    "    tmp = nl.RegexpTokenizer(r\"['\\w-]+\").tokenize(string)  \n",
    "    \n",
    "    #first we lower all the words otherwise words such as AND,IS,MY are not consider stopwords \n",
    "    tmp = [word.lower() for word in tmp]\n",
    "    \n",
    "     # filter the stopwords (e.g. 'the', 'my', 'an', ...)\n",
    "    tmp = [word for word in tmp if not word in stopwords.words(\"english\")]\n",
    "    \n",
    "    #we lemmatize all the words (e.g. 'dirn')\n",
    "    lemma = WordNetLemmatizer()\n",
    "    tmp = [lemma.lemmatize(word, pos = \"v\") for word in tmp]    # v for verbs\n",
    "    tmp = [lemma.lemmatize(word, pos = \"n\") for word in tmp]    # n for nouns\n",
    "    \n",
    "    \n",
    "    final = ' '.join(tmp)\n",
    "    \n",
    "    return final"
   ]
  },
  {
   "cell_type": "code",
   "execution_count": 8,
   "metadata": {},
   "outputs": [],
   "source": [
    "# we will need first these two functions to implement the search function \n",
    "\n",
    "\n",
    "# this function takes as input a list of lists and gives back the index of the list that has minimus first element\n",
    "def find_min_list (L):\n",
    "    min_elem = L[0][0]\n",
    "    count = 0\n",
    "    index = 0\n",
    "    for l in L[1:]: \n",
    "        if min_elem > l[0]:\n",
    "            count = count + 1 \n",
    "            index = count \n",
    "            min_elem = l[0]\n",
    "        else: \n",
    "            count = count + 1 \n",
    "\n",
    "    return index \n",
    "        \n",
    "\n",
    "# this function takes as input a list of lists and gives back the list created from the intersection of the lists \n",
    "def intersect_list (L):\n",
    "    results = []\n",
    "    while all(len(l) > 0 for l in L):\n",
    "\n",
    "        if all([L[0][0] == l[0] for l in L[1:]]):     \n",
    "            results.append(L[0][0])\n",
    "            L = [l[1:] for l in L]\n",
    "\n",
    "        else : \n",
    "            min_index = find_min_list(L)\n",
    "            L[min_index] = L[min_index][1:]\n",
    "\n",
    "    return results "
   ]
  },
  {
   "cell_type": "markdown",
   "metadata": {},
   "source": [
    "This is the function that finds the documents containing the query and prints their Title, Plot and URL:  "
   ]
  },
  {
   "cell_type": "code",
   "execution_count": 32,
   "metadata": {},
   "outputs": [],
   "source": [
    "from tabulate import tabulate\n",
    "print(tabulate(df, headers='keys', tablefmt='psql'))"
   ]
  },
  {
   "cell_type": "code",
   "execution_count": 36,
   "metadata": {},
   "outputs": [],
   "source": [
    "def find_query(inverted_index, vocabulary, data_frame):\n",
    "    \n",
    "    string = input() # asks the user a string of words to look up \n",
    "    \n",
    "    string_cleaned = clean_info(string)\n",
    "    list_words = string_cleaned.split(' ')\n",
    "    \n",
    "    \n",
    "    # now translate the list of words in term_id )\n",
    "    list_termID = []\n",
    "    for word in list_words: \n",
    "        list_termID.append(vocabulary.get(word))    \n",
    "        \n",
    "   \n",
    "\n",
    "    # retrieve the documents in the inverted index and collect them in a list \n",
    "    list_documents = []\n",
    "    for term_id in list_termID:\n",
    "        if term_id in inverted_index.keys():   # checking if the word we are looking for is in the inverted_index\n",
    "            list_documents.append(inverted_index.get(term_id))\n",
    "    \n",
    "     \n",
    "    # now intersect these lists (here it's fundamental to suppose that the documents are collected as increasing sequences)\n",
    "    results = intersect_list(list_documents)\n",
    "    \n",
    "    # say to pandas to print the full plot \n",
    "    pd.set_option('display.max_colwidth', None)\n",
    "    \n",
    "    # print the results \n",
    "    df = data_frame.iloc[results][['bookTitle', 'Plot', 'Url']]\n",
    "    print(df.to_markdown)\n",
    "    \n",
    "    \n",
    "    return \n",
    "    \n",
    "    \n"
   ]
  },
  {
   "cell_type": "markdown",
   "metadata": {},
   "source": [
    "Let's see some examples that implement the function: "
   ]
  },
  {
   "cell_type": "code",
   "execution_count": 37,
   "metadata": {
    "scrolled": true
   },
   "outputs": [
    {
     "name": "stdout",
     "output_type": "stream",
     "text": [
      "heart darkness\n",
      "<bound method DataFrame.to_markdown of                                                    bookTitle  \\\n",
      "3                                            Shadow and Bone   \n",
      "114                                            Tears of Tess   \n",
      "192    Written In Blood (Book One Of The Unnatural Brethren)   \n",
      "230                                                     Sire   \n",
      "250                                         Twisted Together   \n",
      "...                                                      ...   \n",
      "25217                                             Odd Thomas   \n",
      "25409  The Beast That Shouted Love at the Heart of the World   \n",
      "25435                                       Promise Me Light   \n",
      "25525                                      Souls Unfractured   \n",
      "26075                               The Heights of Perdition   \n",
      "\n",
      "                                                                                                                                                                                                                                                                                                                                                                                                                                                                                                                                                                                                                                                                                                                                                                                                                                                                                                                                                                                                                                                                                                                                                                                                                                                                                                                                                                                                                                                                                                                                                                                                                                                                                                                                                                                                                                                                                                                                                                                                                                                                                                                                                                                                                                                                                                                                                                                                                                                                                                                                                                                                                                                                                                                                                                                                                                                                                                                                                                                                                                                                                                                                                                                                                                                                                                                                                                                                                                                                                                                                                                                                                                                                                                                                                                                                                                                                                          Plot  \\\n",
      "3                                                                                                                                                                                                                                                                                                                                                                                                                                                                                                                                                                                                                                                                                                                                                                                                                                                                                                                                                                                                                                                                                                                                                                                                                                                                                                                                                                                                                                                                                                                                                                                                                                                                                                                                                                                                                                                                                                                                                                                                                                                                                                                                                                                                                                                                                                                                                                                                                                                                                                                                                                                                                                                                                                                                                                                                                                                                                                                                          ▶ \\nAlternative Cover Edition #1\\nSurrounded by enemies, the once-great nation of Ravka has been torn in two by the Shadow Fold, a swath of near impenetrable darkness crawling with monsters who feast on human flesh. Now its fate may rest on the shoulders of one lonely refugee.Alina Starkov has never been good at anything. But when her regiment is attacked on the Fold and her best friend is brutally injured, Alina reveals a dormant power that saves his life—a power that could be the key to setting her war-ravaged country free. Wrenched from everything she knows, Alina is whisked away to the royal court to be trained as a member of the Grisha, the magical elite led by the mysterious Darkling.Yet nothing in this lavish world is what it seems. With darkness looming and an entire kingdom depending on her untamed power, Alina will have to confront the secrets of the Grisha . . . and the secrets of her heart.   \n",
      "114                                                                                                                                                                                                                                                                                                                                                                                                                                                                                                                                                                                                                                                                                                                                                                                                                                                                                                                                                                                                                                                                                                                                                                                                                                                                                                                                                                                                                                                                                                                                                                                                                                                                                                                                                                                                                                                                                                                                                                                                                                                                                                                                                                                                                                                                                                                                                                                                                                                                                                                                                                                                                                        “My life was complete. Happy, content, everything neat and perfect.Then it all changed.I was sold.”Tess Snow has everything she ever wanted: one more semester before a career in property development, a loving boyfriend, and a future dazzling bright with possibility. For their two year anniversary, Brax surprises Tess with a romantic trip to Mexico. Sandy beaches, delicious cocktails, and soul-connecting sex set the mood for a wonderful holiday. With a full heart, and looking forward to a passion filled week, Tess is on top of the world.But lusty paradise is shattered.Kidnapped. Drugged. Stolen. Tess is forced into a world full of darkness and terror. Captive and alone with no savior, no lover, no faith, no future, Tess evolves from terrified girl to fierce fighter. But no matter her strength, it can’t save her from the horror of being sold.Can Brax find Tess before she’s broken and ruined, or will Tess’s new owner change her life forever?A New Adult Dark Contemporary Romance, not suitable for people sensitive to grief, slavery, and nonconsensual sex. A story about finding love in the strangest of places, a will of iron that grows from necessity, and forgiveness that may not be enough.   \n",
      "192                                                                                                                                                                                                                                                                                                                                                                                                                                                                                                                                                                                                                                                                                                                                                                                                                                                                                                                                                                                                                                                                                                                                                                                                                                                                                                                                                                                                                                                                                                                                                                                                                                                                                                                                                                                                                                                                                                                                                                                                                                                                                                                                                                                                                                                                                                                                                                                                                                                                                                                                                                                                                                                                                                                                             “His silhouette immersed deep in the shadows of the room, sitting in the chair in the farthest corner from where I lay. A stray ray of light filtered into the pond of darkness where he skulked, and then I caught a glimpse of his vacant eyes, their surface white and opaque and devoid of any speck of life.”—Silvana G. Sánchez, WRITTEN IN BLOOD.Ivan Lockhart cheated death for the last time.When Ivan escapes a fatal tragedy and another dies in his stead, victory leads to damnation. Haunted by the ghost of his guilt, desperate to break away from his past, Lockhart flees seventeenth-century Winterbourne and embarks to the city of Venice, where ancient secrets sleep and legends rise from their graves.Poveglia, an island cast deep in the shadows of the Venetian horizon, conceals a rare lineage of immortals, the Sartie Mangiatori, obscure creatures that feed on human blood—Vampire’s predecessors.Lockhart's unforgettable journey will offer more than he ever expected as he travels through the darkest corners of Europe's elite destinations in a pilgrimage to the remotest depths of the human heart.   \n",
      "230                                                                                                                                                                                                                                                                                                                                                                                                                                                                                                                                                                                                                                                                                                                                                                                                                                                                                                                                                                                                                                                                                                                                                                                                                                                                                                                                                                                                                                                                                                                                                                                                                                                                                                                                                                                                                                                                                                                                                                                                                                                                                                                                                                                                                                                                                                                                                                                                                                                                                                                                                                                                                                                                                                                                                                                                                                                                                                                                                                                        “Because love is the easiest way to control someone and I needed a way to control you.”   Still mending a broken heart, Matthew has spent a year avoiding incubi and their army of hunters.  Now he has a new goal:  lift the shroud on his past. Why had he been turned and abandoned by his sire? Why didn’t he feel the initial bond between sire and child that vampires experience? Who were his parents, and why had they given him up at birth?  Frustrated by dead ends, his luck changes when a teenage girl tracks him down. She’s strange, socially awkward, and she can see the future. Matthew’s future. She’ll help him if he agrees to save her from the darkness…from Tarrick.  With the incubi armies closing in, a mysterious protector appears, swearing his fealty to Matthew. He’s ancient, seductive, and cursed—unable to explain why he keeps calling Matthew ‘my prince’.    \n",
      "250                                                                                                                                                                                                                                                                                                                                                                                                                                                                                                                                                                                                                                                                                                                                                                                                                                                                                                                                                                                                                                                                                                                                                                                                                                                                                                                                                                                                                                                                                                                                                                                                                                                                                                                                                                                                                                                                                                                                                                                                                                                                                                                                                                                                                                                                                                                                                                                                                                                                                                                                                                                                                                                                                                                                                                                                                                                                                                                                                                                                                                                                                “After battling through hell, I brought my esclave back from the brink of ruin. I sacrificed everything—my heart, my mind, my very desires to bring her back to life. And for a while, I thought it broke me, that I’d never be the same. But slowly the beast is growing bolder, and it’s finally time to show Tess how beautiful the dark can be.” Q gave everything to bring Tess back. In return, he expects nothing less. Tess may have leashed and tamed him, but he’s still a monster inside. After surviving the darkness, a new dawn has begun. Twisted Together wades through black to grey, chasing the light of true love to banish the shadows forever. Pain is a requirement, connection a necessity. But ultimately Q and Tess must face their demons, before they can embrace their future.   \n",
      "...                                                                                                                                                                                                                                                                                                                                                                                                                                                                                                                                                                                                                                                                                                                                                                                                                                                                                                                                                                                                                                                                                                                                                                                                                                                                                                                                                                                                                                                                                                                                                                                                                                                                                                                                                                                                                                                                                                                                                                                                                                                                                                                                                                                                                                                                                                                                                                                                                                                                                                                                                                                                                                                                                                                                                                                                                                                                                                                                                                                                                                                                                                                                                                                                                                                                                                                                                                                                                                                                                                                                                                                                                                                                                                                                                                                                                                                                                        ...   \n",
      "25217                                                                                                                                                                                                                                                                                                                                                                                                                                                                                                                                                                                                                                                                                                                                                                                                                                                                                                                                                                                                                                                                                                                                                                                                                                                                                                                                                                                                                                                                                                                                                                                                                                                                                                                                                                                                                                                                                                                                                                                                                                                                                                                                                                            \"The dead don't talk. I don't know why.\" But they do try to communicate, with a short-order cook in a small desert town serving as their reluctant confidant. Odd Thomas thinks of himself as an ordinary guy, if possessed of a certain measure of talent at the Pico Mundo Grill and rapturously in love with the most beautiful girl in the world, Stormy Llewellyn.Maybe he has a gift, maybe it's a curse, Odd has never been sure, but he tries to do his best by the silent souls who seek him out. Sometimes they want justice, and Odd's otherworldly tips to Pico Mundo's sympathetic police chief, Wyatt Porter, can solve a crime. Occasionally they can prevent one. But this time it's different.A mysterious man comes to town with a voracious appetite, a filing cabinet stuffed with information on the world's worst killers, and a pack of hyena-like shades following him wherever he goes. Who the man is and what he wants, not even Odd's deceased informants can tell him. His most ominous clue is a page ripped from a day-by-day calendar for August 15.Today is August 14.In less than twenty-four hours, Pico Mundo will awaken to a day of catastrophe. As evil coils under the searing desert sun, Odd travels through the shifting prisms of his world, struggling to avert a looming cataclysm with the aid of his soul mate and an unlikely community of allies that includes the King of Rock 'n' Roll. His account of two shattering days when past and present, fate and destiny converge is the stuff of our worst nightmares, and a testament by which to live: sanely if not safely, with courage, humor, and a full heart that even in the darkness must persevere.   \n",
      "25409                                                                                                                                                                                                                                                                                                                                                                                                                                                                                                                                                                                                                                                                                                                                                                                                                                                                                                                                                                                                                                                                                                                                                                                                                                                                                                                                                                                                                                                                                                                                                                                                                                                                                                                                                                                                                                                                                                                                                                                                                                                                                                                                                                                                                                                                                                                                                                                                                                                                                                                                                                                                                                                                                       \"It crouches near the center of creation. There is no night where it waits. Only the riddle of which terrible dream will set it loose. It beheaded mercy to take possession of that place. It feasts on darkness from the minds of men. No one has ever seen its eyeless face. When it sleeps we know a few moments of peace. But when it breathes again we go down in fire and mate with jackals. It knows our fear. It has our number. It waited for our coming and it will abide long after we have become congealed smoke. It has never heard music, and shows its fangs when we panic. It is the beast of our savage past, hungering today, and waiting patiently for the mortal meal of all our golden tomorrows. It lies waiting.\"--Harlan Ellison15 stories by Harlan EllisonContents \"Introduction: The Waves in Rio\" \"The Beast that Shouted Love at the Heart of the World\" \"Along the Scenic Route\" \"Phoenix\" \"Asleep: With Still Hands\" \"Santa Claus vs. S.P.I.D.E.R.\" \"Try a Dull Knife\" \"The Pitll Pawob Division\" \"The Place With No Name\" \"White on White\" \"Run for the Stars\" \"Are You Listening?\" \"S.R.O.\" \"Worlds to Kill\" \"Shattered Like a Glass Goblin\" \"A Boy and His Dog\"   \n",
      "25435                                                                                                                                                                                                                                                                                                                                                                                                                                                                                                                                                                                                                                                                                                                                                                                                                                                                                                                                                                                                                                                                                                                                                                                                                                                                                                                                                                                                                                                                                                                                                                                                                                                                                                                                                                                                                                                                                                                                                                                                                                                                                                                                                                                                                                                                                                                                                                                                                                                                                                                                                                                                                                                                                                                                                                                                                                                                                                                       \"I'm darkness, Maddie. Stay away from men like me. You'll only get hurt.\" At one time my life was simple. Easy. But that was before the war. Now I was no longer an average college student. I was a survivor. A woman living in a ravaged world. My future was not bright and my life was far from perfect. The war had taken so much from me... but it wasn't finished yet. It wanted more. It wanted my heart. My soul. The one person I couldn't live without. It wanted Ryder Delaney. My best friend. The bad boy. The one person who could fight like no other and love me like no one else. He was the father of my baby. I watched him walk away one hot summer day and I prayed he would return. I needed him like I needed air to breathe and water to drink. Without him I was lost. A light without her darkness. Until he returns, I'll wait for him. And I believe he will return because love is powerful... And so is the light calling him home.   \n",
      "25525                                                                                                                                                                                                                                                                                                                                                                                                                                                                                                                                                                                                                                                                                                                                                                                                                                                                                                                                                                                                                                                                                                                                                                                                                                                                                                                                                                                                                                                                                                                                                                                                                                                                                                                                                                                                 \"For fractured souls are like magnets.Drawn to collide into an impossible bliss…\"Labeled a ‘Cursed’ woman of Eve from birth, Maddie has endured nothing but pain and repression at the hands of The Order’s most abusive elder, Moses. Now living with her sister in The Hangmen’s secluded compound, finally, Maddie, is free. Free from the suffocating faith she no longer believes in. Free from endless years of physical and mental torment.Just… free…At age twenty-one, the timid and shy Maddie is content to live within the confines of her new home—safe from the outside world, safe from harm and, strangely, protected by the Hangmen’s most volatile member; the heavily pierced and tattooed, Flame. Flame. The man who ceaselessly watches over her with his midnight dark and searing eyes. The man who protects her with a breath-taking intensity. And the man who stirs something deep within her numbed heart.  But when circumstances conspire for Flame to need HER help, Maddie bravely risks it all for the broken man who has captivated her fragile soul. The Hangmen’s most infamous member, Flame, is ruled by one thing—anger. Plagued by haunting demons from his past, an all-consuming rage, and isolated by an abhorrent hatred of being touched, Flame's days are filled with suffocating darkness, pierced only by a single ray of light—Maddie. The shy, beautiful woman he cannot purge from his thoughts. The woman he has an overwhelming need to possess… ... the only person who has ever been able to touch him. Flame’s mission in life is to protect Maddie, to keep her safe. Until a trigger from his troubled past sends him spiraling into madness, trapping him in the deepest recesses of his disturbed mind. His Hangmen brothers fear that Flame is beyond saving. His only hope of salvation: Maddie and her healing light.Dark Contemporary Romance.Contains explicit sexual situations, violence, disturbingly sensitive and taboo subjects, offensive language, and very mature topics.Recommended for age 18 years and over.   \n",
      "26075  \\nFalling in love was out of the question ... until it was the answer. \\n\\nThere is nothing Aeris St. Cloud wants more than to win her father's love and the acceptance of her family unit by joining the Military Academy at New Hope. But after she is captured by the fearsome space pirate, Captain Chainsword, Aerie is certain falling in love with her nation's arch enemy is the last possible way to earn their coveted esteem. Driven by vengeance, Exton Shepherd never set out to save anyone. As he circles the war-torn world in his pirated starship, the Perdition, he only sees his father's ghost lurking around every corner and the looming darkness on the horizon. When Aerie unexpectedly tumbles into his life, he finds he cannot trust her, anymore than he can ignore her. But just like the raging war down on Earth, it's tempting to think he can ... When the war ascends to the heights of the Perdition, Aerie's loyalty, and Exton's heart, are put to the test. But will love be enough to save them -- and others -- from certain destruction?FROM THE AUTHOR: The Heights of Perdition is the first book in the Divine Space Pirates trilogy, a futuristic romance series where family, faith, and freedom all take center stage. With religious and political themes, this is one book sure to entertain your mind as much as it stimulates your heart. Look for Book 2, The Breadth of Creation, as the story - and the war - continues on!\\n\\n\\nFROM THE BOOK: \\n\\n\\n\\n\\n\\n\\n“Tell me your name. It’s a good place to start, don’t you think?”\\n\\n“I’ll never give you any information. How could I, knowing what I know about you?”\\n\\n“Perhaps there’s more to me than you realize.”\\n\\n“You’re a hateful monster! What else do I possibly need to know?”\\n\\nAerie regretted her outburst less than a second later. The captain immediately left his chair and came close to her. Instinctively, she pulled back, but the pad behind her did not allow her to go far.\\n\\nAs he drew near, she got a good look at his face; though no longer adorned with the pirate’s wig and beard, she could see he was still masked. The apathy, the cynicism, the playful whimsy—all of it hid a deep crevice of pain inside of him.\\n\\nThe sudden urge to reach out and touch him shot through her. It was quickly followed by alarm and self-disgust.\\n\\n“From your comments, I would assume you have yet to learn a great many things,” he told her, his voice sharp.\\n\\n“What do you mean by that?” she asked, boldly meeting his gaze.\\n\\n“First, your name is no small matter,\" he said. \"Destinies can be made and shaped by your name, though whether good or bad, it is up to you.\"\\n\\nHe turned away from her abruptly and began pacing by her bed. Aerie listened to his steps resonate with certainty and distinctness, like a military cadence, as she tried to breathe properly.\\n\\n“Second,” he continued, glancing at her from over his shoulder, “Despite what you might think, I am not a monster; merely a man.”\\n\\n“I hardly see the difference,” she retorted, still rattled by his presence.\\n\\n“I would expect that, given your education with the URS. Over the past decade, your beloved Daddy Dictator has managed to ensure your education, rigorous as it is, consists of really only following instructions, repeating the lies they prefer to the truth, and ignoring any logic that would unravel them or undermine their authority.”\\n\\n\\n\\n\\n\\nWHAT REVIEWERS ARE SAYING: \\n5 STARS! ~ Reader's Favorite Review Questions raised about government, religion, and human nature were peppered throughout the narrative, elevating The Heights of Perdition from a mere space fantasy to something much more thought-provoking. ~ Author Jess Jesinghaus \\n4th Place in Best RF Christian Sci-Fi &amp; Fantasy for 2018\\n\\n   \n",
      "\n",
      "                                                                                                    Url  \n",
      "3                                          https://www.goodreads.com/book/show/10194157-shadow-and-bone  \n",
      "114                                          https://www.goodreads.com/book/show/18134894-tears-of-tess  \n",
      "192                                       https://www.goodreads.com/book/show/33383034-written-in-blood  \n",
      "230                                                   https://www.goodreads.com/book/show/32721063-sire  \n",
      "250                                       https://www.goodreads.com/book/show/19015729-twisted-together  \n",
      "...                                                                                                 ...  \n",
      "25217                                              https://www.goodreads.com/book/show/14995.Odd_Thomas  \n",
      "25409  https://www.goodreads.com/book/show/216185.The_Beast_That_Shouted_Love_at_the_Heart_of_the_World  \n",
      "25435                                     https://www.goodreads.com/book/show/17862129-promise-me-light  \n",
      "25525                                    https://www.goodreads.com/book/show/22107214-souls-unfractured  \n",
      "26075                             https://www.goodreads.com/book/show/37643470-the-heights-of-perdition  \n",
      "\n",
      "[140 rows x 3 columns]>\n"
     ]
    }
   ],
   "source": [
    "find_query(ID, vocabulary, df)"
   ]
  },
  {
   "cell_type": "code",
   "execution_count": null,
   "metadata": {},
   "outputs": [],
   "source": []
  },
  {
   "cell_type": "code",
   "execution_count": null,
   "metadata": {},
   "outputs": [],
   "source": []
  }
 ],
 "metadata": {
  "kernelspec": {
   "display_name": "Python 3",
   "language": "python",
   "name": "python3"
  },
  "language_info": {
   "codemirror_mode": {
    "name": "ipython",
    "version": 3
   },
   "file_extension": ".py",
   "mimetype": "text/x-python",
   "name": "python",
   "nbconvert_exporter": "python",
   "pygments_lexer": "ipython3",
   "version": "3.8.3"
  }
 },
 "nbformat": 4,
 "nbformat_minor": 4
}
