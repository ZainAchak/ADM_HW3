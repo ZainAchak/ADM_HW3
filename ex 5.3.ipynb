{
 "cells": [
  {
   "cell_type": "markdown",
   "metadata": {},
   "source": [
    "# Dynamic programming"
   ]
  },
  {
   "cell_type": "code",
   "execution_count": 43,
   "metadata": {},
   "outputs": [],
   "source": [
    "def seq_max_subsequence(string):\n",
    "    #as suggests by the formula X[i] = 1 + max{X[j]; j = 0, ..., i-1, such that S[j]<S[i]}\n",
    "    # we initialize a sequence which represent the length of the longest sequence \n",
    "    #of characters in alphabetical order that includes the i-th character\n",
    "    \n",
    "    seq=[1]*len(string)\n",
    "    \n",
    "    #we calculate for every character (c) of the string the how many \n",
    "    #ordered characters there are before\n",
    "    \n",
    "    for s in range(1,len(string)):\n",
    "        temp_str=''\n",
    "        for k in range(0,s):\n",
    "            if string[s]>string[k] and seq[s]<=seq[k]:\n",
    "                seq[s]=seq[k]+1\n",
    "    return seq"
   ]
  },
  {
   "cell_type": "code",
   "execution_count": 44,
   "metadata": {},
   "outputs": [
    {
     "data": {
      "text/plain": [
       "[1, 2, 3, 2, 2, 3, 3, 4, 3, 5, 6]"
      ]
     },
     "execution_count": 44,
     "metadata": {},
     "output_type": "execute_result"
    }
   ],
   "source": [
    "s=seq_max_subsequence('ALMCBDDFCST')"
   ]
  },
  {
   "cell_type": "markdown",
   "metadata": {},
   "source": [
    "s represents dinamically the sequence of the longest subsequence including the i-th value.We can find the length of the longest subsequence looking for the max value."
   ]
  },
  {
   "cell_type": "markdown",
   "metadata": {},
   "source": [
    "This dynamic program update the performance of the recursive function ,because the latter computes the same subtask several times.In this case we can memorize them in a list,so we have all the previous results and we don't need to repeat all the calculus.\n",
    "> $T(n)$ : running time with n elements\\\n",
    "At the beginning we run the algorithm only for the first character ,then for two, for three and so on\\\n",
    "1+2+3+....+n-3+n-2+n-1+n=$\\sum_{i=0}^n (n-i)$ = $\\sum_{i=1}^n i $=$ {n(n+1)}\\over{2}$\\\n",
    "So $T(n)$=$\\mathcal{O}(n^2)$\n"
   ]
  },
  {
   "cell_type": "code",
   "execution_count": 45,
   "metadata": {},
   "outputs": [],
   "source": [
    "s=seq_max_subsequence('CADFECEILGJHABNOFPSTIRYOEABILCNR')"
   ]
  },
  {
   "cell_type": "code",
   "execution_count": 47,
   "metadata": {},
   "outputs": [
    {
     "data": {
      "text/plain": [
       "11"
      ]
     },
     "execution_count": 47,
     "metadata": {},
     "output_type": "execute_result"
    }
   ],
   "source": [
    "max(s)"
   ]
  },
  {
   "cell_type": "code",
   "execution_count": null,
   "metadata": {},
   "outputs": [],
   "source": []
  },
  {
   "cell_type": "code",
   "execution_count": null,
   "metadata": {},
   "outputs": [],
   "source": []
  }
 ],
 "metadata": {
  "kernelspec": {
   "display_name": "Python 3",
   "language": "python",
   "name": "python3"
  },
  "language_info": {
   "codemirror_mode": {
    "name": "ipython",
    "version": 3
   },
   "file_extension": ".py",
   "mimetype": "text/x-python",
   "name": "python",
   "nbconvert_exporter": "python",
   "pygments_lexer": "ipython3",
   "version": "3.8.3"
  }
 },
 "nbformat": 4,
 "nbformat_minor": 4
}
