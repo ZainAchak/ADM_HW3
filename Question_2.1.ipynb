{
 "cells": [
  {
   "cell_type": "code",
   "execution_count": 24,
   "metadata": {},
   "outputs": [],
   "source": [
    "import pandas as pd \n",
    "\n",
    "import pickle \n",
    "import nltk as nl\n",
    "from nltk.corpus import stopwords\n",
    "from nltk.stem import PorterStemmer \n",
    "from nltk.tokenize import sent_tokenize, word_tokenize\n",
    "from nltk import WordNetLemmatizer"
   ]
  },
  {
   "cell_type": "code",
   "execution_count": 17,
   "metadata": {},
   "outputs": [
    {
     "name": "stderr",
     "output_type": "stream",
     "text": [
      "[nltk_data] Downloading package wordnet to\n",
      "[nltk_data]     C:\\Users\\momor\\AppData\\Roaming\\nltk_data...\n",
      "[nltk_data]   Unzipping corpora\\wordnet.zip.\n"
     ]
    },
    {
     "data": {
      "text/plain": [
       "True"
      ]
     },
     "execution_count": 17,
     "metadata": {},
     "output_type": "execute_result"
    }
   ],
   "source": [
    "nl.download('wordnet')"
   ]
  },
  {
   "cell_type": "markdown",
   "metadata": {},
   "source": [
    "We import the vocabulary and the inverted index "
   ]
  },
  {
   "cell_type": "code",
   "execution_count": 76,
   "metadata": {},
   "outputs": [],
   "source": [
    "with open( 'vocabulary.pkl', 'rb') as f:\n",
    "        vocabulary= pickle.load(f)\n",
    "        f.close()\n"
   ]
  },
  {
   "cell_type": "code",
   "execution_count": 77,
   "metadata": {},
   "outputs": [],
   "source": [
    "with open( 'Inverted_Index.pkl', 'rb') as f:\n",
    "        ID= pickle.load(f)\n",
    "        f.close()"
   ]
  },
  {
   "cell_type": "markdown",
   "metadata": {},
   "source": [
    "We import the dataset too we clean it "
   ]
  },
  {
   "cell_type": "code",
   "execution_count": 50,
   "metadata": {},
   "outputs": [],
   "source": [
    "df=pd.read_csv('dataset/Dataset_300Pages.tsv', sep='\\t')\n",
    "\n",
    "df.dropna(subset=['Plot'],inplace=True)\n",
    "\n",
    "df.reset_index(drop=True,inplace=True)"
   ]
  },
  {
   "cell_type": "markdown",
   "metadata": {},
   "source": [
    "We will also need these functions to run the query:  "
   ]
  },
  {
   "cell_type": "code",
   "execution_count": 78,
   "metadata": {},
   "outputs": [],
   "source": [
    "def clean_info (string):\n",
    "    # this command will split the string given in input in substrings by using \n",
    "    # the words given to RegexpTokenizer as argument\n",
    "    \n",
    "\n",
    "    \n",
    "    # filter the punctuation\n",
    "    tmp = nl.RegexpTokenizer(r\"['\\w-]+\").tokenize(string)  \n",
    "    \n",
    "    #first we lower all the words otherwise words such as AND,IS,MY are not consider stopwords \n",
    "    tmp = [word.lower() for word in tmp]\n",
    "    \n",
    "     # filter the stopwords (e.g. 'the', 'my', 'an', ...)\n",
    "    tmp = [word for word in tmp if not word in stopwords.words(\"english\")]\n",
    "    \n",
    "    #we lemmatize all the words (e.g. 'dirn')\n",
    "    lemma = WordNetLemmatizer()\n",
    "    tmp = [lemma.lemmatize(word, pos = \"v\") for word in tmp]    # v for verbs\n",
    "    tmp = [lemma.lemmatize(word, pos = \"n\") for word in tmp]    # n for nouns\n",
    "    \n",
    "    \n",
    "    final = ' '.join(tmp)\n",
    "    \n",
    "    return final"
   ]
  },
  {
   "cell_type": "code",
   "execution_count": 79,
   "metadata": {},
   "outputs": [],
   "source": [
    "# we will need first these two functions to implement the search function \n",
    "\n",
    "\n",
    "# this function takes as input a list of lists and gives back the index of the list that has minimus first element\n",
    "\n",
    "def find_min_list (L):\n",
    "    min_elem = L[0][0]\n",
    "    count = 0\n",
    "    index = 0\n",
    "    for l in L[1:]: \n",
    "        if min_elem > l[0]:\n",
    "            count = count + 1 \n",
    "            index = count \n",
    "            min_elem = l[0]\n",
    "        else: \n",
    "            count = count + 1 \n",
    "\n",
    "    return index \n",
    "        \n",
    "\n",
    "# this function takes as input a list of lists and gives back the list created from the intersection of the lists \n",
    "    \n",
    "def intersect_list (L):\n",
    "    results = []\n",
    "    while all(len(l) > 0 for l in L):\n",
    "\n",
    "        if all([L[0][0] == l[0] for l in L[1:]]):     \n",
    "            results.append(L[0][0])\n",
    "            L = [l[1:] for l in L]\n",
    "\n",
    "        else : \n",
    "            min_index = find_min_list(L)\n",
    "            L[min_index] = L[min_index][1:]\n",
    "\n",
    "    return results "
   ]
  },
  {
   "cell_type": "markdown",
   "metadata": {},
   "source": [
    "This is the function that finds the documents containing the query "
   ]
  },
  {
   "cell_type": "code",
   "execution_count": 87,
   "metadata": {},
   "outputs": [],
   "source": [
    "def find_query(inverted_index, vocabulary):\n",
    "    \n",
    "    string = input() # asks the user a string of words to look up \n",
    "    \n",
    "    string_cleaned = clean_info(string)\n",
    "    list_words = string_cleaned.split(' ')\n",
    "    \n",
    "    \n",
    "    # now translate the list of words in term_id )\n",
    "    list_termID = []\n",
    "    for word in list_words: \n",
    "        list_termID.append(vocabulary.get(word))    \n",
    "        \n",
    "   \n",
    "\n",
    "    # retrieve the documents in the inverted index and collect them in a list \n",
    "    list_documents = []\n",
    "    for term_id in list_termID:\n",
    "        if term_id in inverted_index.keys():   # checking if the word we are looking for is in the inverted_index\n",
    "            list_documents.append(inverted_index.get(term_id))\n",
    "    \n",
    "     \n",
    "    # now intersect these lists (HERE IT'S FUNDAMENTAL TO SUPPOSE THAT THE DOCUMENTS ARE COLLECTED AS INCREASING \n",
    "    # SEQUENCES)\n",
    "    results = intersect_list(list_documents)\n",
    "    \n",
    "    \n",
    "    return results "
   ]
  },
  {
   "cell_type": "code",
   "execution_count": 85,
   "metadata": {
    "scrolled": true
   },
   "outputs": [
    {
     "name": "stdout",
     "output_type": "stream",
     "text": [
      "horse riding\n"
     ]
    }
   ],
   "source": [
    "results = find_query(ID, vocabulary)"
   ]
  },
  {
   "cell_type": "code",
   "execution_count": 35,
   "metadata": {},
   "outputs": [],
   "source": [
    "# to print the plots with the newlines\n",
    "pd.set_option('display.max_colwidth', None) "
   ]
  },
  {
   "cell_type": "code",
   "execution_count": 82,
   "metadata": {},
   "outputs": [
    {
     "data": {
      "text/html": [
       "<div>\n",
       "<style scoped>\n",
       "    .dataframe tbody tr th:only-of-type {\n",
       "        vertical-align: middle;\n",
       "    }\n",
       "\n",
       "    .dataframe tbody tr th {\n",
       "        vertical-align: top;\n",
       "    }\n",
       "\n",
       "    .dataframe thead th {\n",
       "        text-align: right;\n",
       "    }\n",
       "</style>\n",
       "<table border=\"1\" class=\"dataframe\">\n",
       "  <thead>\n",
       "    <tr style=\"text-align: right;\">\n",
       "      <th></th>\n",
       "      <th>bookTitle</th>\n",
       "      <th>Plot</th>\n",
       "      <th>Url</th>\n",
       "    </tr>\n",
       "  </thead>\n",
       "  <tbody>\n",
       "    <tr>\n",
       "      <th>87</th>\n",
       "      <td>Written in Stone: Evolution, the Fossil Record, and Our Place in Nature</td>\n",
       "      <td>“Switek seamlessly intertwines two types of evolution: one of life on earth and the other of paleontology itself.”—Discover Magazine““In delightful prose, [Switek] . . . superbly shows that ‘[i]f we can let go of our conceit,’ we will see the preciousness of life in all its forms.”—Publishers Weekly (starred review)“Highly instructive . . . a warm, intelligent yeoman’s guide to the progress of life.”—Kirkus Reviews“Magisterial . . . part historical account, part scientific detective story. Switek’s elegant prose and thoughtful scholarship will change the way you see life on our planet. This book marks the debut of an important new voice.”—Neil Shubin“Elegantly and engagingly crafted, Brian Switek’s narrative interweaves stories and characters not often encountered in books on paleontology—at once a unique, informative and entertaining read.”—Niles Eldredge“If you want to read one book to get up to speed on evolution, read Written in Stone. Brian Switek’s clear and compelling book is full of fascinating stories about how scientists have read the fossil record to trace the evolution of life on Earth.”—Ann Gibbons“[Switek's] accounts of dinosaurs, birds, whales, and our own primate ancestors are not just fascinating for their rich historical detail, but also for their up-to-date reporting on paleontology’s latest discoveries.”—Carl Zimmer\"After reading this book, you will have a totally new context in which to interpret the evolutionary history of amphibians, mammals, whales, elephants, horses, and especially humans.”—Donald R. ProtheroSpectacular fossil finds make today's headlines; new technology unlocks secrets of skeletons unearthed a hundred years ago. Still, evolution is often poorly represented by the media and misunderstood by the public. A potent antidote to pseudoscience, Written in Stone is an engrossing history of evolutionary discovery for anyone who has marveled at the variety and richness of life.</td>\n",
       "      <td>https://www.goodreads.com/book/show/8198230-written-in-stone</td>\n",
       "    </tr>\n",
       "    <tr>\n",
       "      <th>178</th>\n",
       "      <td>True History of the Kelly Gang</td>\n",
       "      <td>“I lost my own father at 12 yr. of age and know what it is to be raised on lies and silences my dear daughter you are presently too young to understand a word I write but this history is for you and will contain no single lie may I burn in Hell if I speak false.”In True History of the Kelly Gang, the legendary Ned Kelly speaks for himself, scribbling his narrative on errant scraps of paper in semiliterate but magically descriptive prose as he flees from the police. To his pursuers, Kelly is nothing but a monstrous criminal, a thief and a murderer. To his own people, the lowly class of ordinary Australians, the bushranger is a hero, defying the authority of the English to direct their lives. Indentured by his bootlegger mother to a famous horse thief (who was also her lover), Ned saw his first prison cell at 15 and by the age of 26 had become the most wanted man in the wild colony of Victoria, taking over whole towns and defying the law until he was finally captured and hanged. Here is a classic outlaw tale, made alive by the skill of a great novelist.\\n\\n</td>\n",
       "      <td>https://www.goodreads.com/book/show/110090.True_History_of_the_Kelly_Gang</td>\n",
       "    </tr>\n",
       "    <tr>\n",
       "      <th>407</th>\n",
       "      <td>Prisoner of the Inquisition</td>\n",
       "      <td>Zarita, only daughter of the town magistrate, lives a life of wealth and privilege. Indulged by her parents, she is free to spend her days as she pleases, enjoying herself in the company of an eligible young nobleman, horse riding, or leisurely studying the arts.Saulo, son of a family reduced by circumstances to begging, witnesses his father wrongfully arrested and dealt with in the most horrifying way. Hauled off to be a slave at sea and pursued by pirates he encounters the ambitious mariner explorer, Christopher Columbus. Throughout his hardships Saulo is determined to survive - for he has sworn vengeance on the magistrate and his family.As Zarita's life also undergoes harsh changes the formidable and frightening Inquisition arrives in the area, bringing menacing shadows of suspicion with acts of cruel brutality - and ultimately, amid the intrigues of the court of Queen Isabella and King Ferdinand in the splendid Moorish city of Grenada, betrayal and revenge...</td>\n",
       "      <td>https://www.goodreads.com/book/show/7039746-prisoner-of-the-inquisition</td>\n",
       "    </tr>\n",
       "    <tr>\n",
       "      <th>475</th>\n",
       "      <td>Wild Magic</td>\n",
       "      <td>Young Daine's knack with horses gets her a job helping the royal horsemistress drive a herd of ponies to Tortall. Soon it becomes clear that Daine's talent, as much as she struggles to hide it, is downright magical. Horses and other animals not only obey, but listen to her words. Daine, though, will have to learn to trust humans before she can come to terms with her powers, her past, and herself.</td>\n",
       "      <td>https://www.goodreads.com/book/show/13836.Wild_Magic</td>\n",
       "    </tr>\n",
       "    <tr>\n",
       "      <th>734</th>\n",
       "      <td>Show Horse</td>\n",
       "      <td>With the date for the horse show drawing near, Stevie plans to win as many categories as possible, Carole vows to beat Cam Nelson, and Lisa is determined to ride Prancer.</td>\n",
       "      <td>https://www.goodreads.com/book/show/2110475.Show_Horse</td>\n",
       "    </tr>\n",
       "    <tr>\n",
       "      <th>...</th>\n",
       "      <td>...</td>\n",
       "      <td>...</td>\n",
       "      <td>...</td>\n",
       "    </tr>\n",
       "    <tr>\n",
       "      <th>25590</th>\n",
       "      <td>Bodie</td>\n",
       "      <td>\"Blowing out the exhale, he tipped his hat at the few still-breathing horses. 'Don't worry; you'll be dead 'fore the buzzards gather to pick at ya.' Parker squinted up at the sun and saw buzzards were circling overhead already. 'I think, ' he laughed cruelly.\" Lara and Lainy survived foster care and all its horrors, but the experience left them incomplete in that they had no knowledge of the people they came from. Unknowingly, until now, each of them has had a reoccurring dream for more years than they can remember-the same dream. When the girls are regressed by a therapist anxious to publish their story, they learn shocking details about themselves, an unsolved murder in Bodie, California, and a massive cover-up. They want to investigate-but a mining executive can't allow the \"Dream Sisters\" to go poking around Bodie, anymore than he could allow the therapist to go public and threaten his thirty-five million dollar deal. Are the \"Bad Men From Bodie\" really dead? Join Lainy and Lara as they dig up shocking secrets in Bodie. Based on a true story.</td>\n",
       "      <td>https://www.goodreads.com/book/show/18179259-bodie</td>\n",
       "    </tr>\n",
       "    <tr>\n",
       "      <th>25768</th>\n",
       "      <td>The Horse Dealer’s Bargain for A Bride: Horse Dealer Texas Cowboy (JJ Fox Sweet Western Romance The Series Book 3)</td>\n",
       "      <td>Kindle Unlimited and Kindle Prime Member can load this book for FREE!   **** Read On Your PC, Mac, Smartphone, Tablet Or Kindle! ****    The Horse Dealer’s Bargain for A Bride Elizabeth’s a horse dealer and expert in the wilds of Texas in the late 1800’s. She’s not your typical shrinking violet. Instead she’s a tough and beautiful pioneer woman. She’s also a savvy businesswoman who knows a good horse and at what price to sell him/her. She’s an excellent rider, a tough negotiator and an all-round broad.  Duke is just as independent. He comes from a poor, rough background and has to make his way on his own. He’s a ruthless negotiator and he’s managed to get a wide array of clients in Texas. The two horse dealers finally meet at an auction and they’re immediately attracted to and repelled by each other.  But, out of necessity, they decide to work together. Thus begins a series of adventures and misadventures where Liz and Duke are forced to bail each other out of danger and tough out the hardships of life on the road. They eventually discover that they compliment each other and make a fine team. Plus, their sizzling chemistry is too hot to ignore. Both are hot blooded and passionate people and together they create fire. Their attraction is too hard to ignore and eventually they try to negotiate a business and romantic partnership – but not before some really creative problem solving to bail them out of their worst catastrophe yet!  A sexy romance with a lot of hot love scenes, adventure and the magic of the old West. There’s a plucky heroine that readers will love and a smoldering hot cowboy. Plenty of chemistry. A fun read with lots of old timey atmosphere.   Grab your copy NOW!  JJ Fox  You can find \"JJ Fox Sweet Western Romance The Series\" as below.  Cowboy's Bride : JJ Fox Sweet Western Romance The Series Book 1  The Billionaire Rancher’s Bargain for A Bride : JJ Fox Sweet Western Romance The Series Book 2  The Horse Dealer’s Bargain for A Bride : JJ Fox Sweet Western Romance The Series Book 3</td>\n",
       "      <td>https://www.goodreads.com/book/show/25372804-the-horse-dealer-s-bargain-for-a-bride</td>\n",
       "    </tr>\n",
       "    <tr>\n",
       "      <th>25796</th>\n",
       "      <td>The Blessings of the Animals</td>\n",
       "      <td>From Katrina Kittle, critically acclaimed author of The Kindness of Strangers, comes a wry and moving story of forgiveness, flexibility, happiness, and the art of moving on.   Veterinarian Cami Anderson has hit a rough patch. Stymied by her recent divorce, she wonders if there are secret ingredients to a happy, long-lasting marriage or if the entire institution is outdated and obsolete. Couples all around her are approaching important milestones. Her parents are preparing to celebrate their fiftieth anniversary. Her brother and his partner find their marriage dreams legally blocked. Her former sister-in-law—still her best friend—is newly engaged. The youthfully exuberant romance of her teenage daughter is developing complications. And three separate men—including her ex-husband—are becoming entangled in Cami's messy post-marital love life.   But as she struggles to come to terms with her own doubts amid this chaotic circus of relationships, Cami finds strange comfort in an unexpected confidant: an angry, unpredictable horse in her care. With the help of her equine soul mate, she begins to make sense of marriage's great mysteries—and its disconnects.</td>\n",
       "      <td>https://www.goodreads.com/book/show/7294160-the-blessings-of-the-animals</td>\n",
       "    </tr>\n",
       "    <tr>\n",
       "      <th>25857</th>\n",
       "      <td>The Oracle of Stamboul</td>\n",
       "      <td>An elegantly crafted, utterly enchanting debut novel set in a mystical, exotic world, in which a gifted young girl charms a sultan and changes the course of an empire's history    Late in the summer of 1877, a flock of purple-and-white hoopoes suddenly appears over the town of Constanta on the Black Sea, and Eleonora Cohen is ushered into the world by a mysterious pair of Tartar midwives who arrive just minutes before her birth. \"They had read the signs, they said: a sea of horses, a conference of birds, the North Star in alignment with the moon. It was a prophecy that their last king had given on his deathwatch.\" But joy is mixed with tragedy, for Eleonora's mother dies soon after the birth.   Raised by her doting father, Yakob, a carpet merchant, and her stern, resentful stepmother, Ruxandra, Eleonora spends her early years daydreaming and doing housework—until the moment she teaches herself to read, and her father recognizes that she is an extraordinarily gifted child, a prodigy.   When Yakob sets off by boat for Stamboul on business, eight-year-old Eleonora, unable to bear the separation, stows away in one of his trunks. On the shores of the Bosporus, in the house of her father's business partner, Moncef Bey, a new life awaits. Books, backgammon, beautiful dresses and shoes, markets swarming with color and life—the imperial capital overflows with elegance, and mystery. For in the narrow streets of Stamboul—a city at the crossroads of the world—intrigue and gossip are currency, and people are not always what they seem. Eleonora's tutor, an American minister and educator, may be a spy. The kindly though elusive Moncef Bey has a past history of secret societies and political maneuvering. And what is to be made of the eccentric, charming Sultan Abdulhamid II himself, beleaguered by friend and foe alike as his unwieldy, multiethnic empire crumbles?   The Oracle of Stamboul is a marvelously evocative, magical historical novel that will transport readers to another time and place—romantic, exotic, yet remarkably similar to our own.</td>\n",
       "      <td>https://www.goodreads.com/book/show/8584912-the-oracle-of-stamboul</td>\n",
       "    </tr>\n",
       "    <tr>\n",
       "      <th>26072</th>\n",
       "      <td>The Island Stallion</td>\n",
       "      <td>\\nFlame was a dream horse!\\nSteve Duncan had a haunting vision of finding a magnificent red stallion... and finally discovered him in a hidden island paradise. But the giant horse was wild and unapproachable. Then Steve saved Flame from a horrible death, and a miraculous friendship began - changing both their lives forever. . . .This Island Stallion story is part of Walter Farley's famous Black Stallion series, which has long thrilled horse lovers of all ages. Full of action, excitement, and suspense, the books have sold more than twelve million copies worldwide.</td>\n",
       "      <td>https://www.goodreads.com/book/show/99738.The_Island_Stallion</td>\n",
       "    </tr>\n",
       "  </tbody>\n",
       "</table>\n",
       "<p>226 rows × 3 columns</p>\n",
       "</div>"
      ],
      "text/plain": [
       "                                                                                                                bookTitle  \\\n",
       "87                                                Written in Stone: Evolution, the Fossil Record, and Our Place in Nature   \n",
       "178                                                                                        True History of the Kelly Gang   \n",
       "407                                                                                           Prisoner of the Inquisition   \n",
       "475                                                                                                            Wild Magic   \n",
       "734                                                                                                            Show Horse   \n",
       "...                                                                                                                   ...   \n",
       "25590                                                                                                               Bodie   \n",
       "25768  The Horse Dealer’s Bargain for A Bride: Horse Dealer Texas Cowboy (JJ Fox Sweet Western Romance The Series Book 3)   \n",
       "25796                                                                                        The Blessings of the Animals   \n",
       "25857                                                                                              The Oracle of Stamboul   \n",
       "26072                                                                                                 The Island Stallion   \n",
       "\n",
       "                                                                                                                                                                                                                                                                                                                                                                                                                                                                                                                                                                                                                                                                                                                                                                                                                                                                                                                                                                                                                                                                                                                                                                                                                                                                                                                                                                                                                                                                                                                                                                                                                                                                                                                                                                                                                                                                                                                                                                                                                                                                                                                                                      Plot  \\\n",
       "87                                                                                                                                  “Switek seamlessly intertwines two types of evolution: one of life on earth and the other of paleontology itself.”—Discover Magazine““In delightful prose, [Switek] . . . superbly shows that ‘[i]f we can let go of our conceit,’ we will see the preciousness of life in all its forms.”—Publishers Weekly (starred review)“Highly instructive . . . a warm, intelligent yeoman’s guide to the progress of life.”—Kirkus Reviews“Magisterial . . . part historical account, part scientific detective story. Switek’s elegant prose and thoughtful scholarship will change the way you see life on our planet. This book marks the debut of an important new voice.”—Neil Shubin“Elegantly and engagingly crafted, Brian Switek’s narrative interweaves stories and characters not often encountered in books on paleontology—at once a unique, informative and entertaining read.”—Niles Eldredge“If you want to read one book to get up to speed on evolution, read Written in Stone. Brian Switek’s clear and compelling book is full of fascinating stories about how scientists have read the fossil record to trace the evolution of life on Earth.”—Ann Gibbons“[Switek's] accounts of dinosaurs, birds, whales, and our own primate ancestors are not just fascinating for their rich historical detail, but also for their up-to-date reporting on paleontology’s latest discoveries.”—Carl Zimmer\"After reading this book, you will have a totally new context in which to interpret the evolutionary history of amphibians, mammals, whales, elephants, horses, and especially humans.”—Donald R. ProtheroSpectacular fossil finds make today's headlines; new technology unlocks secrets of skeletons unearthed a hundred years ago. Still, evolution is often poorly represented by the media and misunderstood by the public. A potent antidote to pseudoscience, Written in Stone is an engrossing history of evolutionary discovery for anyone who has marveled at the variety and richness of life.   \n",
       "178                                                                                                                                                                                                                                                                                                                                                                                                                                                                                                                                                                                                                                                                                                                                                                                                                                                                                                                                                                                                                                        “I lost my own father at 12 yr. of age and know what it is to be raised on lies and silences my dear daughter you are presently too young to understand a word I write but this history is for you and will contain no single lie may I burn in Hell if I speak false.”In True History of the Kelly Gang, the legendary Ned Kelly speaks for himself, scribbling his narrative on errant scraps of paper in semiliterate but magically descriptive prose as he flees from the police. To his pursuers, Kelly is nothing but a monstrous criminal, a thief and a murderer. To his own people, the lowly class of ordinary Australians, the bushranger is a hero, defying the authority of the English to direct their lives. Indentured by his bootlegger mother to a famous horse thief (who was also her lover), Ned saw his first prison cell at 15 and by the age of 26 had become the most wanted man in the wild colony of Victoria, taking over whole towns and defying the law until he was finally captured and hanged. Here is a classic outlaw tale, made alive by the skill of a great novelist.\\n\\n   \n",
       "407                                                                                                                                                                                                                                                                                                                                                                                                                                                                                                                                                                                                                                                                                                                                                                                                                                                                                                                                                                                                                                                                                                                                      Zarita, only daughter of the town magistrate, lives a life of wealth and privilege. Indulged by her parents, she is free to spend her days as she pleases, enjoying herself in the company of an eligible young nobleman, horse riding, or leisurely studying the arts.Saulo, son of a family reduced by circumstances to begging, witnesses his father wrongfully arrested and dealt with in the most horrifying way. Hauled off to be a slave at sea and pursued by pirates he encounters the ambitious mariner explorer, Christopher Columbus. Throughout his hardships Saulo is determined to survive - for he has sworn vengeance on the magistrate and his family.As Zarita's life also undergoes harsh changes the formidable and frightening Inquisition arrives in the area, bringing menacing shadows of suspicion with acts of cruel brutality - and ultimately, amid the intrigues of the court of Queen Isabella and King Ferdinand in the splendid Moorish city of Grenada, betrayal and revenge...   \n",
       "475                                                                                                                                                                                                                                                                                                                                                                                                                                                                                                                                                                                                                                                                                                                                                                                                                                                                                                                                                                                                                                                                                                                                                                                                                                                                                                                                                                                                                                                                                                                                                                                                                                                                                                                                        Young Daine's knack with horses gets her a job helping the royal horsemistress drive a herd of ponies to Tortall. Soon it becomes clear that Daine's talent, as much as she struggles to hide it, is downright magical. Horses and other animals not only obey, but listen to her words. Daine, though, will have to learn to trust humans before she can come to terms with her powers, her past, and herself.   \n",
       "734                                                                                                                                                                                                                                                                                                                                                                                                                                                                                                                                                                                                                                                                                                                                                                                                                                                                                                                                                                                                                                                                                                                                                                                                                                                                                                                                                                                                                                                                                                                                                                                                                                                                                                                                                                                                                                                                                                                                                                             With the date for the horse show drawing near, Stevie plans to win as many categories as possible, Carole vows to beat Cam Nelson, and Lisa is determined to ride Prancer.   \n",
       "...                                                                                                                                                                                                                                                                                                                                                                                                                                                                                                                                                                                                                                                                                                                                                                                                                                                                                                                                                                                                                                                                                                                                                                                                                                                                                                                                                                                                                                                                                                                                                                                                                                                                                                                                                                                                                                                                                                                                                                                                                                                                                                                                                    ...   \n",
       "25590                                                                                                                                                                                                                                                                                                                                                                                                                                                                                                                                                                                                                                                                                                                                                                                                                                                                                                                                                                                                                                               \"Blowing out the exhale, he tipped his hat at the few still-breathing horses. 'Don't worry; you'll be dead 'fore the buzzards gather to pick at ya.' Parker squinted up at the sun and saw buzzards were circling overhead already. 'I think, ' he laughed cruelly.\" Lara and Lainy survived foster care and all its horrors, but the experience left them incomplete in that they had no knowledge of the people they came from. Unknowingly, until now, each of them has had a reoccurring dream for more years than they can remember-the same dream. When the girls are regressed by a therapist anxious to publish their story, they learn shocking details about themselves, an unsolved murder in Bodie, California, and a massive cover-up. They want to investigate-but a mining executive can't allow the \"Dream Sisters\" to go poking around Bodie, anymore than he could allow the therapist to go public and threaten his thirty-five million dollar deal. Are the \"Bad Men From Bodie\" really dead? Join Lainy and Lara as they dig up shocking secrets in Bodie. Based on a true story.   \n",
       "25768                                       Kindle Unlimited and Kindle Prime Member can load this book for FREE!   **** Read On Your PC, Mac, Smartphone, Tablet Or Kindle! ****    The Horse Dealer’s Bargain for A Bride Elizabeth’s a horse dealer and expert in the wilds of Texas in the late 1800’s. She’s not your typical shrinking violet. Instead she’s a tough and beautiful pioneer woman. She’s also a savvy businesswoman who knows a good horse and at what price to sell him/her. She’s an excellent rider, a tough negotiator and an all-round broad.  Duke is just as independent. He comes from a poor, rough background and has to make his way on his own. He’s a ruthless negotiator and he’s managed to get a wide array of clients in Texas. The two horse dealers finally meet at an auction and they’re immediately attracted to and repelled by each other.  But, out of necessity, they decide to work together. Thus begins a series of adventures and misadventures where Liz and Duke are forced to bail each other out of danger and tough out the hardships of life on the road. They eventually discover that they compliment each other and make a fine team. Plus, their sizzling chemistry is too hot to ignore. Both are hot blooded and passionate people and together they create fire. Their attraction is too hard to ignore and eventually they try to negotiate a business and romantic partnership – but not before some really creative problem solving to bail them out of their worst catastrophe yet!  A sexy romance with a lot of hot love scenes, adventure and the magic of the old West. There’s a plucky heroine that readers will love and a smoldering hot cowboy. Plenty of chemistry. A fun read with lots of old timey atmosphere.   Grab your copy NOW!  JJ Fox  You can find \"JJ Fox Sweet Western Romance The Series\" as below.  Cowboy's Bride : JJ Fox Sweet Western Romance The Series Book 1  The Billionaire Rancher’s Bargain for A Bride : JJ Fox Sweet Western Romance The Series Book 2  The Horse Dealer’s Bargain for A Bride : JJ Fox Sweet Western Romance The Series Book 3    \n",
       "25796                                                                                                                                                                                                                                                                                                                                                                                                                                                                                                                                                                                                                                                                                                                                                                                                                                                                                                                                     From Katrina Kittle, critically acclaimed author of The Kindness of Strangers, comes a wry and moving story of forgiveness, flexibility, happiness, and the art of moving on.   Veterinarian Cami Anderson has hit a rough patch. Stymied by her recent divorce, she wonders if there are secret ingredients to a happy, long-lasting marriage or if the entire institution is outdated and obsolete. Couples all around her are approaching important milestones. Her parents are preparing to celebrate their fiftieth anniversary. Her brother and his partner find their marriage dreams legally blocked. Her former sister-in-law—still her best friend—is newly engaged. The youthfully exuberant romance of her teenage daughter is developing complications. And three separate men—including her ex-husband—are becoming entangled in Cami's messy post-marital love life.   But as she struggles to come to terms with her own doubts amid this chaotic circus of relationships, Cami finds strange comfort in an unexpected confidant: an angry, unpredictable horse in her care. With the help of her equine soul mate, she begins to make sense of marriage's great mysteries—and its disconnects.    \n",
       "25857    An elegantly crafted, utterly enchanting debut novel set in a mystical, exotic world, in which a gifted young girl charms a sultan and changes the course of an empire's history    Late in the summer of 1877, a flock of purple-and-white hoopoes suddenly appears over the town of Constanta on the Black Sea, and Eleonora Cohen is ushered into the world by a mysterious pair of Tartar midwives who arrive just minutes before her birth. \"They had read the signs, they said: a sea of horses, a conference of birds, the North Star in alignment with the moon. It was a prophecy that their last king had given on his deathwatch.\" But joy is mixed with tragedy, for Eleonora's mother dies soon after the birth.   Raised by her doting father, Yakob, a carpet merchant, and her stern, resentful stepmother, Ruxandra, Eleonora spends her early years daydreaming and doing housework—until the moment she teaches herself to read, and her father recognizes that she is an extraordinarily gifted child, a prodigy.   When Yakob sets off by boat for Stamboul on business, eight-year-old Eleonora, unable to bear the separation, stows away in one of his trunks. On the shores of the Bosporus, in the house of her father's business partner, Moncef Bey, a new life awaits. Books, backgammon, beautiful dresses and shoes, markets swarming with color and life—the imperial capital overflows with elegance, and mystery. For in the narrow streets of Stamboul—a city at the crossroads of the world—intrigue and gossip are currency, and people are not always what they seem. Eleonora's tutor, an American minister and educator, may be a spy. The kindly though elusive Moncef Bey has a past history of secret societies and political maneuvering. And what is to be made of the eccentric, charming Sultan Abdulhamid II himself, beleaguered by friend and foe alike as his unwieldy, multiethnic empire crumbles?   The Oracle of Stamboul is a marvelously evocative, magical historical novel that will transport readers to another time and place—romantic, exotic, yet remarkably similar to our own.    \n",
       "26072                                                                                                                                                                                                                                                                                                                                                                                                                                                                                                                                                                                                                                                                                                                                                                                                                                                                                                                                                                                                                                                                                                                                                                                                                                                                                                                                                                                                                                                                                                                                                            \\nFlame was a dream horse!\\nSteve Duncan had a haunting vision of finding a magnificent red stallion... and finally discovered him in a hidden island paradise. But the giant horse was wild and unapproachable. Then Steve saved Flame from a horrible death, and a miraculous friendship began - changing both their lives forever. . . .This Island Stallion story is part of Walter Farley's famous Black Stallion series, which has long thrilled horse lovers of all ages. Full of action, excitement, and suspense, the books have sold more than twelve million copies worldwide.   \n",
       "\n",
       "                                                                                       Url  \n",
       "87                            https://www.goodreads.com/book/show/8198230-written-in-stone  \n",
       "178              https://www.goodreads.com/book/show/110090.True_History_of_the_Kelly_Gang  \n",
       "407                https://www.goodreads.com/book/show/7039746-prisoner-of-the-inquisition  \n",
       "475                                   https://www.goodreads.com/book/show/13836.Wild_Magic  \n",
       "734                                 https://www.goodreads.com/book/show/2110475.Show_Horse  \n",
       "...                                                                                    ...  \n",
       "25590                                   https://www.goodreads.com/book/show/18179259-bodie  \n",
       "25768  https://www.goodreads.com/book/show/25372804-the-horse-dealer-s-bargain-for-a-bride  \n",
       "25796             https://www.goodreads.com/book/show/7294160-the-blessings-of-the-animals  \n",
       "25857                   https://www.goodreads.com/book/show/8584912-the-oracle-of-stamboul  \n",
       "26072                        https://www.goodreads.com/book/show/99738.The_Island_Stallion  \n",
       "\n",
       "[226 rows x 3 columns]"
      ]
     },
     "execution_count": 82,
     "metadata": {},
     "output_type": "execute_result"
    }
   ],
   "source": [
    "# we still have to print the table without the newlines \n",
    "\n",
    "df.iloc[results][['bookTitle', 'Plot', 'Url']]"
   ]
  }
 ],
 "metadata": {
  "kernelspec": {
   "display_name": "Python 3",
   "language": "python",
   "name": "python3"
  },
  "language_info": {
   "codemirror_mode": {
    "name": "ipython",
    "version": 3
   },
   "file_extension": ".py",
   "mimetype": "text/x-python",
   "name": "python",
   "nbconvert_exporter": "python",
   "pygments_lexer": "ipython3",
   "version": "3.8.3"
  }
 },
 "nbformat": 4,
 "nbformat_minor": 4
}
