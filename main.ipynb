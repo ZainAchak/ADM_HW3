{
 "cells": [
  {
   "cell_type": "markdown",
   "metadata": {},
   "source": [
    "# ADM Homework - 3\n",
    "#### Goal of the homework: Build a search engine over the \"best books ever\" list of GoodReads. "
   ]
  },
  {
   "cell_type": "markdown",
   "metadata": {},
   "source": [
    "### 1. Data collection\n",
    "*For this homework, there is no provided dataset, but you have to build our own. Our search engine will run on text documents.*"
   ]
  },
  {
   "cell_type": "code",
   "execution_count": 1,
   "metadata": {},
   "outputs": [
    {
     "name": "stdout",
     "output_type": "stream",
     "text": [
      "Python Version:  3.8.5\n"
     ]
    }
   ],
   "source": [
    "from platform import python_version\n",
    "print(\"Python Version: \",python_version())"
   ]
  },
  {
   "cell_type": "markdown",
   "metadata": {},
   "source": [
    "#### 1.1 Get the list of books\n",
    "*We start from the list of books to include in your corpus of documents. In particular, we focus on the best books ever list. From this list we want to collect the url associated to each book in the list. As you realize, the list is long and splitted in many pages. We ask you to retrieve only the urls of the books listed in the **First 300 pages**.*\n",
    "\n",
    "*The output of this step is a **.txt** file whose single line corresponds to a **Book's URL**.*"
   ]
  },
  {
   "cell_type": "code",
   "execution_count": 8,
   "metadata": {},
   "outputs": [],
   "source": [
    "# Import Libraries\n",
    "from bs4 import BeautifulSoup as bsp\n",
    "from selenium import webdriver #Programmatic way to use Browser\n",
    "from selenium.webdriver.common.keys import Keys\n",
    "from webdriver_manager.firefox import GeckoDriverManager\n",
    "import time\n",
    "import pickle\n",
    "import os\n",
    "import re\n",
    "import csv\n",
    "import pandas as pd\n",
    "from IPython.display import clear_output\n",
    "from functions import findUrls,visualize, findBookUrls,carwlBooks,remove_tags,Parse_Web_Pages,Parse_Data,executeQuery,read_data,find_set,clean_info\n",
    "#driver = webdriver.Firefox(executable_path=GeckoDriverManager().install())"
   ]
  },
  {
   "cell_type": "code",
   "execution_count": 6,
   "metadata": {},
   "outputs": [],
   "source": [
    "%load_ext autoreload\n",
    "%autoreload 2"
   ]
  },
  {
   "cell_type": "code",
   "execution_count": null,
   "metadata": {},
   "outputs": [],
   "source": [
    "nl.download('stopwords')\n",
    "nl.download('wordnet')\n",
    "#Below given \"href\" is the Start page for the the Target link the get books URL's from all pages.\n",
    "\n",
    "#In the funciton \"findBooksUrls\" will dynamically change the page for Upcomming Pages \n",
    "href = \"https://www.goodreads.com/list/show/1.Best_Books_Ever?page=1\"\n",
    "\n",
    "Urls_Dic = findBookUrls(href,driver,300)\n",
    "\n",
    "# Given Below is the file path to save the final dictionary to the given PATH.\n",
    "DictionaryPKL = open(r\"C:\\Users\\Zain\\Desktop\\ROMA\\Sapienza\\ADM\\HW3\\300PagesDic.pkl\",\"wb\")\n",
    "pickle.dump(Urls_Dic,DictionaryPKL)\n",
    "DictionaryPKL.close()"
   ]
  },
  {
   "cell_type": "code",
   "execution_count": 2,
   "metadata": {},
   "outputs": [],
   "source": [
    "with open(r'C:\\Users\\Zain\\Desktop\\ROMA\\Sapienza\\ADM\\HW3\\300PagesDic.pkl', 'rb') as handle:\n",
    "    pagesDict = pickle.load(handle)\n",
    "\n",
    "with open(r'C:\\Users\\Zain\\Desktop\\ROMA\\Sapienza\\ADM\\HW3\\300Pages_UrlsList.txt','w+') as File:\n",
    "    FlatList = [ item for elem in list(pagesDict.values()) for item in elem]\n",
    "    #File.write('\\n'.join(FlatList))"
   ]
  },
  {
   "cell_type": "code",
   "execution_count": 3,
   "metadata": {},
   "outputs": [
    {
     "data": {
      "text/plain": [
       "['/book/show/2767052-the-hunger-games',\n",
       " '/book/show/2.Harry_Potter_and_the_Order_of_the_Phoenix',\n",
       " '/book/show/2657.To_Kill_a_Mockingbird',\n",
       " '/book/show/1885.Pride_and_Prejudice',\n",
       " '/book/show/41865.Twilight',\n",
       " '/book/show/19063.The_Book_Thief',\n",
       " '/book/show/170448.Animal_Farm',\n",
       " '/book/show/11127.The_Chronicles_of_Narnia',\n",
       " '/book/show/30.J_R_R_Tolkien_4_Book_Boxed_Set',\n",
       " '/book/show/11870085-the-fault-in-our-stars']"
      ]
     },
     "execution_count": 3,
     "metadata": {},
     "output_type": "execute_result"
    }
   ],
   "source": [
    "# Now as we have got all the links to the indivisual books from all pages\n",
    "# Given below is the example how the Data is stored in the dictionary\n",
    "# Dictionary ==> pagesDict[key,values] where [key=page No, values=Books Urls] \n",
    "pagesDict['page1'][:10]"
   ]
  },
  {
   "cell_type": "markdown",
   "metadata": {},
   "source": [
    "<br><br>\n",
    "#### 1.2. Crawl books\n",
    "*Once you get all the urls in the first 300 pages of the list, you:*<br>\n",
    "<br>\n",
    "*Download the html corresponding to each of the collected urls.*<br>\n",
    "**After you collect a single page, immediatly save its html in a file. In this way, if your program stops, for any reason, you will not loose the data collected up to the stopping point. More details in Important (2).**<br>\n",
    "Organize the entire set of downloaded html pages into folders. Each folder will contain the htmls of the books in page 1, page 2, ... of the list of books.<br><br>\n",
    "**Important!!<br><br>\n",
    "Due to the large amount of pages you need to download, we give you the following tipds that help you to speed up some time-consuming operations.**<br>\n",
    "<br>\n",
    "**[Save time downloading files]** You are asked to crawl tons of pages, and this will take a lot of time. To speed up the operation, we suggest you to work in parallel with your group's colleagues. In particular, using the same code, each component of the group can be in charge of downloading a subset of pages (e.g., the first 100). PAY ATTENTION: Once obtained all the pages, merge your results in a unique dataset. In fact, the search engine must look up for results in the whole set of documents.\n",
    "<br><br>\n",
    "**[Save your data]** It is not nice to restart a crawling procedure, given its runtime. For this reason, it is extremely important that for every time you crawl a page, you must save it with the name article_i.html, where i corresponds to the number of articles you have already downloaded. In such way, if something goes bad, you can restart your crawling procedure from the i+1-th document."
   ]
  },
  {
   "cell_type": "code",
   "execution_count": 3,
   "metadata": {},
   "outputs": [
    {
     "name": "stdout",
     "output_type": "stream",
     "text": [
      "page1==> [File:0 Downloaded]\n",
      "page1==> [File:1 Downloaded]\n",
      "page1==> [File:2 Downloaded]\n"
     ]
    }
   ],
   "source": [
    "#Enter Start and End Range of Pages\n",
    "#This will take a range of pages and will download it in the local directory\n",
    "Start = 1\n",
    "End = 1\n",
    "\n",
    "#Change the Path here\n",
    "FilePath = r\"Users\\Zain\\Desktop\\ROMA\\Sapienza\\ADM\\HW3\"\n",
    "\n",
    "#Crawlbooks funciton Crawl all links and downlaod the HTML paegs to local directory \n",
    "carwlBooks(FilePath,Start,End)\n",
    "\n",
    "#Given below OUTPUT is just a sample for downloading 3 HTML files to the FilePath given above"
   ]
  },
  {
   "cell_type": "markdown",
   "metadata": {},
   "source": [
    "<br><br>\n",
    "#### 1.3 Parse downloaded pages\n",
    "At this point, you should have all the html documents about the books of interest and you can start to extract the books informations. The list of information we desire for each book are the following:\n",
    "<br><br>\n",
    "- Title (to save as bookTitle)\n",
    "- Series (to save as bookSeries)\n",
    "- Author(s), the first box in the picture below (to save as bookAuthors)\n",
    "- Ratings, average stars (to save as ratingValue)\n",
    "- Number of givent ratings (to save as ratingCount)\n",
    "- Number of reviews (to save as reviewCount)\n",
    "- The entire plot (to save as Plot)\n",
    "- Number of pages (to save as NumberofPages)\n",
    "- Published (Publishing Date)\n",
    "- Characters\n",
    "- Setting\n",
    "- Url"
   ]
  },
  {
   "cell_type": "code",
   "execution_count": null,
   "metadata": {},
   "outputs": [],
   "source": [
    "Start = 0 #Start point of your pages\n",
    "End = 0 #End point of your downloaded webpages\n",
    "File_path = r\"C:\\Users\\Zain\\Desktop\\ROMA\\Sapienza\\ADM\\HW3\"\n",
    "\n",
    "#Parse_Data will retrieve all the Data from the downloaded pages and will save it as a TSV file\n",
    "Parse_Data(File_path,Start,End)"
   ]
  },
  {
   "cell_type": "code",
   "execution_count": 4,
   "metadata": {},
   "outputs": [
    {
     "data": {
      "text/html": [
       "<div>\n",
       "<style scoped>\n",
       "    .dataframe tbody tr th:only-of-type {\n",
       "        vertical-align: middle;\n",
       "    }\n",
       "\n",
       "    .dataframe tbody tr th {\n",
       "        vertical-align: top;\n",
       "    }\n",
       "\n",
       "    .dataframe thead th {\n",
       "        text-align: right;\n",
       "    }\n",
       "</style>\n",
       "<table border=\"1\" class=\"dataframe\">\n",
       "  <thead>\n",
       "    <tr style=\"text-align: right;\">\n",
       "      <th></th>\n",
       "      <th>Unnamed: 0</th>\n",
       "      <th>bookTitle</th>\n",
       "      <th>bookSeries</th>\n",
       "      <th>bookAuthors</th>\n",
       "      <th>ratingValue</th>\n",
       "      <th>ratingCount</th>\n",
       "      <th>reviewCount</th>\n",
       "      <th>Plot_Values</th>\n",
       "      <th>Plot</th>\n",
       "      <th>NumberofPages</th>\n",
       "      <th>Publishing_Date</th>\n",
       "      <th>Characters</th>\n",
       "      <th>Setting</th>\n",
       "      <th>Url</th>\n",
       "    </tr>\n",
       "  </thead>\n",
       "  <tbody>\n",
       "    <tr>\n",
       "      <th>0</th>\n",
       "      <td>0</td>\n",
       "      <td>MARS</td>\n",
       "      <td>NaN</td>\n",
       "      <td>Jasmine  Rose</td>\n",
       "      <td>4.38</td>\n",
       "      <td>69</td>\n",
       "      <td>13</td>\n",
       "      <td>{5: '47', 4: '7', 3: '11', 2: '2', 1: '2'}</td>\n",
       "      <td>❝�� my heart has become a planetand you are th...</td>\n",
       "      <td>NaN</td>\n",
       "      <td>2014</td>\n",
       "      <td>NaN</td>\n",
       "      <td>NaN</td>\n",
       "      <td>https://www.goodreads.com/book/show/23279048-mars</td>\n",
       "    </tr>\n",
       "    <tr>\n",
       "      <th>1</th>\n",
       "      <td>1</td>\n",
       "      <td>Black Box</td>\n",
       "      <td>NaN</td>\n",
       "      <td>Cassia Leo</td>\n",
       "      <td>4.02</td>\n",
       "      <td>6244</td>\n",
       "      <td>903</td>\n",
       "      <td>{5: '2297', 4: '2320', 3: '1181', 2: '345', 1:...</td>\n",
       "      <td>♥️ Three fateful encounters....♥️ Two heart-br...</td>\n",
       "      <td>400.0</td>\n",
       "      <td>February 28th 2014</td>\n",
       "      <td>['Mikki Gladstone', 'William \"Crush\" Slayer']</td>\n",
       "      <td>['Boston, Massachusetts']</td>\n",
       "      <td>https://www.goodreads.com/book/show/29539518-b...</td>\n",
       "    </tr>\n",
       "    <tr>\n",
       "      <th>2</th>\n",
       "      <td>2</td>\n",
       "      <td>Ruin and Rising</td>\n",
       "      <td>The Shadow and Bone Trilogy #3</td>\n",
       "      <td>Leigh Bardugo</td>\n",
       "      <td>4.09</td>\n",
       "      <td>158624</td>\n",
       "      <td>19396</td>\n",
       "      <td>{5: '62107', 4: '59607', 3: '27962', 2: '6810'...</td>\n",
       "      <td>▶ \\nAlternative Cover Edition #1\\nThe capital ...</td>\n",
       "      <td>422.0</td>\n",
       "      <td>June 17th 2014</td>\n",
       "      <td>['Alina Starkov', 'Malyen Oretsev', 'Darkling'...</td>\n",
       "      <td>['Ravka ']</td>\n",
       "      <td>https://www.goodreads.com/book/show/14061957-r...</td>\n",
       "    </tr>\n",
       "    <tr>\n",
       "      <th>3</th>\n",
       "      <td>3</td>\n",
       "      <td>Shadow and Bone</td>\n",
       "      <td>The Shadow and Bone Trilogy #1</td>\n",
       "      <td>Leigh Bardugo</td>\n",
       "      <td>3.99</td>\n",
       "      <td>313190</td>\n",
       "      <td>32760</td>\n",
       "      <td>{5: '108466', 4: '121286', 3: '62748', 2: '146...</td>\n",
       "      <td>▶ \\nAlternative Cover Edition #1\\nSurrounded b...</td>\n",
       "      <td>358.0</td>\n",
       "      <td>June 5th 2012</td>\n",
       "      <td>['Alina Starkov', 'Malyen Oretsev', 'Darkling'...</td>\n",
       "      <td>['Ravka ']</td>\n",
       "      <td>https://www.goodreads.com/book/show/10194157-s...</td>\n",
       "    </tr>\n",
       "    <tr>\n",
       "      <th>4</th>\n",
       "      <td>4</td>\n",
       "      <td>An Ember in the Ashes</td>\n",
       "      <td>An Ember in the Ashes #1</td>\n",
       "      <td>Sabaa Tahir</td>\n",
       "      <td>4.27</td>\n",
       "      <td>184959</td>\n",
       "      <td>23147</td>\n",
       "      <td>{5: '91602', 4: '63735', 3: '21164', 2: '5487'...</td>\n",
       "      <td>▶ \\nAlternative Cover Edition #1\\nLaia is a sl...</td>\n",
       "      <td>446.0</td>\n",
       "      <td>February 9th 2016</td>\n",
       "      <td>['Laia', 'Elias Veturius', 'Helene Aquilla', '...</td>\n",
       "      <td>NaN</td>\n",
       "      <td>https://www.goodreads.com/book/show/27774758-a...</td>\n",
       "    </tr>\n",
       "  </tbody>\n",
       "</table>\n",
       "</div>"
      ],
      "text/plain": [
       "   Unnamed: 0              bookTitle                      bookSeries  \\\n",
       "0           0                   MARS                             NaN   \n",
       "1           1              Black Box                             NaN   \n",
       "2           2        Ruin and Rising  The Shadow and Bone Trilogy #3   \n",
       "3           3        Shadow and Bone  The Shadow and Bone Trilogy #1   \n",
       "4           4  An Ember in the Ashes        An Ember in the Ashes #1   \n",
       "\n",
       "     bookAuthors  ratingValue  ratingCount  reviewCount  \\\n",
       "0  Jasmine  Rose         4.38           69           13   \n",
       "1     Cassia Leo         4.02         6244          903   \n",
       "2  Leigh Bardugo         4.09       158624        19396   \n",
       "3  Leigh Bardugo         3.99       313190        32760   \n",
       "4    Sabaa Tahir         4.27       184959        23147   \n",
       "\n",
       "                                         Plot_Values  \\\n",
       "0         {5: '47', 4: '7', 3: '11', 2: '2', 1: '2'}   \n",
       "1  {5: '2297', 4: '2320', 3: '1181', 2: '345', 1:...   \n",
       "2  {5: '62107', 4: '59607', 3: '27962', 2: '6810'...   \n",
       "3  {5: '108466', 4: '121286', 3: '62748', 2: '146...   \n",
       "4  {5: '91602', 4: '63735', 3: '21164', 2: '5487'...   \n",
       "\n",
       "                                                Plot  NumberofPages  \\\n",
       "0  ❝�� my heart has become a planetand you are th...            NaN   \n",
       "1  ♥️ Three fateful encounters....♥️ Two heart-br...          400.0   \n",
       "2  ▶ \\nAlternative Cover Edition #1\\nThe capital ...          422.0   \n",
       "3  ▶ \\nAlternative Cover Edition #1\\nSurrounded b...          358.0   \n",
       "4  ▶ \\nAlternative Cover Edition #1\\nLaia is a sl...          446.0   \n",
       "\n",
       "      Publishing_Date                                         Characters  \\\n",
       "0                2014                                                NaN   \n",
       "1  February 28th 2014      ['Mikki Gladstone', 'William \"Crush\" Slayer']   \n",
       "2      June 17th 2014  ['Alina Starkov', 'Malyen Oretsev', 'Darkling'...   \n",
       "3       June 5th 2012  ['Alina Starkov', 'Malyen Oretsev', 'Darkling'...   \n",
       "4   February 9th 2016  ['Laia', 'Elias Veturius', 'Helene Aquilla', '...   \n",
       "\n",
       "                     Setting  \\\n",
       "0                        NaN   \n",
       "1  ['Boston, Massachusetts']   \n",
       "2                 ['Ravka ']   \n",
       "3                 ['Ravka ']   \n",
       "4                        NaN   \n",
       "\n",
       "                                                 Url  \n",
       "0  https://www.goodreads.com/book/show/23279048-mars  \n",
       "1  https://www.goodreads.com/book/show/29539518-b...  \n",
       "2  https://www.goodreads.com/book/show/14061957-r...  \n",
       "3  https://www.goodreads.com/book/show/10194157-s...  \n",
       "4  https://www.goodreads.com/book/show/27774758-a...  "
      ]
     },
     "execution_count": 4,
     "metadata": {},
     "output_type": "execute_result"
    }
   ],
   "source": [
    "import pandas as pd\n",
    "dataset = pd.read_csv(\"Dataset.tsv\",sep='\\t')\n",
    "dataset.head()"
   ]
  },
  {
   "cell_type": "markdown",
   "metadata": {},
   "source": [
    " ##### Filtering all the  english plots"
   ]
  },
  {
   "cell_type": "markdown",
   "metadata": {},
   "source": [
    "Here we call the function `english_plots` to clean the dataset and drop all the books with corrupted pages. We then the whole dataset with the new one filtered."
   ]
  },
  {
   "cell_type": "code",
   "execution_count": null,
   "metadata": {},
   "outputs": [],
   "source": [
    "dataset_filterd=english_plots(dataset)\n",
    "dataset_filtered.to_csv('Dataset_final_filtered.tsv',index=False)"
   ]
  },
  {
   "cell_type": "code",
   "execution_count": 9,
   "metadata": {},
   "outputs": [],
   "source": [
    "#Function \"read_data\" will get Filtered Dataset, Dictionary of Vocabulary and Inderted Index Dictionary as ID \n",
    "dataset,vocabulary,ID,ID_tfidf = read_data()"
   ]
  },
  {
   "cell_type": "markdown",
   "metadata": {},
   "source": [
    "Our final datset is about 26000 rows."
   ]
  },
  {
   "cell_type": "code",
   "execution_count": 31,
   "metadata": {},
   "outputs": [
    {
     "data": {
      "text/plain": [
       "26242"
      ]
     },
     "execution_count": 31,
     "metadata": {},
     "output_type": "execute_result"
    }
   ],
   "source": [
    "len(dataset)"
   ]
  },
  {
   "cell_type": "markdown",
   "metadata": {},
   "source": [
    "<br><br><br>\n",
    "### Question 2\n",
    "*Now, we want to create two different **Search Engines** that, given as input a query, return the books that match the query*.\n",
    "\n",
    "First, you must pre-process all the information collected for each book by\n",
    "\n",
    "* Removing stopwords\n",
    "* Removing punctuation\n",
    "* Stemming\n",
    "\n",
    "Anything else you think it's needed\n",
    "For this purpose, you can use the **nltk library**."
   ]
  },
  {
   "cell_type": "code",
   "execution_count": null,
   "metadata": {},
   "outputs": [],
   "source": [
    "from functions import clean_info"
   ]
  },
  {
   "cell_type": "markdown",
   "metadata": {},
   "source": [
    "The function `clean_info` cleans the plots in the dataset."
   ]
  },
  {
   "cell_type": "code",
   "execution_count": null,
   "metadata": {},
   "outputs": [],
   "source": [
    "cleaned_plots=[]\n",
    "plots=dataset['Plot']\n",
    "n=len(plots)\n",
    "\n",
    "for i in range(n):\n",
    "    p=clean_info(plots[i])\n",
    "    cleaned_plots.append(p)"
   ]
  },
  {
   "cell_type": "markdown",
   "metadata": {},
   "source": [
    "We then save the results in a separated file, which we will later use to create the vocabulary."
   ]
  },
  {
   "cell_type": "code",
   "execution_count": null,
   "metadata": {},
   "outputs": [],
   "source": [
    "with open('clean_plots.pkl', 'wb') as f:\n",
    "    pickle.dump(cleaned_plots, f, pickle.HIGHEST_PROTOCOL)\n",
    "    f.close()"
   ]
  },
  {
   "cell_type": "markdown",
   "metadata": {},
   "source": [
    "\n",
    "#### 2.1 Conjunctive query\n",
    "*For the first version of the search engine, we narrow our interest on the Plot of each document. It means that you will evaluate queries only with respect to the book's plot.*<br>\n",
    "\n",
    "##### <br>2.1.1 Create your index!\n",
    "*Before building the index,<br>*\n",
    "<br>\n",
    "Create a file named **vocabulary**, in the format you prefer, that maps each word to an integer (term_id).<br>\n",
    "Then, the first brick of your homework is to create the **Inverted Index**. It will be a dictionary of this format:<br>\n",
    "<br>\n",
    "{<br>\n",
    "term_id_1:[document_1, document_2, document_4],<br>\n",
    "term_id_2:[document_1, document_3, document_5, document_6],<br>\n",
    "...}<br>\n",
    "where **document_i** is the id of a document that contains the word.<br>\n",
    "<br>\n",
    "Hint: Since you do not want to compute the inverted index every time you use the **Search Engine**, it is worth to think to store it in a separate file and load it in memory when needed.<br>"
   ]
  },
  {
   "cell_type": "markdown",
   "metadata": {},
   "source": [
    "#### Creating the vocabulary"
   ]
  },
  {
   "cell_type": "markdown",
   "metadata": {},
   "source": [
    "We map to numbers all of the words in `clean_plots.pkl` and save the results in a file called `vocabulary` to be able to import it each time we need it."
   ]
  },
  {
   "cell_type": "code",
   "execution_count": null,
   "metadata": {},
   "outputs": [],
   "source": [
    "#the map function is simple, each word is associated to a number from 1 to n (number of words we have)\n",
    "\n",
    "vocabulary={}\n",
    "index=1\n",
    "\n",
    "for p in cleaned_plots:\n",
    "    plot=p.split(' ')\n",
    "    for word in plot:\n",
    "        if word not in vocabulary:\n",
    "            vocabulary[word]=index\n",
    "            index+=1"
   ]
  },
  {
   "cell_type": "markdown",
   "metadata": {},
   "source": [
    "We save the vocabulary in a pickle file. "
   ]
  },
  {
   "cell_type": "code",
   "execution_count": null,
   "metadata": {},
   "outputs": [],
   "source": [
    "with open('vocabulary.pkl', 'wb') as f:\n",
    "    pickle.dump(vocabulary, f, pickle.HIGHEST_PROTOCOL)\n",
    "    f.close()"
   ]
  },
  {
   "cell_type": "markdown",
   "metadata": {},
   "source": [
    "The vocabulary contains about $94000 $ words, each of which is mapped to a number.\\\n",
    "Here are some examples:"
   ]
  },
  {
   "cell_type": "code",
   "execution_count": 66,
   "metadata": {
    "scrolled": true
   },
   "outputs": [
    {
     "data": {
      "text/plain": [
       "1"
      ]
     },
     "execution_count": 66,
     "metadata": {},
     "output_type": "execute_result"
    }
   ],
   "source": [
    "vocabulary['heart']"
   ]
  },
  {
   "cell_type": "code",
   "execution_count": 68,
   "metadata": {},
   "outputs": [
    {
     "data": {
      "text/plain": [
       "9"
      ]
     },
     "execution_count": 68,
     "metadata": {},
     "output_type": "execute_result"
    }
   ],
   "source": [
    "vocabulary['hicks-wilsonthere']"
   ]
  },
  {
   "cell_type": "code",
   "execution_count": 69,
   "metadata": {},
   "outputs": [
    {
     "data": {
      "text/plain": [
       "60"
      ]
     },
     "execution_count": 69,
     "metadata": {},
     "output_type": "execute_result"
    }
   ],
   "source": [
    "vocabulary['heart-breaking']"
   ]
  },
  {
   "cell_type": "markdown",
   "metadata": {},
   "source": [
    "#### Creating the Inverted Index"
   ]
  },
  {
   "cell_type": "markdown",
   "metadata": {},
   "source": [
    "We create the inverted index from the vocabulary and the cleaned plots."
   ]
  },
  {
   "cell_type": "code",
   "execution_count": null,
   "metadata": {},
   "outputs": [],
   "source": [
    "documents_ID=df['document_ID']\n",
    "# create an inverted index without tfidf\n",
    "'''\n",
    "ID={word_id:[doc_1,doc_2,.....]}\n",
    "'''\n",
    "n=len(cleaned_plots)\n",
    "ID=defaultdict(list)\n",
    "\n",
    "for i in range(n):\n",
    "    p=cleaned_plots[i].split(' ') \n",
    "    p=set(p)\n",
    "    for word in p:\n",
    "        ID[vocabulary[word]].append(documents_ID[i])    "
   ]
  },
  {
   "cell_type": "markdown",
   "metadata": {},
   "source": [
    "We save the inverted index in a pickle file."
   ]
  },
  {
   "cell_type": "code",
   "execution_count": null,
   "metadata": {},
   "outputs": [],
   "source": [
    "with open('ID.pkl', 'wb') as f:\n",
    "    pickle.dump(ID, f, pickle.HIGHEST_PROTOCOL)\n",
    "    f.close()"
   ]
  },
  {
   "cell_type": "markdown",
   "metadata": {},
   "source": [
    "An example:"
   ]
  },
  {
   "cell_type": "code",
   "execution_count": 11,
   "metadata": {},
   "outputs": [
    {
     "data": {
      "text/plain": [
       "[1,\n",
       " 890,\n",
       " 1332,\n",
       " 2101,\n",
       " 3597,\n",
       " 4518,\n",
       " 9721,\n",
       " 12003,\n",
       " 12573,\n",
       " 12935,\n",
       " 13261,\n",
       " 14043,\n",
       " 15814,\n",
       " 17313,\n",
       " 18441,\n",
       " 18545,\n",
       " 19521,\n",
       " 20327,\n",
       " 20447,\n",
       " 23316]"
      ]
     },
     "execution_count": 11,
     "metadata": {},
     "output_type": "execute_result"
    }
   ],
   "source": [
    "ID[60][:20]"
   ]
  },
  {
   "cell_type": "markdown",
   "metadata": {},
   "source": [
    "These are the first $20$ documents which contains the word *heart-breaking*."
   ]
  },
  {
   "cell_type": "markdown",
   "metadata": {},
   "source": [
    "##### <br><br> 2.1.2 Execute the query\n",
    "Given a query, that you let the user enter:<br>\n",
    "<br>\n",
    "**survival games<br>**<br>\n",
    "the Search Engine is supposed to return a list of documents.<br>\n",
    "<br>\n",
    "What documents do we want?<br>\n",
    "Since we are dealing with conjunctive queries (AND), each of the returned documents should contain all the words in the query. The final output of the query must return, if present, the following information for each of the selected documents:<br>\n",
    "<br>\n",
    "* bookTitle\n",
    "* Plot\n",
    "* Url"
   ]
  },
  {
   "cell_type": "code",
   "execution_count": 89,
   "metadata": {},
   "outputs": [],
   "source": [
    "from functions import find_query\n",
    "\n",
    "# to print the plots with the newlines\n",
    "pd.set_option('display.max_colwidth', None)"
   ]
  },
  {
   "cell_type": "markdown",
   "metadata": {},
   "source": [
    "Some examples:"
   ]
  },
  {
   "cell_type": "code",
   "execution_count": 90,
   "metadata": {},
   "outputs": [
    {
     "name": "stdout",
     "output_type": "stream",
     "text": [
      "Search : survival games\n"
     ]
    },
    {
     "data": {
      "text/html": [
       "<div>\n",
       "<style scoped>\n",
       "    .dataframe tbody tr th:only-of-type {\n",
       "        vertical-align: middle;\n",
       "    }\n",
       "\n",
       "    .dataframe tbody tr th {\n",
       "        vertical-align: top;\n",
       "    }\n",
       "\n",
       "    .dataframe thead th {\n",
       "        text-align: right;\n",
       "    }\n",
       "</style>\n",
       "<table border=\"1\" class=\"dataframe\">\n",
       "  <thead>\n",
       "    <tr style=\"text-align: right;\">\n",
       "      <th></th>\n",
       "      <th>bookTitle</th>\n",
       "      <th>Plot</th>\n",
       "      <th>Url</th>\n",
       "    </tr>\n",
       "  </thead>\n",
       "  <tbody>\n",
       "    <tr>\n",
       "      <th>0</th>\n",
       "      <td>Altar of Bones</td>\n",
       "      <td>“They didn’t have to kill him…He never drank from the altar of bones.”  Cryptic dying words from a murdered homeless woman in present day San Francisco unlock a decades-buried secret that changed history.  Now a pair of ruthless assassins are sent to cut the few living \"loose ends.\"  And a young, resourceful woman on the run encounters a determined man with his own connected past and vengeful agenda.  Forced to partner for survival and answers, a fast-paced and deadly game of cat and mouse ensues, taking them across the globe from the winding streets of Paris to the faded palaces of Budapest to the frozen lakes of Mongolia...where destiny, passion, and further betrayal await them.  The Altar of Bones has it all: The Russian mob.  KGB spies.  Presidential assasination.  A doomed Hollywood legend.  Deathbed confessions.  Corrosive power.  Shattered families.  Guardians of an ancient religious icon housing a secret others will kill to possess.  The dark promise of immortality. And it delivers on its ambitious premise to leave you stunned and breathless at the end.</td>\n",
       "      <td>https://www.goodreads.com/book/show/9376703-altar-of-bones</td>\n",
       "    </tr>\n",
       "    <tr>\n",
       "      <th>1</th>\n",
       "      <td>Akarnae</td>\n",
       "      <td>With just one step, sixteen-year-old Alexandra Jennings's world changes—literally.Dreading her first day at a new school, Alex is stunned when she walks through a doorway and finds herself stranded in Medora, a fantasy world full of impossibilities. Desperate to return home, she learns that only a man named Professor Marselle can help her... but he's missing.While waiting for him to reappear, Alex attends Akarnae Academy, Medora's boarding school for teenagers with extraordinary gifts. She soon starts to enjoy her bizarre new world and the friends who embrace her as one of their own, but strange things are happening at Akarnae, and Alex can't ignore her fear that something unexpected... something sinister... is looming.An unwilling pawn in a deadly game, Alex's shoulders bear the crushing weight of an entire race's survival. Only she can save the Medorans, but what if doing so prevents her from ever returning home?Will Alex risk her entire world—and maybe even her life—to save Medora?</td>\n",
       "      <td>https://www.goodreads.com/book/show/23569787-akarnae</td>\n",
       "    </tr>\n",
       "    <tr>\n",
       "      <th>2</th>\n",
       "      <td>Mud Vein</td>\n",
       "      <td>When reclusive novelist Senna Richards wakes up on her thirty-third birthday, everything has changed. Caged behind an electrical fence, locked in a house in the middle of the snow, Senna is left to decode the clues to find out why she was taken. If she wants her freedom, she has to take a close look at her past. But, her past has a heartbeat... and her kidnapper is nowhere to be found. With her survival hanging by a thread, Senna soon realizes this is a game. A dangerous one. Only the truth can set her free.</td>\n",
       "      <td>https://www.goodreads.com/book/show/18246727-mud-vein</td>\n",
       "    </tr>\n",
       "    <tr>\n",
       "      <th>3</th>\n",
       "      <td>The Elephant Whisperer</td>\n",
       "      <td>When South African conservationist Lawrence Anthony was asked to accept a herd of 'rogue' elephants on his Thula Thula game reserve in South Africa, his commonsense told him to refuse. But he was the herd's last chance of survival - notorious escape artists, they would all be killed if Lawrence wouldn't take them. He agreed, but before arrangements for the move could be completed the animals broke out again and the matriarch and her baby were shot. The remaining elephants were traumatised, dangerous, and very angry. As soon as they arrived at Thula Thula they started planning their escape...As Lawrence battled to create a bond with the elephants and save them from execution, he came to realise that they had a lot to teach him about life, loyalty and freedom. Set against the background of life on the reserve, with unforgettable characters and exotic wildlife, this is a delightful book that will appeal to animal lovers everywhere.</td>\n",
       "      <td>https://www.goodreads.com/book/show/6375561-the-elephant-whisperer</td>\n",
       "    </tr>\n",
       "    <tr>\n",
       "      <th>4</th>\n",
       "      <td>Dom Wars: Round Six</td>\n",
       "      <td>When Gladiator Inc, an adult toy company expands their market to familiarize the ‘vanilla’ world with the elements of BDSM, the result is a pay-per-view reality show with video feeds streamed live to subscribers. The show, Dom Wars, is a competition to determine the Top Dom that will become the spokesperson for the company.  The contestants all wear cameras to film every moment and angle of the competition, while they complete various challenges to determine who has ultimately Dominated various elements of themselves.  The hero and heroine of the series, Lucian Bane and Tara Reese, have barely made it into the Sixth and Final Round of Dom Wars. This week-long Survival Round will determine the Top Dom, once and for all.  The contestants are taken to an uninhabited island, where they will have to cross formidable jungle terrain. First Dom to reach the boat anchored on the other side of the island wins the million dollars and the title.  Seems simple. Except Lucian’s old adversary, the Sadist Jase Duff from Round One, has been tasked with making sure none of the five teams make it to the boat. If he is successful, he wins the prize, only it's not money that Jase Duff cares about, its revenge on Lucian and Tara. And his sadistic need to inflict pain makes it game on.</td>\n",
       "      <td>https://www.goodreads.com/book/show/22912730-dom-wars</td>\n",
       "    </tr>\n",
       "  </tbody>\n",
       "</table>\n",
       "</div>"
      ],
      "text/plain": [
       "                bookTitle  \\\n",
       "0          Altar of Bones   \n",
       "1                 Akarnae   \n",
       "2                Mud Vein   \n",
       "3  The Elephant Whisperer   \n",
       "4     Dom Wars: Round Six   \n",
       "\n",
       "                                                                                                                                                                                                                                                                                                                                                                                                                                                                                                                                                                                                                                                                                                                                                                                                                                                                                                                                                                                                                                                                                                                                                                                                                                                                                                                                  Plot  \\\n",
       "0                                                                                                                                                                                                                “They didn’t have to kill him…He never drank from the altar of bones.”  Cryptic dying words from a murdered homeless woman in present day San Francisco unlock a decades-buried secret that changed history.  Now a pair of ruthless assassins are sent to cut the few living \"loose ends.\"  And a young, resourceful woman on the run encounters a determined man with his own connected past and vengeful agenda.  Forced to partner for survival and answers, a fast-paced and deadly game of cat and mouse ensues, taking them across the globe from the winding streets of Paris to the faded palaces of Budapest to the frozen lakes of Mongolia...where destiny, passion, and further betrayal await them.  The Altar of Bones has it all: The Russian mob.  KGB spies.  Presidential assasination.  A doomed Hollywood legend.  Deathbed confessions.  Corrosive power.  Shattered families.  Guardians of an ancient religious icon housing a secret others will kill to possess.  The dark promise of immortality. And it delivers on its ambitious premise to leave you stunned and breathless at the end.   \n",
       "1                                                                                                                                                                                                                                                                                              With just one step, sixteen-year-old Alexandra Jennings's world changes—literally.Dreading her first day at a new school, Alex is stunned when she walks through a doorway and finds herself stranded in Medora, a fantasy world full of impossibilities. Desperate to return home, she learns that only a man named Professor Marselle can help her... but he's missing.While waiting for him to reappear, Alex attends Akarnae Academy, Medora's boarding school for teenagers with extraordinary gifts. She soon starts to enjoy her bizarre new world and the friends who embrace her as one of their own, but strange things are happening at Akarnae, and Alex can't ignore her fear that something unexpected... something sinister... is looming.An unwilling pawn in a deadly game, Alex's shoulders bear the crushing weight of an entire race's survival. Only she can save the Medorans, but what if doing so prevents her from ever returning home?Will Alex risk her entire world—and maybe even her life—to save Medora?   \n",
       "2                                                                                                                                                                                                                                                                                                                                                                                                                                                                                                                                                                                                                                                                                                                                                                                                    When reclusive novelist Senna Richards wakes up on her thirty-third birthday, everything has changed. Caged behind an electrical fence, locked in a house in the middle of the snow, Senna is left to decode the clues to find out why she was taken. If she wants her freedom, she has to take a close look at her past. But, her past has a heartbeat... and her kidnapper is nowhere to be found. With her survival hanging by a thread, Senna soon realizes this is a game. A dangerous one. Only the truth can set her free.   \n",
       "3                                                                                                                                                                                                                                                                                                                                                       When South African conservationist Lawrence Anthony was asked to accept a herd of 'rogue' elephants on his Thula Thula game reserve in South Africa, his commonsense told him to refuse. But he was the herd's last chance of survival - notorious escape artists, they would all be killed if Lawrence wouldn't take them. He agreed, but before arrangements for the move could be completed the animals broke out again and the matriarch and her baby were shot. The remaining elephants were traumatised, dangerous, and very angry. As soon as they arrived at Thula Thula they started planning their escape...As Lawrence battled to create a bond with the elephants and save them from execution, he came to realise that they had a lot to teach him about life, loyalty and freedom. Set against the background of life on the reserve, with unforgettable characters and exotic wildlife, this is a delightful book that will appeal to animal lovers everywhere.   \n",
       "4  When Gladiator Inc, an adult toy company expands their market to familiarize the ‘vanilla’ world with the elements of BDSM, the result is a pay-per-view reality show with video feeds streamed live to subscribers. The show, Dom Wars, is a competition to determine the Top Dom that will become the spokesperson for the company.  The contestants all wear cameras to film every moment and angle of the competition, while they complete various challenges to determine who has ultimately Dominated various elements of themselves.  The hero and heroine of the series, Lucian Bane and Tara Reese, have barely made it into the Sixth and Final Round of Dom Wars. This week-long Survival Round will determine the Top Dom, once and for all.  The contestants are taken to an uninhabited island, where they will have to cross formidable jungle terrain. First Dom to reach the boat anchored on the other side of the island wins the million dollars and the title.  Seems simple. Except Lucian’s old adversary, the Sadist Jase Duff from Round One, has been tasked with making sure none of the five teams make it to the boat. If he is successful, he wins the prize, only it's not money that Jase Duff cares about, its revenge on Lucian and Tara. And his sadistic need to inflict pain makes it game on.   \n",
       "\n",
       "                                                                  Url  \n",
       "0          https://www.goodreads.com/book/show/9376703-altar-of-bones  \n",
       "1                https://www.goodreads.com/book/show/23569787-akarnae  \n",
       "2               https://www.goodreads.com/book/show/18246727-mud-vein  \n",
       "3  https://www.goodreads.com/book/show/6375561-the-elephant-whisperer  \n",
       "4               https://www.goodreads.com/book/show/22912730-dom-wars  "
      ]
     },
     "execution_count": 90,
     "metadata": {},
     "output_type": "execute_result"
    }
   ],
   "source": [
    "#Example 1 \n",
    "\n",
    "query1 = find_query(ID, vocabulary)\n",
    "dataset.iloc[query1][['bookTitle', 'Plot', 'Url']].reset_index(drop=True).head()"
   ]
  },
  {
   "cell_type": "markdown",
   "metadata": {},
   "source": [
    "In this example we enter a word which does not exist in the vocabulary and then we enter the correct word."
   ]
  },
  {
   "cell_type": "code",
   "execution_count": 93,
   "metadata": {
    "scrolled": false
   },
   "outputs": [
    {
     "name": "stdout",
     "output_type": "stream",
     "text": [
      "Search : magikk\n",
      "The word you were looking for was not found,please enter a new one\n",
      "Search : magic\n"
     ]
    },
    {
     "data": {
      "text/html": [
       "<div>\n",
       "<style scoped>\n",
       "    .dataframe tbody tr th:only-of-type {\n",
       "        vertical-align: middle;\n",
       "    }\n",
       "\n",
       "    .dataframe tbody tr th {\n",
       "        vertical-align: top;\n",
       "    }\n",
       "\n",
       "    .dataframe thead th {\n",
       "        text-align: right;\n",
       "    }\n",
       "</style>\n",
       "<table border=\"1\" class=\"dataframe\">\n",
       "  <thead>\n",
       "    <tr style=\"text-align: right;\">\n",
       "      <th></th>\n",
       "      <th>bookTitle</th>\n",
       "      <th>Plot</th>\n",
       "      <th>Url</th>\n",
       "    </tr>\n",
       "  </thead>\n",
       "  <tbody>\n",
       "    <tr>\n",
       "      <th>0</th>\n",
       "      <td>Siege and Storm</td>\n",
       "      <td>▶ \\nAlternative Cover Edition #1\\nDarkness never dies.Hunted across the True Sea, haunted by the lives she took on the Fold, Alina must try to make a life with Mal in an unfamiliar land, all while keeping her identity as the Sun Summoner a secret. But she can’t outrun her past or her destiny for long.The Darkling has emerged from the Shadow Fold with a terrifying new power and a dangerous plan that will test the very boundaries of the natural world. With the help of a notorious privateer, Alina returns to the country she abandoned, determined to fight the forces gathering against Ravka. But as her power grows, Alina slips deeper into the Darkling’s game of forbidden magic, and farther away from Mal. Somehow, she will have to choose between her country, her power, and the love she always thought would guide her—or risk losing everything to the oncoming storm.</td>\n",
       "      <td>https://www.goodreads.com/book/show/14061955-siege-and-storm</td>\n",
       "    </tr>\n",
       "    <tr>\n",
       "      <th>1</th>\n",
       "      <td>The Unsuspecting Mage</td>\n",
       "      <td>“Want to be a mage? Then do we have the job for you…”Sounds great for a veteran role-player. When on-the-job training entails battling demons, learning magic through trial and error, and living in a world without toilet paper, things could get rough. But to be dropped in the middle of a forest and having to do it on your own with no instruction…welcome to James’ world.It all gets started when his grandfather suggests to James, a young man on the verge of graduating high school, that he check out the following advertisement for a job. “Magic! Real Magic! Ever wanted to learn? We require someone with intelligence and a disciplined mind. Those well versed in fantasy novels and role playing games a plus. May need to travel.”Sounded like the perfect job for a veteran role-player and avid fantasy reader. James had no idea he’d be whisked to another world, completely cut off from friends and family. Arriving in a meadow in the middle of a forest, he’s greeted by a creature not entirely human. He was then told three things:Magic works here…Don’t try to go home…Get to the village of Trendle…Then the creature vanished.Which way was Trendle? Where was he? What might inhabit the forest that will seek his ruination? These were but a few of the questions needing to be unraveled. Alone with only his wits and knowledge gleaned from hundreds of books and dungeon campaigns, he started out just trying to survive. He soon learned that one mistake, one lapse in judgment could mean his death. Not long after arriving, he made the acquaintance of Miko, a street-wise kid who quickly became his friend and companion. Little did he know that the strength within this child from the streets of Bearn, a strength that would be tested again and again as they waded through battle after battle, delved in hidden passages deep beneath the earth, and faced off against an the might of an Empire, would be invaluable in the trials ahead.The Unsuspecting Mage is the first book of The Morcyth Saga, a seven book epic fantasy adventure. It follows James as he seeks first to master the art of magic then to uncover the reason why he had been brought to this strange new world where armies are on the move and gods meddle in the affairs of men.</td>\n",
       "      <td>https://www.goodreads.com/book/show/5980364-the-unsuspecting-mage</td>\n",
       "    </tr>\n",
       "    <tr>\n",
       "      <th>2</th>\n",
       "      <td>Voices of the Stars</td>\n",
       "      <td>“Voices of the Stars” is a sweeping, heroic saga - presented in an Arthurian setting in a very historically accurate Post-Roman land of the Britons. It is a metaphysical, psychological, action/adventure, myth and magic, tragic romance, medieval warfare, fantasy, historical fiction novel.“Voices of the Stars” is the true, in-depth, eye-witness chronicle of the world of the King, Arthur, and his compatriots of his Alliance of the 5 distinct cultures living on “These Our Fair Isles”: the original Old Dark Tribes, the Celtic Clans, the Roman-styled Britons, the Picti and the original, ‘legal’ Saxons, whose land was obtained through barter with Vortigern. It is also the real story of Arthur and Morgan’s tragic, Star-crossed love for one another, the devoted loyalty of their brother of the heart, Bedwyr, the strength of their mother, Igraine, Great Seer of the Old Dark Tribes, the treachery of their other sister Morganna le Faye, and the never before told story of the only child of Arthur’s blood, Mordred.Woven into the rich Dark Age tapestry of this magnificently complex, emotionally charged novel – the first in its series – are the Old Ways, The Old Gods, the Great Goddess and the Goddesses Nine, Magic, Seers, Enchantresses, Druids, Dragons, Ancient Rituals, medieval warfare, and the Leonardo DaVinci of his day - Gwyddion, the Merlin. It is filled with intrigue, passion, treachery, love, and with Epic Poetry throughout. It follows this evocative tale through five generations and is an intricately involved work with many legendary, historical and original characters.These now revealed histories debunk the cliché flights of fancy that have attached themselves to Arthurian legend in the intervening centuries - both in Renaissance and modern tellings, going back to post Roman days of the Cymru, the pre-Welsh clans.“Voices of the Stars” is the story of how Arthur’s sister, Morgan of the Woods, realizing the import of her time, bids all of her brother Arthur’s close allies, kith, and kin to write their “histories” – their autobiographies – as their lives unfold. All events – such as battles – are seen and written from the differing perspective of each contributor. We come to know the truth of “Voices’” characters - their joys, tragedies, hopes, dreams, ambitions, accomplishments, failures, desires, fears, loves, and hatreds are written into their stories. Tricks of the Fates abound throughout their lives as each comes to accept their shadow selves, weaknesses, flaws, hidden desires, strengths and goodness.These histories are to be secreted away for the sake of posterity. Why? To put it into Morgan’s words:“What lies within these vellum pages is an history... which I, Morgan, have compiled to preserve the truth of these matters - because, it is a fact that legends of the simple folk, as well as songs and poems of the Bards, gallop into fancy like Warhorses to the smell of blood. What begins as a simple pattern, weaves, entwines and spreads like the gossamer threads of Arachne –ultimately and forever changing the meaning of events as they truly were.”Within its pages the Cosmic Mysteries are revealed and taught through an original and complete spiritual Mystery System of the Great Aixia and the “Goddesses Nine” – replete with ancient Gods, Myths, Seasonal Rites, Moon Rituals, chants and secret initiations of The Order on The Isle of Apples.</td>\n",
       "      <td>https://www.goodreads.com/book/show/32885479-voices-of-the-stars</td>\n",
       "    </tr>\n",
       "    <tr>\n",
       "      <th>3</th>\n",
       "      <td>Spiral Path</td>\n",
       "      <td>“The world is woven of secrets.”Ritual magic mixes dangerously with wild magic. Yet Alfreda Sorensson’s talent has grown until she becomes a target for worldly and unworldly powers. Now, to save her soul, she must leave her pioneer home in the Michigan Territory to take refuge at an elite New York school, where her wild magic places her in direct conflict with the ritual taught to young Americans and Europeans.Alfreda suspects that half the professors may not be human at Windward Academy. It’s a curious place, a last chance for students who can’t control their powers, and a place where everything is a test, in one way or another.At first Alfreda thinks her greatest challenge will be mastering ritual. Then she learns that traitors have infiltrated the school–and the new nation. War looms between the United States and England, and Alfreda answers the call. Only after she spies her way into an enemy magician’s estate does she learn the true challenge of her own power–Because when dark magic finds her, she’s utterly on her own.</td>\n",
       "      <td>https://www.goodreads.com/book/show/22958758-spiral-path</td>\n",
       "    </tr>\n",
       "    <tr>\n",
       "      <th>4</th>\n",
       "      <td>Southern Mystical Moments</td>\n",
       "      <td>“Southern Mystical Moments” is written by Patricia Graham &amp;amp; Verna Humphrey. An anthology of Southern myths and beliefs that ends the book with a short story based on Voodoo, which is called MAGIC UNDER THE WILLOW TREE. Welcome to the world of Boojums, Clurichauns, and Whispering Willows. Read about man-eating monsters, witches, and mysterious lights that cannot be explained by the scientific community. We dare you to enter into this mystical realm, that is, if you are brave enough.</td>\n",
       "      <td>https://www.goodreads.com/book/show/16091522-southern-mystical-moments</td>\n",
       "    </tr>\n",
       "  </tbody>\n",
       "</table>\n",
       "</div>"
      ],
      "text/plain": [
       "                   bookTitle  \\\n",
       "0            Siege and Storm   \n",
       "1      The Unsuspecting Mage   \n",
       "2        Voices of the Stars   \n",
       "3                Spiral Path   \n",
       "4  Southern Mystical Moments   \n",
       "\n",
       "                                                                                                                                                                                                                                                                                                                                                                                                                                                                                                                                                                                                                                                                                                                                                                                                                                                                                                                                                                                                                                                                                                                                                                                                                                                                                                                                                                                                                                                                                                                                                                                                                                                                                                                                                                                                                                                                                                                                                                                                                                                                                                                                                                                                                                                                                                                                                                                                                                                                                                                                                                                                                                                                                                                                                                                                                                                                                                                                                                                                                                                                                                                                                                                                                                                                                                                                                                                                                                                                                                                             Plot  \\\n",
       "0                                                                                                                                                                                                                                                                                                                                                                                                                                                                                                                                                                                                                                                                                                                                                                                                                                                                                                                                                                                                                                                                                                                                                                                                                                                                                                                                                                                                                                                                                                                                                                                                                                                                                                                                                                                                                                                                                                                                                                                                                                                                                                                                                                                                                                                                                                                                                                                                                                                                                                                                                                                                                          ▶ \\nAlternative Cover Edition #1\\nDarkness never dies.Hunted across the True Sea, haunted by the lives she took on the Fold, Alina must try to make a life with Mal in an unfamiliar land, all while keeping her identity as the Sun Summoner a secret. But she can’t outrun her past or her destiny for long.The Darkling has emerged from the Shadow Fold with a terrifying new power and a dangerous plan that will test the very boundaries of the natural world. With the help of a notorious privateer, Alina returns to the country she abandoned, determined to fight the forces gathering against Ravka. But as her power grows, Alina slips deeper into the Darkling’s game of forbidden magic, and farther away from Mal. Somehow, she will have to choose between her country, her power, and the love she always thought would guide her—or risk losing everything to the oncoming storm.   \n",
       "1                                                                                                                                                                                                                                                                                                                                                                                                                                                                                                                                                                                                                                                                                                                                                                                                                                                                                                                                                                                                                                                                                                                                                                                                     “Want to be a mage? Then do we have the job for you…”Sounds great for a veteran role-player. When on-the-job training entails battling demons, learning magic through trial and error, and living in a world without toilet paper, things could get rough. But to be dropped in the middle of a forest and having to do it on your own with no instruction…welcome to James’ world.It all gets started when his grandfather suggests to James, a young man on the verge of graduating high school, that he check out the following advertisement for a job. “Magic! Real Magic! Ever wanted to learn? We require someone with intelligence and a disciplined mind. Those well versed in fantasy novels and role playing games a plus. May need to travel.”Sounded like the perfect job for a veteran role-player and avid fantasy reader. James had no idea he’d be whisked to another world, completely cut off from friends and family. Arriving in a meadow in the middle of a forest, he’s greeted by a creature not entirely human. He was then told three things:Magic works here…Don’t try to go home…Get to the village of Trendle…Then the creature vanished.Which way was Trendle? Where was he? What might inhabit the forest that will seek his ruination? These were but a few of the questions needing to be unraveled. Alone with only his wits and knowledge gleaned from hundreds of books and dungeon campaigns, he started out just trying to survive. He soon learned that one mistake, one lapse in judgment could mean his death. Not long after arriving, he made the acquaintance of Miko, a street-wise kid who quickly became his friend and companion. Little did he know that the strength within this child from the streets of Bearn, a strength that would be tested again and again as they waded through battle after battle, delved in hidden passages deep beneath the earth, and faced off against an the might of an Empire, would be invaluable in the trials ahead.The Unsuspecting Mage is the first book of The Morcyth Saga, a seven book epic fantasy adventure. It follows James as he seeks first to master the art of magic then to uncover the reason why he had been brought to this strange new world where armies are on the move and gods meddle in the affairs of men.    \n",
       "2  “Voices of the Stars” is a sweeping, heroic saga - presented in an Arthurian setting in a very historically accurate Post-Roman land of the Britons. It is a metaphysical, psychological, action/adventure, myth and magic, tragic romance, medieval warfare, fantasy, historical fiction novel.“Voices of the Stars” is the true, in-depth, eye-witness chronicle of the world of the King, Arthur, and his compatriots of his Alliance of the 5 distinct cultures living on “These Our Fair Isles”: the original Old Dark Tribes, the Celtic Clans, the Roman-styled Britons, the Picti and the original, ‘legal’ Saxons, whose land was obtained through barter with Vortigern. It is also the real story of Arthur and Morgan’s tragic, Star-crossed love for one another, the devoted loyalty of their brother of the heart, Bedwyr, the strength of their mother, Igraine, Great Seer of the Old Dark Tribes, the treachery of their other sister Morganna le Faye, and the never before told story of the only child of Arthur’s blood, Mordred.Woven into the rich Dark Age tapestry of this magnificently complex, emotionally charged novel – the first in its series – are the Old Ways, The Old Gods, the Great Goddess and the Goddesses Nine, Magic, Seers, Enchantresses, Druids, Dragons, Ancient Rituals, medieval warfare, and the Leonardo DaVinci of his day - Gwyddion, the Merlin. It is filled with intrigue, passion, treachery, love, and with Epic Poetry throughout. It follows this evocative tale through five generations and is an intricately involved work with many legendary, historical and original characters.These now revealed histories debunk the cliché flights of fancy that have attached themselves to Arthurian legend in the intervening centuries - both in Renaissance and modern tellings, going back to post Roman days of the Cymru, the pre-Welsh clans.“Voices of the Stars” is the story of how Arthur’s sister, Morgan of the Woods, realizing the import of her time, bids all of her brother Arthur’s close allies, kith, and kin to write their “histories” – their autobiographies – as their lives unfold. All events – such as battles – are seen and written from the differing perspective of each contributor. We come to know the truth of “Voices’” characters - their joys, tragedies, hopes, dreams, ambitions, accomplishments, failures, desires, fears, loves, and hatreds are written into their stories. Tricks of the Fates abound throughout their lives as each comes to accept their shadow selves, weaknesses, flaws, hidden desires, strengths and goodness.These histories are to be secreted away for the sake of posterity. Why? To put it into Morgan’s words:“What lies within these vellum pages is an history... which I, Morgan, have compiled to preserve the truth of these matters - because, it is a fact that legends of the simple folk, as well as songs and poems of the Bards, gallop into fancy like Warhorses to the smell of blood. What begins as a simple pattern, weaves, entwines and spreads like the gossamer threads of Arachne –ultimately and forever changing the meaning of events as they truly were.”Within its pages the Cosmic Mysteries are revealed and taught through an original and complete spiritual Mystery System of the Great Aixia and the “Goddesses Nine” – replete with ancient Gods, Myths, Seasonal Rites, Moon Rituals, chants and secret initiations of The Order on The Isle of Apples.   \n",
       "3                                                                                                                                                                                                                                                                                                                                                                                                                                                                                                                                                                                                                                                                                                                                                                                                                                                                                                                                                                                                                                                                                                                                                                                                                                                                                                                                                                                                                                                                                                                                                                                                                                                                                                                                                                                                                                                                                                                                                                                                                                                                                                                                                                                                                                                                                                                                                                                                                                                 “The world is woven of secrets.”Ritual magic mixes dangerously with wild magic. Yet Alfreda Sorensson’s talent has grown until she becomes a target for worldly and unworldly powers. Now, to save her soul, she must leave her pioneer home in the Michigan Territory to take refuge at an elite New York school, where her wild magic places her in direct conflict with the ritual taught to young Americans and Europeans.Alfreda suspects that half the professors may not be human at Windward Academy. It’s a curious place, a last chance for students who can’t control their powers, and a place where everything is a test, in one way or another.At first Alfreda thinks her greatest challenge will be mastering ritual. Then she learns that traitors have infiltrated the school–and the new nation. War looms between the United States and England, and Alfreda answers the call. Only after she spies her way into an enemy magician’s estate does she learn the true challenge of her own power–Because when dark magic finds her, she’s utterly on her own.   \n",
       "4                                                                                                                                                                                                                                                                                                                                                                                                                                                                                                                                                                                                                                                                                                                                                                                                                                                                                                                                                                                                                                                                                                                                                                                                                                                                                                                                                                                                                                                                                                                                                                                                                                                                                                                                                                                                                                                                                                                                                                                                                                                                                                                                                                                                                                                                                                                                                                                                                                                                                                                                                                                                                                                                                                                                                                                                                                                                                                                                                                                                                      “Southern Mystical Moments” is written by Patricia Graham &amp; Verna Humphrey. An anthology of Southern myths and beliefs that ends the book with a short story based on Voodoo, which is called MAGIC UNDER THE WILLOW TREE. Welcome to the world of Boojums, Clurichauns, and Whispering Willows. Read about man-eating monsters, witches, and mysterious lights that cannot be explained by the scientific community. We dare you to enter into this mystical realm, that is, if you are brave enough.   \n",
       "\n",
       "                                                                      Url  \n",
       "0            https://www.goodreads.com/book/show/14061955-siege-and-storm  \n",
       "1       https://www.goodreads.com/book/show/5980364-the-unsuspecting-mage  \n",
       "2        https://www.goodreads.com/book/show/32885479-voices-of-the-stars  \n",
       "3                https://www.goodreads.com/book/show/22958758-spiral-path  \n",
       "4  https://www.goodreads.com/book/show/16091522-southern-mystical-moments  "
      ]
     },
     "execution_count": 93,
     "metadata": {},
     "output_type": "execute_result"
    }
   ],
   "source": [
    "#Example 2\n",
    "query2 = find_query(ID, vocabulary)\n",
    "dataset.iloc[query2][['bookTitle', 'Plot', 'Url']].reset_index(drop=True).head()"
   ]
  },
  {
   "cell_type": "markdown",
   "metadata": {},
   "source": [
    "In this example we enter a combination of words which isn't in any plot: we will get an empty table as a result."
   ]
  },
  {
   "cell_type": "code",
   "execution_count": 94,
   "metadata": {},
   "outputs": [
    {
     "name": "stdout",
     "output_type": "stream",
     "text": [
      "Search : magic fire assassin women\n"
     ]
    },
    {
     "data": {
      "text/html": [
       "<div>\n",
       "<style scoped>\n",
       "    .dataframe tbody tr th:only-of-type {\n",
       "        vertical-align: middle;\n",
       "    }\n",
       "\n",
       "    .dataframe tbody tr th {\n",
       "        vertical-align: top;\n",
       "    }\n",
       "\n",
       "    .dataframe thead th {\n",
       "        text-align: right;\n",
       "    }\n",
       "</style>\n",
       "<table border=\"1\" class=\"dataframe\">\n",
       "  <thead>\n",
       "    <tr style=\"text-align: right;\">\n",
       "      <th></th>\n",
       "      <th>bookTitle</th>\n",
       "      <th>Plot</th>\n",
       "      <th>Url</th>\n",
       "    </tr>\n",
       "  </thead>\n",
       "  <tbody>\n",
       "  </tbody>\n",
       "</table>\n",
       "</div>"
      ],
      "text/plain": [
       "Empty DataFrame\n",
       "Columns: [bookTitle, Plot, Url]\n",
       "Index: []"
      ]
     },
     "execution_count": 94,
     "metadata": {},
     "output_type": "execute_result"
    }
   ],
   "source": [
    "#Example 3\n",
    "query3 = find_query(ID, vocabulary)\n",
    "dataset.iloc[query3][['bookTitle', 'Plot', 'Url']].reset_index(drop=True).head()"
   ]
  },
  {
   "cell_type": "markdown",
   "metadata": {},
   "source": [
    "<br><br>\n",
    "#### 2.2 Conjunctive query & Ranking score\n",
    "*For the second search engine, given a query, we want to get the top-k (the choice of k it's up to you!) documents related to the query. In particular:*\n",
    "\n",
    "<br>Find all the documents that contains all the words in the query.\n",
    "Sort them by their similarity with the query\n",
    "<br>Return in output k documents, or all the documents with non-zero similarity with the query when the results are less than k. You must use a heap data structure (you can use **Python libraries**) for maintaining the **top-k documents**.<br>\n",
    "*To solve this task, you will have to use the tfIdf score, and the Cosine similarity. The fielf to consider it is still the plot. Let's see how.*"
   ]
  },
  {
   "cell_type": "markdown",
   "metadata": {},
   "source": [
    "<br><br>\n",
    "##### 2.2.1 Inverted index\n",
    "**Your second Inverted Index must be of this format:**\n",
    "\n",
    "{<br>\n",
    "**term_id_1**:[(document1, tfIdf_{term,document1}), (document2, tfIdf_{term,document2}), (document4, tfIdf_{term,document4}), ...]<br>\n",
    "...}<br><br>\n",
    "Practically, for each word you want the list of documents in which it is contained in, and the relative **tfIdf score**.\n",
    "\n",
    "**Tip**: tfIdf values are invariant with respect to the query, for this reason you can precalculate them."
   ]
  },
  {
   "cell_type": "markdown",
   "metadata": {},
   "source": [
    "#### Inverted Index with tfidf"
   ]
  },
  {
   "cell_type": "code",
   "execution_count": null,
   "metadata": {},
   "outputs": [],
   "source": [
    "#create an ID with tfidf\n",
    "'''\n",
    "ID_tfifd={word_id:[(doc1_ID,tfidf1),(doc2_ID,tfidf2......)]}\n",
    "'''\n",
    "\n",
    "def calculate_tfidf(doc_id,w,N):\n",
    "    #find the plot\n",
    "    plot_base=cleaned_plots[doc_id]\n",
    "    \n",
    "    #count the time of a word appears in the plot\n",
    "    time_frequency=plot_base.count(w)\n",
    "    \n",
    "    #calculate the tfidf\n",
    "    inv_doc_freq=np.log10(n/N)\n",
    "    \n",
    "    return round(time_frequency*inv_doc_freq,4)\n",
    "\n",
    "#global value for tfidf\n",
    "#total number of documents\n",
    "n=len(df['document_ID']) \n",
    "\n",
    "ID_tfidf=defaultdict(list)\n",
    "\n",
    "for word in vocabulary:\n",
    "    word_mapped=vocabulary[word]\n",
    "    n_ID=len(ID[word_mapped])   #local value necessary for tfidf\n",
    "    for document_ID in ID[word_mapped]:\n",
    "        ID_tfidf[word_mapped].append((document_ID,calculate_tfidf(document_ID,word,n_ID)))\n",
    "        "
   ]
  },
  {
   "cell_type": "code",
   "execution_count": null,
   "metadata": {},
   "outputs": [],
   "source": [
    "with open('ID_with_tfidf.pkl', 'wb') as f:\n",
    "    pickle.dump(ID_tfidf, f, pickle.HIGHEST_PROTOCOL)\n",
    "    f.close()"
   ]
  },
  {
   "cell_type": "markdown",
   "metadata": {},
   "source": [
    "##### 2.2.2 Execute the query\n",
    "In this new setting, given a query you get the right set of documents (i.e., those containing all the words in the query) and sort them according to their similairty to the query. For this purpose, as scoring function we will use the Cosine Similarity with respect to the tfIdf representations of the documents. <br>\n",
    "<br>\n",
    "Given a query, that you let the user enter:\n",
    "<br>\n",
    "**survival games**<br>\n",
    "the search engine is supposed to return a list of documents, ranked by their Cosine Similarity with respect to the query entered in input.\n",
    "<br><br><br>\n",
    "More precisely, the output must contain:\n",
    "\n",
    "* bookTitle\n",
    "* Plot\n",
    "* Url\n",
    "* The similarity score of the documents with respect to the query"
   ]
  },
  {
   "cell_type": "code",
   "execution_count": 117,
   "metadata": {},
   "outputs": [
    {
     "name": "stdout",
     "output_type": "stream",
     "text": [
      "Please enter the Query: Survival games\n",
      "Query cleaned:  ['survival', 'game']\n"
     ]
    }
   ],
   "source": [
    "query = input(\"Please enter the Query: \")\n",
    "query = clean_info(query)\n",
    "query = query.split(' ')\n",
    "\n",
    "#Sample Query: * Survival games\n",
    "print(\"Query cleaned: \",query)"
   ]
  },
  {
   "cell_type": "code",
   "execution_count": 130,
   "metadata": {},
   "outputs": [
    {
     "data": {
      "text/html": [
       "<div>\n",
       "<style scoped>\n",
       "    .dataframe tbody tr th:only-of-type {\n",
       "        vertical-align: middle;\n",
       "    }\n",
       "\n",
       "    .dataframe tbody tr th {\n",
       "        vertical-align: top;\n",
       "    }\n",
       "\n",
       "    .dataframe thead th {\n",
       "        text-align: right;\n",
       "    }\n",
       "</style>\n",
       "<table border=\"1\" class=\"dataframe\">\n",
       "  <thead>\n",
       "    <tr style=\"text-align: right;\">\n",
       "      <th></th>\n",
       "      <th>bookTitle</th>\n",
       "      <th>Plot</th>\n",
       "      <th>Url</th>\n",
       "      <th>new_similarity_score</th>\n",
       "    </tr>\n",
       "  </thead>\n",
       "  <tbody>\n",
       "    <tr>\n",
       "      <th>17683</th>\n",
       "      <td>Warcross</td>\n",
       "      <td>For the millions who log in every day, Warcross isn’t just a game—it’s a way of life. The obsession started ten years ago and its fan base now spans the globe, some eager to escape from reality and others hoping to make a profit. Struggling to make ends meet, teenage hacker Emika Chen works as a bounty hunter, tracking down players who bet on the game illegally. But the bounty hunting world is a competitive one, and survival has not been easy. Needing to make some quick cash, Emika takes a risk and hacks into the opening game of the international Warcross Championships—only to accidentally glitch herself into the action and become an overnight sensation.Convinced she’s going to be arrested, Emika is shocked when instead she gets a call from the game’s creator, the elusive young billionaire Hideo Tanaka, with an irresistible offer. He needs a spy on the inside of this year’s tournament in order to uncover a security problem . . . and he wants Emika for the job. With no time to lose, Emika’s whisked off to Tokyo and thrust into a world of fame and fortune that she’s only dreamed of. But soon her investigation uncovers a sinister plot, with major consequences for the entire Warcross empire.</td>\n",
       "      <td>https://www.goodreads.com/book/show/41014903-warcross</td>\n",
       "      <td>0.126649</td>\n",
       "    </tr>\n",
       "    <tr>\n",
       "      <th>24202</th>\n",
       "      <td>Blood Awakening</td>\n",
       "      <td>A dangerous game of life, blood, and survival… Marquis Silivasi is a loner, an ancient vampire known to be merciless, harsh, and unforgiving. He has lived to see his dark twin sacrificed, his parents hunted, and the one soul he was sworn to protect destroyed by his enemy. When a mysterious female with a secret past shows up in Dark Moon Vale, her presence sets off a strange set of events: It is as if she has awakened the sleeping soul of the valley…and the Curse of Marquis’s birth.Bound to each other by primeval law, the two must forge their way through an ever growing maze of danger, deception, and destiny. They must find salvation in a world without mercy, where survival demands a chilling BLOOD AWAKENING.</td>\n",
       "      <td>https://www.goodreads.com/book/show/11030236-blood-awakening</td>\n",
       "      <td>0.067923</td>\n",
       "    </tr>\n",
       "    <tr>\n",
       "      <th>10305</th>\n",
       "      <td>Code Name Verity</td>\n",
       "      <td>Oct. 11th, 1943 - A British spy plane crashes in Nazi-occupied France. Its pilot and passenger are best friends. One of the girls has a chance at survival. The other has lost the game before it's barely begun. When \"Verity\" is arrested by the Gestapo, she's sure she doesn't stand a chance. As a secret agent captured in enemy territory, she's living a spy's worst nightmare. Her Nazi interrogators give her a simple choice: reveal her mission or face a grisly execution. As she intricately weaves her confession, Verity uncovers her past, how she became friends with the pilot Maddie, and why she left Maddie in the wrecked fuselage of their plane. On each new scrap of paper, Verity battles for her life, confronting her views on courage and failure and her desperate hope to make it home. But will trading her secrets be enough to save her from the enemy? Harrowing and beautifully written, Elizabeth Wein creates a visceral read of danger, resolve, and survival that shows just how far true friends will go to save each other. Code Name Verity is an outstanding novel that will stick with you long after the last page.</td>\n",
       "      <td>https://www.goodreads.com/book/show/11925514-code-name-verity</td>\n",
       "      <td>0.067923</td>\n",
       "    </tr>\n",
       "    <tr>\n",
       "      <th>6116</th>\n",
       "      <td>U-10</td>\n",
       "      <td>The U-10 is a survival kit you might not survive using. Activated by unreadable cards, it could create a can of soup - - or an explosive grenade that looks like a can of soup. The U-10 is a guessing game of life or death.A top-secret paramilitary agency wants the U-10 and its gadgets, the guy who has the U-10 wants to keep it, and the alien who lost the U-10 wants it back. A death squad is dispatched to retrieve the U-10 and will stop at nothing, including the destruction of Earth, to accomplish their mission. Using the U-10 to heal battle wounds produces unexpected results.What good is a U-10 survival kit that has just three options?(A) Saves you. (B) Kills you. (C) Turns you into an alien?</td>\n",
       "      <td>https://www.goodreads.com/book/show/51106657-u-10</td>\n",
       "      <td>0.067923</td>\n",
       "    </tr>\n",
       "    <tr>\n",
       "      <th>24567</th>\n",
       "      <td>Indian Hill</td>\n",
       "      <td>A Michael Talbot Adventure: This first story is about an ordinary boy, who grows up in relatively normal times to find himself thrust into an extra-ordinary position. Growing up in suburban Boston he enjoys the trials and tribulations that all adolescents go through. From the seemingly tyrannical mother, to girl problems to run-ins with the law. From there he escapes to college out in Colorado with his best friend, Paul, where they begin to forge new relationships with those around them. It is one girl in particular that has caught the eye of Michael and he alternately pines for her and then laments ever meeting her. It is on their true 'first' date that things go strangely askew. This is where the story truly takes a paranormal twist. Mike soon finds himself captive aboard an alien vessel, fighting for his very survival. The aliens have devised gladiator type games. The games are of two-fold importance for the aliens. One reason, being for the entertainment value, the other reason being that they want to see how combative humans are, what our weaknesses and strengths are. They want to better learn how to attack and defeat us. The battles are to the death on varying terrains that are computer generated. Follow Mike as he battles for his life and Paul has he battles to keep main stream US safe.</td>\n",
       "      <td>https://www.goodreads.com/book/show/13305176-indian-hill</td>\n",
       "      <td>0.035954</td>\n",
       "    </tr>\n",
       "  </tbody>\n",
       "</table>\n",
       "</div>"
      ],
      "text/plain": [
       "              bookTitle  \\\n",
       "17683          Warcross   \n",
       "24202   Blood Awakening   \n",
       "10305  Code Name Verity   \n",
       "6116               U-10   \n",
       "24567       Indian Hill   \n",
       "\n",
       "                                                                                                                                                                                                                                                                                                                                                                                                                                                                                                                                                                                                                                                                                                                                                                                                                                                                                                                                                                                                                                                                                                                                                                                                                                                                                                                                                                     Plot  \\\n",
       "17683                                                                                                              For the millions who log in every day, Warcross isn’t just a game—it’s a way of life. The obsession started ten years ago and its fan base now spans the globe, some eager to escape from reality and others hoping to make a profit. Struggling to make ends meet, teenage hacker Emika Chen works as a bounty hunter, tracking down players who bet on the game illegally. But the bounty hunting world is a competitive one, and survival has not been easy. Needing to make some quick cash, Emika takes a risk and hacks into the opening game of the international Warcross Championships—only to accidentally glitch herself into the action and become an overnight sensation.Convinced she’s going to be arrested, Emika is shocked when instead she gets a call from the game’s creator, the elusive young billionaire Hideo Tanaka, with an irresistible offer. He needs a spy on the inside of this year’s tournament in order to uncover a security problem . . . and he wants Emika for the job. With no time to lose, Emika’s whisked off to Tokyo and thrust into a world of fame and fortune that she’s only dreamed of. But soon her investigation uncovers a sinister plot, with major consequences for the entire Warcross empire.   \n",
       "24202                                                                                                                                                                                                                                                                                                                                                                                                                                                                                                                                                                                                                       A dangerous game of life, blood, and survival… Marquis Silivasi is a loner, an ancient vampire known to be merciless, harsh, and unforgiving. He has lived to see his dark twin sacrificed, his parents hunted, and the one soul he was sworn to protect destroyed by his enemy. When a mysterious female with a secret past shows up in Dark Moon Vale, her presence sets off a strange set of events: It is as if she has awakened the sleeping soul of the valley…and the Curse of Marquis’s birth.Bound to each other by primeval law, the two must forge their way through an ever growing maze of danger, deception, and destiny. They must find salvation in a world without mercy, where survival demands a chilling BLOOD AWAKENING.   \n",
       "10305                                                                                                                                                                                                  Oct. 11th, 1943 - A British spy plane crashes in Nazi-occupied France. Its pilot and passenger are best friends. One of the girls has a chance at survival. The other has lost the game before it's barely begun. When \"Verity\" is arrested by the Gestapo, she's sure she doesn't stand a chance. As a secret agent captured in enemy territory, she's living a spy's worst nightmare. Her Nazi interrogators give her a simple choice: reveal her mission or face a grisly execution. As she intricately weaves her confession, Verity uncovers her past, how she became friends with the pilot Maddie, and why she left Maddie in the wrecked fuselage of their plane. On each new scrap of paper, Verity battles for her life, confronting her views on courage and failure and her desperate hope to make it home. But will trading her secrets be enough to save her from the enemy? Harrowing and beautifully written, Elizabeth Wein creates a visceral read of danger, resolve, and survival that shows just how far true friends will go to save each other. Code Name Verity is an outstanding novel that will stick with you long after the last page.   \n",
       "6116                                                                                                                                                                                                                                                                                                                                                                                                                                                                                                                                                                                                                                         The U-10 is a survival kit you might not survive using. Activated by unreadable cards, it could create a can of soup - - or an explosive grenade that looks like a can of soup. The U-10 is a guessing game of life or death.A top-secret paramilitary agency wants the U-10 and its gadgets, the guy who has the U-10 wants to keep it, and the alien who lost the U-10 wants it back. A death squad is dispatched to retrieve the U-10 and will stop at nothing, including the destruction of Earth, to accomplish their mission. Using the U-10 to heal battle wounds produces unexpected results.What good is a U-10 survival kit that has just three options?(A) Saves you. (B) Kills you. (C) Turns you into an alien?   \n",
       "24567  A Michael Talbot Adventure: This first story is about an ordinary boy, who grows up in relatively normal times to find himself thrust into an extra-ordinary position. Growing up in suburban Boston he enjoys the trials and tribulations that all adolescents go through. From the seemingly tyrannical mother, to girl problems to run-ins with the law. From there he escapes to college out in Colorado with his best friend, Paul, where they begin to forge new relationships with those around them. It is one girl in particular that has caught the eye of Michael and he alternately pines for her and then laments ever meeting her. It is on their true 'first' date that things go strangely askew. This is where the story truly takes a paranormal twist. Mike soon finds himself captive aboard an alien vessel, fighting for his very survival. The aliens have devised gladiator type games. The games are of two-fold importance for the aliens. One reason, being for the entertainment value, the other reason being that they want to see how combative humans are, what our weaknesses and strengths are. They want to better learn how to attack and defeat us. The battles are to the death on varying terrains that are computer generated. Follow Mike as he battles for his life and Paul has he battles to keep main stream US safe.   \n",
       "\n",
       "                                                                 Url  \\\n",
       "17683          https://www.goodreads.com/book/show/41014903-warcross   \n",
       "24202   https://www.goodreads.com/book/show/11030236-blood-awakening   \n",
       "10305  https://www.goodreads.com/book/show/11925514-code-name-verity   \n",
       "6116               https://www.goodreads.com/book/show/51106657-u-10   \n",
       "24567       https://www.goodreads.com/book/show/13305176-indian-hill   \n",
       "\n",
       "       new_similarity_score  \n",
       "17683              0.126649  \n",
       "24202              0.067923  \n",
       "10305              0.067923  \n",
       "6116               0.067923  \n",
       "24567              0.035954  "
      ]
     },
     "execution_count": 130,
     "metadata": {},
     "output_type": "execute_result"
    }
   ],
   "source": [
    "founddata = executeQuery(query,vocabulary,ID_tfidf,dataset)\n",
    "founddata"
   ]
  },
  {
   "cell_type": "markdown",
   "metadata": {},
   "source": [
    "### <br><br> Question 3 \n",
    "##### Define a new score!<br>\n",
    "Now it's your turn. Build a new metric to rank books based on the **queries** of their users.<br>\n",
    "<br>\n",
    "In this scenario, a single user can give in input more information than the single textual query, so you need to take into account all this information, and **think a creative and logical** way on how to answer at user's requests.<br>\n",
    "<br>\n",
    "Practically:<br>\n",
    "<br>\n",
    "The user will enter you a text query. As a starting point, get the **query-related** documents by exploiting the search engine of Step 2.1.<br>\n",
    "<br>\n",
    "Once you have the documents, you need to sort them according to your new score. In this step you won't have anymore to take into account just the plot of the documents, you must use the remaining variables in your dataset (or new possible variables that you can create from the existing ones...). You must use a heap data structure ***(you can use Python libraries)*** for maintaining the top-k documents.<br>\n",
    "<br>\n",
    "**Q**: *How to sort them? A: Allow the user to specify more information, that you find in the documents, and define a new metric that ranks the results based on the new request.*<br>\n",
    "<br>\n",
    "**N.B**: You have to define a ***scoring function***, not a filter!<br>\n",
    "<br>\n",
    "The output, must contain:<br>\n",
    "<br>\n",
    "* bookTitle\n",
    "* Plot\n",
    "* Url\n",
    "* The similarity score of the documents with respect to the query"
   ]
  },
  {
   "cell_type": "markdown",
   "metadata": {},
   "source": [
    "* ***For this question as said in the description we use the inverted index created in the exercise 2.1***"
   ]
  },
  {
   "cell_type": "code",
   "execution_count": 95,
   "metadata": {},
   "outputs": [
    {
     "name": "stdout",
     "output_type": "stream",
     "text": [
      "Search : magic fire\n"
     ]
    },
    {
     "data": {
      "text/html": [
       "<div>\n",
       "<style scoped>\n",
       "    .dataframe tbody tr th:only-of-type {\n",
       "        vertical-align: middle;\n",
       "    }\n",
       "\n",
       "    .dataframe tbody tr th {\n",
       "        vertical-align: top;\n",
       "    }\n",
       "\n",
       "    .dataframe thead th {\n",
       "        text-align: right;\n",
       "    }\n",
       "</style>\n",
       "<table border=\"1\" class=\"dataframe\">\n",
       "  <thead>\n",
       "    <tr style=\"text-align: right;\">\n",
       "      <th></th>\n",
       "      <th>bookTitle</th>\n",
       "      <th>Plot</th>\n",
       "      <th>Url</th>\n",
       "    </tr>\n",
       "  </thead>\n",
       "  <tbody>\n",
       "    <tr>\n",
       "      <th>0</th>\n",
       "      <td>Druids</td>\n",
       "      <td>“Mine was the vast dark sky and the spaces between the stars that called out to me; mine was the promise of magic.”So spoke the young Celt Ainvar, centuries before the enchanted age of Arthur and Merlin. An orphan taken in by the chief druid of the Carnutes in Gaul, Ainvar possessed talents that would lead him to master the druid mysteries of thought, healing, magic, and battle— talents that would make him a soul friend to the Prince Vercingetorix . . . though the two youths were as different as fire and ice.Yet Ainvar’s destiny lay with Vercingetorix, the sun-bright warrior-king. Together they traveled through bitter winters and starlit summers in Gaul, rallying the splintered Celtic tribes against the encroaching might of Julius Caesar and the soulless legions of Rome. . . .From the Paperback edition.</td>\n",
       "      <td>https://www.goodreads.com/book/show/88009.Druids</td>\n",
       "    </tr>\n",
       "    <tr>\n",
       "      <th>1</th>\n",
       "      <td>Tales of a Female Nomad: Living at Large in the World</td>\n",
       "      <td>“I move throughout the world without a plan, guided by instinct, connecting through trust, and constantly watching for serendipitous opportunities.” —From the PrefaceTales of a Female Nomad is the story of Rita Golden Gelman, an ordinary woman who is living an extraordinary existence. At the age of forty-eight, on the verge of a divorce, Rita left an elegant life in L.A. to follow her dream of connecting with people in cultures all over the world. In 1986 she sold her possessions and became a nomad, living in a Zapotec village in Mexico, sleeping with sea lions on the Galapagos Islands, and residing everywhere from thatched huts to regal palaces. She has observed orangutans in the rain forest of Borneo, visited trance healers and dens of black magic, and cooked with women on fires all over the world. Rita’s example encourages us all to dust off our dreams and rediscover the joy, the exuberance, and the hidden spirit that so many of us bury when we become adults.</td>\n",
       "      <td>https://www.goodreads.com/book/show/85622.Tales_of_a_Female_Nomad</td>\n",
       "    </tr>\n",
       "    <tr>\n",
       "      <th>2</th>\n",
       "      <td>The Fire</td>\n",
       "      <td>Whit and Wisty Allgood have sacrificed everything to lead the resistance against the merciless totalitarian regime that governs their world. Its supreme leader, The One Who Is The One, has banned everything they hold dear: books, music, art, and imagination. But the growing strength of the siblings' magic hasn't been enough to stop the One's evil rampage, and now he's executed the only family they had left.Wisty knows that the time has finally come for her to face The One. But her fight and her fire only channel more power to this already invincible being. How can she and Whit possibly prepare for their imminent showdown with the ruthless villain that devastated their world-before he can truly become all-powerful?In this stunning climax of the epic Witch &amp;amp; Wizard series, the stakes have never been higher-and the consequences will change everything.</td>\n",
       "      <td>https://www.goodreads.com/book/show/10778410-the-fire</td>\n",
       "    </tr>\n",
       "    <tr>\n",
       "      <th>3</th>\n",
       "      <td>Dragon Prince</td>\n",
       "      <td>When Rohan became the new prince of the Desert, ruler of the kingdom granted to his family for as long as the Long Sands spewed fire, he took the crown with two goals in mind. First and foremost, he sought to bring permanent peace to his world of divided princedoms. And, in a land where dragon-slaying was a proof of manhood, Rohan was the sole champion of the dragons, fighting desperately to preserve the last remaining lords of the sky and with them a secret which might be the salvation of his people.... Sioned, the Sunrunner witch who was fated by Fire to be Rohan’s bride, had mastered the magic of sunlight and moonglow, catching hints of a yet to be formed pattern which could irrevocably affect the destinies of Sunrunners and ordinary mortals alike. Yet caught in the machinations of the Lady of Goddess Keep, and of Prince Rohan and his sworn enemy, the treacherously cunning High Prince, could Sioned alter this crucial pattern to protect her lord from the menace of a war that threatened to set the land ablaze?</td>\n",
       "      <td>https://www.goodreads.com/book/show/185289.Dragon_Prince</td>\n",
       "    </tr>\n",
       "    <tr>\n",
       "      <th>4</th>\n",
       "      <td>Venom</td>\n",
       "      <td>What kind of assassin works pro bono?It’s hard to be a badass assassin when a giant is beating the crap out of you. Luckily, I never let pride get in the way of my work. My current mission is personal: annihilate Mab Monroe, the Fire elemental who murdered my family. Which means protecting my identity, even if I have to conceal my powerful Stone and Ice magic when I need it most. To the public, I’m Gin Blanco, owner of Ashland’s best barbecue joint. To my friends, I’m the Spider, retired assassin. I still do favors on the side. Like ridding a vampire friend of her oversized stalker—Mab’s right-hand goon who almost got me dead with his massive fists. At least irresistible Owen Grayson is on my side. The man knows too much about me, but I’ll take my chances. Then there’s Detective Bria Coolidge, one of Ashland’s finest. Until recently, I thought my baby sister was dead. She probably thinks the same about me. Little does she know, I’m a cold-blooded killer . . . who is about to save her life.</td>\n",
       "      <td>https://www.goodreads.com/book/show/7614747-venom</td>\n",
       "    </tr>\n",
       "  </tbody>\n",
       "</table>\n",
       "</div>"
      ],
      "text/plain": [
       "                                               bookTitle  \\\n",
       "0                                                 Druids   \n",
       "1  Tales of a Female Nomad: Living at Large in the World   \n",
       "2                                               The Fire   \n",
       "3                                          Dragon Prince   \n",
       "4                                                  Venom   \n",
       "\n",
       "                                                                                                                                                                                                                                                                                                                                                                                                                                                                                                                                                                                                                                                                                                                                                                                                                                                                                                                                                                                                                                                                 Plot  \\\n",
       "0                                                                                                                                                                                                                      “Mine was the vast dark sky and the spaces between the stars that called out to me; mine was the promise of magic.”So spoke the young Celt Ainvar, centuries before the enchanted age of Arthur and Merlin. An orphan taken in by the chief druid of the Carnutes in Gaul, Ainvar possessed talents that would lead him to master the druid mysteries of thought, healing, magic, and battle— talents that would make him a soul friend to the Prince Vercingetorix . . . though the two youths were as different as fire and ice.Yet Ainvar’s destiny lay with Vercingetorix, the sun-bright warrior-king. Together they traveled through bitter winters and starlit summers in Gaul, rallying the splintered Celtic tribes against the encroaching might of Julius Caesar and the soulless legions of Rome. . . .From the Paperback edition.   \n",
       "1                                                    “I move throughout the world without a plan, guided by instinct, connecting through trust, and constantly watching for serendipitous opportunities.” —From the PrefaceTales of a Female Nomad is the story of Rita Golden Gelman, an ordinary woman who is living an extraordinary existence. At the age of forty-eight, on the verge of a divorce, Rita left an elegant life in L.A. to follow her dream of connecting with people in cultures all over the world. In 1986 she sold her possessions and became a nomad, living in a Zapotec village in Mexico, sleeping with sea lions on the Galapagos Islands, and residing everywhere from thatched huts to regal palaces. She has observed orangutans in the rain forest of Borneo, visited trance healers and dens of black magic, and cooked with women on fires all over the world. Rita’s example encourages us all to dust off our dreams and rediscover the joy, the exuberance, and the hidden spirit that so many of us bury when we become adults.   \n",
       "2                                                                                                                                                                    Whit and Wisty Allgood have sacrificed everything to lead the resistance against the merciless totalitarian regime that governs their world. Its supreme leader, The One Who Is The One, has banned everything they hold dear: books, music, art, and imagination. But the growing strength of the siblings' magic hasn't been enough to stop the One's evil rampage, and now he's executed the only family they had left.Wisty knows that the time has finally come for her to face The One. But her fight and her fire only channel more power to this already invincible being. How can she and Whit possibly prepare for their imminent showdown with the ruthless villain that devastated their world-before he can truly become all-powerful?In this stunning climax of the epic Witch &amp; Wizard series, the stakes have never been higher-and the consequences will change everything.   \n",
       "3  When Rohan became the new prince of the Desert, ruler of the kingdom granted to his family for as long as the Long Sands spewed fire, he took the crown with two goals in mind. First and foremost, he sought to bring permanent peace to his world of divided princedoms. And, in a land where dragon-slaying was a proof of manhood, Rohan was the sole champion of the dragons, fighting desperately to preserve the last remaining lords of the sky and with them a secret which might be the salvation of his people.... Sioned, the Sunrunner witch who was fated by Fire to be Rohan’s bride, had mastered the magic of sunlight and moonglow, catching hints of a yet to be formed pattern which could irrevocably affect the destinies of Sunrunners and ordinary mortals alike. Yet caught in the machinations of the Lady of Goddess Keep, and of Prince Rohan and his sworn enemy, the treacherously cunning High Prince, could Sioned alter this crucial pattern to protect her lord from the menace of a war that threatened to set the land ablaze?   \n",
       "4                        What kind of assassin works pro bono?It’s hard to be a badass assassin when a giant is beating the crap out of you. Luckily, I never let pride get in the way of my work. My current mission is personal: annihilate Mab Monroe, the Fire elemental who murdered my family. Which means protecting my identity, even if I have to conceal my powerful Stone and Ice magic when I need it most. To the public, I’m Gin Blanco, owner of Ashland’s best barbecue joint. To my friends, I’m the Spider, retired assassin. I still do favors on the side. Like ridding a vampire friend of her oversized stalker—Mab’s right-hand goon who almost got me dead with his massive fists. At least irresistible Owen Grayson is on my side. The man knows too much about me, but I’ll take my chances. Then there’s Detective Bria Coolidge, one of Ashland’s finest. Until recently, I thought my baby sister was dead. She probably thinks the same about me. Little does she know, I’m a cold-blooded killer . . . who is about to save her life.   \n",
       "\n",
       "                                                                 Url  \n",
       "0                   https://www.goodreads.com/book/show/88009.Druids  \n",
       "1  https://www.goodreads.com/book/show/85622.Tales_of_a_Female_Nomad  \n",
       "2              https://www.goodreads.com/book/show/10778410-the-fire  \n",
       "3           https://www.goodreads.com/book/show/185289.Dragon_Prince  \n",
       "4                  https://www.goodreads.com/book/show/7614747-venom  "
      ]
     },
     "execution_count": 95,
     "metadata": {},
     "output_type": "execute_result"
    }
   ],
   "source": [
    "starting_query = find_query(ID, vocabulary)\n",
    "dataset.iloc[starting_query][['bookTitle', 'Plot', 'Url']].reset_index(drop=True).head()"
   ]
  },
  {
   "cell_type": "markdown",
   "metadata": {},
   "source": [
    "Here we present our new score based on different options that the user can enter: the title, the number of pages, the year of publication, the authors who wrote the book and the words which the desciption must not contain. In more details:\n",
    "\n",
    "#### Search query dependent score\n",
    "\n",
    "* **Title:** we ask the users for some key words to match the title. We add a score proportional to the number of key words found.\n",
    "> key words: Harry,       books: Harry Potter $\\rightarrow$ score $+1$\\\n",
    "  key words: dragon fire, books: Dragon Prince $\\rightarrow$ score $+0.5$\n",
    "    \n",
    "* **Number of pages:** we ask for the range in which the number of pages in the book should be. We add a score of $0.5$ if the book is in this range.\n",
    ">range: 200-400, book's pages: 300 $\\rightarrow$ score $+0.5$ \\\n",
    " range: 200-400,  book's pages: 199 $\\rightarrow$ score $+0.0$\n",
    "     \n",
    "* **Published date:** as we did for the number of pages, we add some points to the score if the book is in the range.\n",
    "\n",
    "* **Authors:** \n",
    "  * First we assign a normalized score to each author based on their productivity (how many books of the dataset they have written).\n",
    "  > Stephen King: $63$ books in the dataset $\\rightarrow$ score + $63 \\over \\text{normalizing  value}$\n",
    "  * Then we ask the user for the first and/or last name(s) of the author(s) they are searching for. If the author matches the search query we add one to the productivity score.\n",
    "  > query authors: Terry Brooks, book's author: Terry Gilliam $\\rightarrow$ score $+0.5$\n",
    "\n",
    "* **Prohibited words:** the user can enter words that he wouldn't like to find in the book's description.\\\n",
    "  We add a negative score, proportional to the number of these words, to the books containing them. \n",
    "> prohibited words: assassin, plot: The night....assassin.... $\\rightarrow$ score $-1$\\\n",
    "  prohibited words: assassin, women, plot: Women's rights.....  $\\rightarrow$ score $-0.5$\n",
    "\n",
    "#### Search query independent score\n",
    "\n",
    "* **Rating score:** We want this score to quantify the popularity of the books. We calculate this partial score using the logarithm of the product of rating value and the number of ratings (by using the logarithm we reduce the gap between numbers with orders of magnitude too different). In this way we avoid penalizing the recently published books which have a smaller number of ratings.\n",
    "> rating value= $4.2$ ,rating count= $20000$ $\\rightarrow$ $log(4.2*20000) = 4.924$\\\n",
    "  rating value= $4.0$ ,rating count= $300000$ $\\rightarrow$ $log(4.0*300000) = 6.079$\\\n",
    "The scores are then normalized."
   ]
  },
  {
   "cell_type": "code",
   "execution_count": 53,
   "metadata": {},
   "outputs": [],
   "source": [
    "from functions import new_score_func"
   ]
  },
  {
   "cell_type": "code",
   "execution_count": 96,
   "metadata": {},
   "outputs": [
    {
     "name": "stdout",
     "output_type": "stream",
     "text": [
      "1. What is the title of the book? Enter the keywords of the title you are looking for, otherwise press enter (e.g. Harry)\n",
      "fire\n",
      "2. How many pages has the book you are looking for?Enter a range of pages, otherwise hit enter (e.g. 200-400)\n",
      "200-400\n",
      "3. When the book was published?Enter a range of years, otherwise hit enter (e.g. 1990-2010)\n",
      "1990-2010\n",
      "4. Enter the author (or authors),his name ,his surname of eitherseparated by commas,otherwise press enter (e.g. suzanne collins,terry brook)\n",
      "terry,Suzanne collins\n",
      "5. Enter the words that the description must not contains separated by commas,otherwise press enter(e.g. assassin,woman)\n",
      "assassins,woman\n"
     ]
    }
   ],
   "source": [
    "top_k_books=new_score_func(starting_query,dataset)"
   ]
  },
  {
   "cell_type": "code",
   "execution_count": 97,
   "metadata": {},
   "outputs": [
    {
     "data": {
      "text/html": [
       "<div>\n",
       "<style scoped>\n",
       "    .dataframe tbody tr th:only-of-type {\n",
       "        vertical-align: middle;\n",
       "    }\n",
       "\n",
       "    .dataframe tbody tr th {\n",
       "        vertical-align: top;\n",
       "    }\n",
       "\n",
       "    .dataframe thead th {\n",
       "        text-align: right;\n",
       "    }\n",
       "</style>\n",
       "<table border=\"1\" class=\"dataframe\">\n",
       "  <thead>\n",
       "    <tr style=\"text-align: right;\">\n",
       "      <th></th>\n",
       "      <th>bookTitle</th>\n",
       "      <th>Plot</th>\n",
       "      <th>Url</th>\n",
       "      <th>new_similarity_score</th>\n",
       "    </tr>\n",
       "  </thead>\n",
       "  <tbody>\n",
       "    <tr>\n",
       "      <th>1088</th>\n",
       "      <td>The Fire</td>\n",
       "      <td>Whit and Wisty Allgood have sacrificed everything to lead the resistance against the merciless totalitarian regime that governs their world. Its supreme leader, The One Who Is The One, has banned everything they hold dear: books, music, art, and imagination. But the growing strength of the siblings' magic hasn't been enough to stop the One's evil rampage, and now he's executed the only family they had left.Wisty knows that the time has finally come for her to face The One. But her fight and her fire only channel more power to this already invincible being. How can she and Whit possibly prepare for their imminent showdown with the ruthless villain that devastated their world-before he can truly become all-powerful?In this stunning climax of the epic Witch &amp;amp; Wizard series, the stakes have never been higher-and the consequences will change everything.</td>\n",
       "      <td>https://www.goodreads.com/book/show/10778410-the-fire</td>\n",
       "      <td>1.580575</td>\n",
       "    </tr>\n",
       "    <tr>\n",
       "      <th>4280</th>\n",
       "      <td>Cold Fire</td>\n",
       "      <td>There is an alternate cover edition here.Daja and Frostpine expect to have a peaceful winter's visit with old friends in Kugisko, a port in the vast empire of Namon. But there is no peace when mysterious fires begin to blaze across the vulnerable city. Daja assists Bennat Ladradun, a local firefighter with a tragic past, to fight the flames. The two become fast friends-until they realize the fires have been deliberately set, and their relationship is deeply tested. Daja's magic helps her track down the firestarter, but no magic can protect her or Ben from the effects of madness and betrayal.</td>\n",
       "      <td>https://www.goodreads.com/book/show/153792.Cold_Fire</td>\n",
       "      <td>1.532009</td>\n",
       "    </tr>\n",
       "    <tr>\n",
       "      <th>23820</th>\n",
       "      <td>The Fire Within</td>\n",
       "      <td>A magical adventure about the power of dragons...When David moves in with Elizabeth Pennykettle and her eleven-year-old daughter, Lucy, he discovers a collection of clay dragons that come to life. David's own special dragon inspires him to write a story, which reveals the secrets behind a mystery. In order to solve the mystery and save his dragon, David must master the magic of the fire within - not only with his hands but also with his heart.</td>\n",
       "      <td>https://www.goodreads.com/book/show/312043.The_Fire_Within</td>\n",
       "      <td>1.508831</td>\n",
       "    </tr>\n",
       "    <tr>\n",
       "      <th>7202</th>\n",
       "      <td>The Fires of Merlin</td>\n",
       "      <td>THE THREAT OF FIRE...Wings of Fire, the sleeping dragon, has awakened, threatening all of Fincayra. Only Merlin, whose magical powers are new and untested, can stop him. But before he can face the dragon's fires, Merlin needs to face other fires, including those within himself. Most importantly, he must discover the power - as well as the source - of his own magic.</td>\n",
       "      <td>https://www.goodreads.com/book/show/9783491-the-raging-fires</td>\n",
       "      <td>1.504416</td>\n",
       "    </tr>\n",
       "    <tr>\n",
       "      <th>23161</th>\n",
       "      <td>Dragon Fire</td>\n",
       "      <td>A tyrant, a dreamer, a warrior princess... and a dragon.  At nineteen, Delcan wants nothing more than to break the bonds of what the world expects of him; winning the tournament at the Flarian Festival and earning a place as a squire is the only way he knows how. When he discovers his own father's secret past and his role in the kingdom's history, Delcan's life as a squire suddenly becomes complicated. When he falls in love with Princess Aria, the leader of a secluded rebel force bent on overthrowing the King, it turns deadly.  Dragon Fire is the story of a farmer's son and a princess who dreamed of becoming a knight. It is a coming-of-age tale set in a world where the young have no hope and the old no longer believe in magic. With compelling characters and vivid language, it is an action-packed story of romance, hope, sacrifice, and the most unlikely of heroes.</td>\n",
       "      <td>https://www.goodreads.com/book/show/13381880-dragon-fire</td>\n",
       "      <td>1.501104</td>\n",
       "    </tr>\n",
       "  </tbody>\n",
       "</table>\n",
       "</div>"
      ],
      "text/plain": [
       "                 bookTitle  \\\n",
       "1088              The Fire   \n",
       "4280             Cold Fire   \n",
       "23820      The Fire Within   \n",
       "7202   The Fires of Merlin   \n",
       "23161          Dragon Fire   \n",
       "\n",
       "                                                                                                                                                                                                                                                                                                                                                                                                                                                                                                                                                                                                                                                                                                                                                                                                                                                                                                             Plot  \\\n",
       "1088             Whit and Wisty Allgood have sacrificed everything to lead the resistance against the merciless totalitarian regime that governs their world. Its supreme leader, The One Who Is The One, has banned everything they hold dear: books, music, art, and imagination. But the growing strength of the siblings' magic hasn't been enough to stop the One's evil rampage, and now he's executed the only family they had left.Wisty knows that the time has finally come for her to face The One. But her fight and her fire only channel more power to this already invincible being. How can she and Whit possibly prepare for their imminent showdown with the ruthless villain that devastated their world-before he can truly become all-powerful?In this stunning climax of the epic Witch &amp; Wizard series, the stakes have never been higher-and the consequences will change everything.   \n",
       "4280                                                                                                                                                                                                                                                                                       There is an alternate cover edition here.Daja and Frostpine expect to have a peaceful winter's visit with old friends in Kugisko, a port in the vast empire of Namon. But there is no peace when mysterious fires begin to blaze across the vulnerable city. Daja assists Bennat Ladradun, a local firefighter with a tragic past, to fight the flames. The two become fast friends-until they realize the fires have been deliberately set, and their relationship is deeply tested. Daja's magic helps her track down the firestarter, but no magic can protect her or Ben from the effects of madness and betrayal.   \n",
       "23820                                                                                                                                                                                                                                                                                                                                                                                                                                             A magical adventure about the power of dragons...When David moves in with Elizabeth Pennykettle and her eleven-year-old daughter, Lucy, he discovers a collection of clay dragons that come to life. David's own special dragon inspires him to write a story, which reveals the secrets behind a mystery. In order to solve the mystery and save his dragon, David must master the magic of the fire within - not only with his hands but also with his heart.   \n",
       "7202                                                                                                                                                                                                                                                                                                                                                                                                                                                                                                                              THE THREAT OF FIRE...Wings of Fire, the sleeping dragon, has awakened, threatening all of Fincayra. Only Merlin, whose magical powers are new and untested, can stop him. But before he can face the dragon's fires, Merlin needs to face other fires, including those within himself. Most importantly, he must discover the power - as well as the source - of his own magic.   \n",
       "23161  A tyrant, a dreamer, a warrior princess... and a dragon.  At nineteen, Delcan wants nothing more than to break the bonds of what the world expects of him; winning the tournament at the Flarian Festival and earning a place as a squire is the only way he knows how. When he discovers his own father's secret past and his role in the kingdom's history, Delcan's life as a squire suddenly becomes complicated. When he falls in love with Princess Aria, the leader of a secluded rebel force bent on overthrowing the King, it turns deadly.  Dragon Fire is the story of a farmer's son and a princess who dreamed of becoming a knight. It is a coming-of-age tale set in a world where the young have no hope and the old no longer believe in magic. With compelling characters and vivid language, it is an action-packed story of romance, hope, sacrifice, and the most unlikely of heroes.   \n",
       "\n",
       "                                                                Url  \\\n",
       "1088          https://www.goodreads.com/book/show/10778410-the-fire   \n",
       "4280           https://www.goodreads.com/book/show/153792.Cold_Fire   \n",
       "23820    https://www.goodreads.com/book/show/312043.The_Fire_Within   \n",
       "7202   https://www.goodreads.com/book/show/9783491-the-raging-fires   \n",
       "23161      https://www.goodreads.com/book/show/13381880-dragon-fire   \n",
       "\n",
       "       new_similarity_score  \n",
       "1088               1.580575  \n",
       "4280               1.532009  \n",
       "23820              1.508831  \n",
       "7202               1.504416  \n",
       "23161              1.501104  "
      ]
     },
     "execution_count": 97,
     "metadata": {},
     "output_type": "execute_result"
    }
   ],
   "source": [
    "top_k_books"
   ]
  },
  {
   "cell_type": "markdown",
   "metadata": {},
   "source": [
    "<br><br>\n",
    "### Question 4\n",
    "##### Make a nice visualization<br>\n",
    "Our goal is to quantify and **Visualize the writers' production**.<br>\n",
    "<br>\n",
    "* Consider the first 10 BookSeries in order of appearance.<br>\n",
    "* Build a **2-d plot** where the **x-axis** is the years since publication of the first book (starting from 0), and **y-axis** there must be the cumulative series page count (all the Series start from (0,num_pages) point, which represents the first book). Since we want the cumulative number of page, the **y-axis** value of each book is added to the previous point.<br><br>\n",
    "[NOTE] Genrally, the book of a series is indicated as: title #number of the book in the series (e.g., **The Hunger Games #1**). Sometimes you will find the entire book serie as one book (e.g., **The Hunger Games #1-3**). You only retain the first type.<br>"
   ]
  },
  {
   "cell_type": "code",
   "execution_count": 3,
   "metadata": {},
   "outputs": [
    {
     "data": {
      "image/png": "[encoded data removed]",
      "text/plain": [
       "<Figure size 1296x864 with 1 Axes>"
      ]
     },
     "metadata": {
      "needs_background": "light"
     },
     "output_type": "display_data"
    }
   ],
   "source": [
    "dataset_filtered,_,_,_ = read_data()\n",
    "Data,ComulativeData = visualize(dataset_filtered)"
   ]
  },
  {
   "cell_type": "code",
   "execution_count": 4,
   "metadata": {
    "scrolled": false
   },
   "outputs": [
    {
     "data": {
      "text/plain": [
       "{'Alex Rider ': [[256.0,\n",
       "   530.0,\n",
       "   857.0,\n",
       "   1179.0,\n",
       "   1567.0,\n",
       "   1890.0,\n",
       "   2288.0,\n",
       "   2673.0,\n",
       "   3089.0,\n",
       "   3494.0],\n",
       "  [1, 2, 3, 4, 5, 6, 7, 8, 9, 10]],\n",
       " 'Chicagoland Vampires ': [[341.0,\n",
       "   698.0,\n",
       "   1053.0,\n",
       "   1403.0,\n",
       "   1724.0,\n",
       "   2076.0,\n",
       "   2428.0,\n",
       "   2778.0,\n",
       "   3128.0,\n",
       "   3478.0],\n",
       "  [1, 2, 3, 4, 5, 6, 7, 8, 9, 10]],\n",
       " 'Gossip Girl ': [[224.0,\n",
       "   480.0,\n",
       "   695.0,\n",
       "   929.0,\n",
       "   1131.0,\n",
       "   1361.0,\n",
       "   1592.0,\n",
       "   1813.0,\n",
       "   2045.0,\n",
       "   2237.0],\n",
       "  [1, 2, 3, 4, 5, 6, 7, 8, 9, 10]],\n",
       " \"Guardians of Ga'Hoole \": [[222.0,\n",
       "   464.0,\n",
       "   662.0,\n",
       "   865.0,\n",
       "   1041.0,\n",
       "   1265.0,\n",
       "   1486.0,\n",
       "   1693.0,\n",
       "   1895.0,\n",
       "   2127.0],\n",
       "  [1, 2, 3, 4, 5, 6, 7, 8, 13, 15]],\n",
       " 'Highlander ': [[375.0,\n",
       "   683.0,\n",
       "   1002.0,\n",
       "   1368.0,\n",
       "   1724.0,\n",
       "   2120.0,\n",
       "   2490.0,\n",
       "   2838.0,\n",
       "   3232.0,\n",
       "   3344.0],\n",
       "  [1, 1, 2, 2, 3, 4, 5, 6, 7, 8]],\n",
       " 'Kendrick/Coulter/Harrigan ': [[420.0,\n",
       "   838.0,\n",
       "   1245.0,\n",
       "   1664.0,\n",
       "   2085.0,\n",
       "   2430.0,\n",
       "   2842.0,\n",
       "   3250.0,\n",
       "   3662.0,\n",
       "   4094.0],\n",
       "  [1, 2, 4, 5, 6, 7, 8, 9, 10, 11]],\n",
       " 'Lords of the Underworld ': [[379.0,\n",
       "   747.0,\n",
       "   1115.0,\n",
       "   1521.0,\n",
       "   1959.0,\n",
       "   2401.0,\n",
       "   2811.0,\n",
       "   3237.0,\n",
       "   3741.0,\n",
       "   4230.0],\n",
       "  [1, 2, 3, 4, 5, 6, 7, 8, 9, 11]],\n",
       " 'Magic Tree House ': [[67.0,\n",
       "   147.0,\n",
       "   227.0,\n",
       "   298.0,\n",
       "   372.0,\n",
       "   468.0,\n",
       "   564.0,\n",
       "   660.0,\n",
       "   788.0,\n",
       "   916.0],\n",
       "  [6, 7, 8, 12, 16, 17, 18, 23, 39, 41]],\n",
       " 'Malazan Book of the Fallen ': [[657.0,\n",
       "   1261.0,\n",
       "   2186.0,\n",
       "   3201.0,\n",
       "   4161.0,\n",
       "   5393.0,\n",
       "   6321.0,\n",
       "   7329.0,\n",
       "   8609.0,\n",
       "   9530.0],\n",
       "  [1, 2, 3, 4, 5, 6, 7, 8, 9, 10]],\n",
       " 'Midnight Breed ': [[402.0,\n",
       "   771.0,\n",
       "   1127.0,\n",
       "   1482.0,\n",
       "   1850.0,\n",
       "   2233.0,\n",
       "   2603.0,\n",
       "   2990.0,\n",
       "   3374.0,\n",
       "   3687.0],\n",
       "  [1, 3, 4, 5, 6, 7, 8, 9, 10, 11]]}"
      ]
     },
     "execution_count": 4,
     "metadata": {},
     "output_type": "execute_result"
    }
   ],
   "source": [
    "ComulativeData\n",
    "### Given below is the Data with Key as Series name and in Values we have 2 List pages count commulative\n",
    "## Values and book series number\n",
    "# For the Sake of simplicity we have changes the all the books indexes from there original to 1-10 range."
   ]
  },
  {
   "cell_type": "code",
   "execution_count": 5,
   "metadata": {},
   "outputs": [
    {
     "data": {
      "text/html": [
       "<div>\n",
       "<style scoped>\n",
       "    .dataframe tbody tr th:only-of-type {\n",
       "        vertical-align: middle;\n",
       "    }\n",
       "\n",
       "    .dataframe tbody tr th {\n",
       "        vertical-align: top;\n",
       "    }\n",
       "\n",
       "    .dataframe thead th {\n",
       "        text-align: right;\n",
       "    }\n",
       "</style>\n",
       "<table border=\"1\" class=\"dataframe\">\n",
       "  <thead>\n",
       "    <tr style=\"text-align: right;\">\n",
       "      <th></th>\n",
       "      <th>1</th>\n",
       "      <th>2</th>\n",
       "      <th>3</th>\n",
       "      <th>4</th>\n",
       "      <th>5</th>\n",
       "      <th>6</th>\n",
       "      <th>7</th>\n",
       "      <th>8</th>\n",
       "      <th>9</th>\n",
       "      <th>10</th>\n",
       "    </tr>\n",
       "  </thead>\n",
       "  <tbody>\n",
       "    <tr>\n",
       "      <th>Alex Rider</th>\n",
       "      <td>256.0</td>\n",
       "      <td>530.0</td>\n",
       "      <td>857.0</td>\n",
       "      <td>1179.0</td>\n",
       "      <td>1567.0</td>\n",
       "      <td>1890.0</td>\n",
       "      <td>2288.0</td>\n",
       "      <td>2673.0</td>\n",
       "      <td>3089.0</td>\n",
       "      <td>3494.0</td>\n",
       "    </tr>\n",
       "    <tr>\n",
       "      <th>Chicagoland Vampires</th>\n",
       "      <td>341.0</td>\n",
       "      <td>698.0</td>\n",
       "      <td>1053.0</td>\n",
       "      <td>1403.0</td>\n",
       "      <td>1724.0</td>\n",
       "      <td>2076.0</td>\n",
       "      <td>2428.0</td>\n",
       "      <td>2778.0</td>\n",
       "      <td>3128.0</td>\n",
       "      <td>3478.0</td>\n",
       "    </tr>\n",
       "    <tr>\n",
       "      <th>Gossip Girl</th>\n",
       "      <td>224.0</td>\n",
       "      <td>480.0</td>\n",
       "      <td>695.0</td>\n",
       "      <td>929.0</td>\n",
       "      <td>1131.0</td>\n",
       "      <td>1361.0</td>\n",
       "      <td>1592.0</td>\n",
       "      <td>1813.0</td>\n",
       "      <td>2045.0</td>\n",
       "      <td>2237.0</td>\n",
       "    </tr>\n",
       "    <tr>\n",
       "      <th>Guardians of Ga'Hoole</th>\n",
       "      <td>222.0</td>\n",
       "      <td>464.0</td>\n",
       "      <td>662.0</td>\n",
       "      <td>865.0</td>\n",
       "      <td>1041.0</td>\n",
       "      <td>1265.0</td>\n",
       "      <td>1486.0</td>\n",
       "      <td>1693.0</td>\n",
       "      <td>1895.0</td>\n",
       "      <td>2127.0</td>\n",
       "    </tr>\n",
       "    <tr>\n",
       "      <th>Highlander</th>\n",
       "      <td>375.0</td>\n",
       "      <td>683.0</td>\n",
       "      <td>1002.0</td>\n",
       "      <td>1368.0</td>\n",
       "      <td>1724.0</td>\n",
       "      <td>2120.0</td>\n",
       "      <td>2490.0</td>\n",
       "      <td>2838.0</td>\n",
       "      <td>3232.0</td>\n",
       "      <td>3344.0</td>\n",
       "    </tr>\n",
       "    <tr>\n",
       "      <th>Kendrick/Coulter/Harrigan</th>\n",
       "      <td>420.0</td>\n",
       "      <td>838.0</td>\n",
       "      <td>1245.0</td>\n",
       "      <td>1664.0</td>\n",
       "      <td>2085.0</td>\n",
       "      <td>2430.0</td>\n",
       "      <td>2842.0</td>\n",
       "      <td>3250.0</td>\n",
       "      <td>3662.0</td>\n",
       "      <td>4094.0</td>\n",
       "    </tr>\n",
       "    <tr>\n",
       "      <th>Lords of the Underworld</th>\n",
       "      <td>379.0</td>\n",
       "      <td>747.0</td>\n",
       "      <td>1115.0</td>\n",
       "      <td>1521.0</td>\n",
       "      <td>1959.0</td>\n",
       "      <td>2401.0</td>\n",
       "      <td>2811.0</td>\n",
       "      <td>3237.0</td>\n",
       "      <td>3741.0</td>\n",
       "      <td>4230.0</td>\n",
       "    </tr>\n",
       "    <tr>\n",
       "      <th>Magic Tree House</th>\n",
       "      <td>67.0</td>\n",
       "      <td>147.0</td>\n",
       "      <td>227.0</td>\n",
       "      <td>298.0</td>\n",
       "      <td>372.0</td>\n",
       "      <td>468.0</td>\n",
       "      <td>564.0</td>\n",
       "      <td>660.0</td>\n",
       "      <td>788.0</td>\n",
       "      <td>916.0</td>\n",
       "    </tr>\n",
       "    <tr>\n",
       "      <th>Malazan Book of the Fallen</th>\n",
       "      <td>657.0</td>\n",
       "      <td>1261.0</td>\n",
       "      <td>2186.0</td>\n",
       "      <td>3201.0</td>\n",
       "      <td>4161.0</td>\n",
       "      <td>5393.0</td>\n",
       "      <td>6321.0</td>\n",
       "      <td>7329.0</td>\n",
       "      <td>8609.0</td>\n",
       "      <td>9530.0</td>\n",
       "    </tr>\n",
       "    <tr>\n",
       "      <th>Midnight Breed</th>\n",
       "      <td>402.0</td>\n",
       "      <td>771.0</td>\n",
       "      <td>1127.0</td>\n",
       "      <td>1482.0</td>\n",
       "      <td>1850.0</td>\n",
       "      <td>2233.0</td>\n",
       "      <td>2603.0</td>\n",
       "      <td>2990.0</td>\n",
       "      <td>3374.0</td>\n",
       "      <td>3687.0</td>\n",
       "    </tr>\n",
       "  </tbody>\n",
       "</table>\n",
       "</div>"
      ],
      "text/plain": [
       "                                1       2       3       4       5       6   \\\n",
       "Alex Rider                   256.0   530.0   857.0  1179.0  1567.0  1890.0   \n",
       "Chicagoland Vampires         341.0   698.0  1053.0  1403.0  1724.0  2076.0   \n",
       "Gossip Girl                  224.0   480.0   695.0   929.0  1131.0  1361.0   \n",
       "Guardians of Ga'Hoole        222.0   464.0   662.0   865.0  1041.0  1265.0   \n",
       "Highlander                   375.0   683.0  1002.0  1368.0  1724.0  2120.0   \n",
       "Kendrick/Coulter/Harrigan    420.0   838.0  1245.0  1664.0  2085.0  2430.0   \n",
       "Lords of the Underworld      379.0   747.0  1115.0  1521.0  1959.0  2401.0   \n",
       "Magic Tree House              67.0   147.0   227.0   298.0   372.0   468.0   \n",
       "Malazan Book of the Fallen   657.0  1261.0  2186.0  3201.0  4161.0  5393.0   \n",
       "Midnight Breed               402.0   771.0  1127.0  1482.0  1850.0  2233.0   \n",
       "\n",
       "                                 7       8       9       10  \n",
       "Alex Rider                   2288.0  2673.0  3089.0  3494.0  \n",
       "Chicagoland Vampires         2428.0  2778.0  3128.0  3478.0  \n",
       "Gossip Girl                  1592.0  1813.0  2045.0  2237.0  \n",
       "Guardians of Ga'Hoole        1486.0  1693.0  1895.0  2127.0  \n",
       "Highlander                   2490.0  2838.0  3232.0  3344.0  \n",
       "Kendrick/Coulter/Harrigan    2842.0  3250.0  3662.0  4094.0  \n",
       "Lords of the Underworld      2811.0  3237.0  3741.0  4230.0  \n",
       "Magic Tree House              564.0   660.0   788.0   916.0  \n",
       "Malazan Book of the Fallen   6321.0  7329.0  8609.0  9530.0  \n",
       "Midnight Breed               2603.0  2990.0  3374.0  3687.0  "
      ]
     },
     "execution_count": 5,
     "metadata": {},
     "output_type": "execute_result"
    }
   ],
   "source": [
    "Data"
   ]
  },
  {
   "cell_type": "markdown",
   "metadata": {},
   "source": [
    "### <br><br> Question 5 \n",
    "##### Algorithmic Question"
   ]
  },
  {
   "cell_type": "markdown",
   "metadata": {},
   "source": [
    "<br>You are given a string written in english capital letters, for example **S=\"CADFECEILGJHABNOPSTIRYOEABILCNR.\"** You are asked to find the maximum length of a subsequence of characters that is in alfabetical order. For example, here a subsequence of characters in alphabetical order is the **\"ACEGJSTY\": \"CADFECEILGJHABNOFPSTIRYOEABILCNR.\"** Among all the possible such sequences, you are asked to find the one that is the longest.<br>\n",
    "<br>\n",
    "Define as ***X[i] = \"the length of the longest sequence of characters in alphabetical order that terminates at the i-th character\".*** One can prove that\n",
    "<br><br>\n",
    "**X[i] = 1 + max{X[j]; j = 0, ..., i-1, such that S[j]<S[i]}<br>**\n",
    "<br>\n",
    "**X[i] = 1, if there does not exist such a j.<br>**\n",
    "<br>\n",
    "Write a recursive program that, given a string, computes the length of the subsequence of maximum length that is in alphabetical order. Try some examples. Are the examples of short strings correct? Can you find examples that your algorithm does not terminate in reasonable time?<br><br>\n",
    "Show that the running time of the algorithm is exponential.<br><br>\n",
    "Write a program that computes the length of the subsequence of maximum length, using dynamic programming.<br>\n",
    "What is its runtime complexity?<br>"
   ]
  },
  {
   "cell_type": "markdown",
   "metadata": {},
   "source": [
    "#### Recursive program"
   ]
  },
  {
   "cell_type": "code",
   "execution_count": 98,
   "metadata": {},
   "outputs": [],
   "source": [
    "def max_sub_length (S, i, L):    # we apply the recursive equations to each i \n",
    "\n",
    "    if i < len(S)-1:\n",
    "        L.append(recursive(S, i+1))   # L is the list that will collect the X[i]\n",
    "        return max_sub_length(S, i+1,L)  \n",
    "    \n",
    "    else:\n",
    "        return max(L)\n",
    "\n",
    "\n",
    "def recursive (S, i):      # recursive equations \n",
    "    return 1 + max([recursive(S, j) for j in range(0, i) if S[j] < S[i]], default = 0)"
   ]
  },
  {
   "cell_type": "code",
   "execution_count": 99,
   "metadata": {},
   "outputs": [
    {
     "data": {
      "text/plain": [
       "11"
      ]
     },
     "execution_count": 99,
     "metadata": {},
     "output_type": "execute_result"
    }
   ],
   "source": [
    "max_sub_length('CADFECEILGJHABNOFPSTIRYOEABILCNR',-1,[])"
   ]
  },
  {
   "cell_type": "code",
   "execution_count": 100,
   "metadata": {},
   "outputs": [
    {
     "data": {
      "text/plain": [
       "5"
      ]
     },
     "execution_count": 100,
     "metadata": {},
     "output_type": "execute_result"
    }
   ],
   "source": [
    "max_sub_length('ABDFGEC',-1,[])"
   ]
  },
  {
   "cell_type": "markdown",
   "metadata": {},
   "source": [
    "The string below has 96 characters and it takes more than two minutes to run. "
   ]
  },
  {
   "cell_type": "code",
   "execution_count": 101,
   "metadata": {},
   "outputs": [
    {
     "data": {
      "text/plain": [
       "15"
      ]
     },
     "execution_count": 101,
     "metadata": {},
     "output_type": "execute_result"
    }
   ],
   "source": [
    "max_sub_length('CADFECEILGJHABNOFPSTIRYOEABILCNRCADFECEILGJHABNOFPSTIRYOEABILCNRCADFECEILGJHABNOFPSTIRYOEABILCNR',-1,[])"
   ]
  },
  {
   "cell_type": "markdown",
   "metadata": {},
   "source": [
    "Let's calculate the time complexity of the code.\n",
    "\n",
    "We will first calculate the time comlexity for the `recursive` function. In the worst case, for each $i$ we call the function for all $j = 0, 1, \\dots, i-1$, so we will get: \n",
    "$$\n",
    "T(n) = \\sum_{j=0}^{n-1} \\, T(j) = T(1)+T(2)+...+T(n-2)+T(n-1)\n",
    "$$\n",
    "\n",
    "Let's now observe the `max_sub_length` function and find its time complexity. This function does some constant operations and then moves to the next $i$ until it reaches the total length of the string $s$ (we will set `len(s) = n`). In formulas: \n",
    "\n",
    "$$\n",
    "T(n+1) = O(1) + T(n) \n",
    "$$\n",
    "\n",
    "Combining the two formulas we found, we have that: \n",
    "$$\n",
    "T(n+1) = O(1) + \\sum_{j=0}^{n-1} \\, T(j)\n",
    "$$\n",
    "\n",
    "Now we want to prove that $T(n) = \\Theta(2^n)$.\n",
    "\n",
    "We first prove that $T(n) = \\Omega(2^n)$.\n",
    "\n",
    "We rewrite the first formula as:\n",
    "\n",
    "$$\n",
    "T(n)= T(n-1)+T(n-2)+...+T(1) \\ge T(n-1)+T(n-2) \\ge T(n-2)+T(n-2)+const\n",
    "=2T(n-2)+const\n",
    "$$\n",
    "\n",
    "Leaving out the constant operations (if, comparison, assignment...) and applying the first inequality to n-1 we obtain:\n",
    "\n",
    "$$\n",
    "2T(n-2) \\ge 2(2T(n-4)) \\ge 2(4T(n-6)) \\ge .... \\ge 2^i(T(n-2i)) \n",
    "$$\n",
    "\n",
    "It ends when $T(n-2i)$ becomes a constant, which happens when ${i} = {n \\over 2}$\n",
    "\n",
    "$$\n",
    "2^i(T(n-2i)) \\ge 2^{n \\over 2}T(0) = O(2^{n \\over 2})\n",
    "$$\n",
    "\n",
    "We are left to prove that $T(n) = O(2^n)$.\n"
   ]
  },
  {
   "cell_type": "markdown",
   "metadata": {},
   "source": [
    "In other words, we need to prove that:\n",
    "\n",
    "$$\n",
    "T(n+1) \\leq c2^{n+1} \\quad \\text{where} \\, c \\, \\text{is a real positive constant}\n",
    "$$\n",
    "\n",
    "\n",
    "We apply the induction principle, so (fix that $d := T(1)$):  \n",
    "\n",
    "$(i)$ $T(1) \\leq c2 \\iff d \\leq 2c$\n",
    "\n",
    "$(ii)$ \n",
    "\n",
    "$$\n",
    "T(n+1) = d + \\sum_{j=0}^{n-1} T(j) \\leq d + c\\sum_{j=0}^{n-1} 2^j = d + c2^n - 1 \\leq 2c + c2^n \\leq c2^{n+1} \n",
    "$$\n",
    "\n",
    "\n",
    "Therefore: $T(n+1) = O(2^{n+1})$"
   ]
  },
  {
   "cell_type": "markdown",
   "metadata": {},
   "source": [
    "#### Dynamic programming"
   ]
  },
  {
   "cell_type": "code",
   "execution_count": 27,
   "metadata": {},
   "outputs": [],
   "source": [
    "def seq_max_subsequence(string):\n",
    "    #as suggests by the formula X[i] = 1 + max{X[j]; j = 0, ..., i-1, such that S[j]<S[i]}\n",
    "    # we initialize a sequence which represent the length of the longest sequence \n",
    "    #of characters in alphabetical order that includes the i-th character\n",
    "    \n",
    "    seq=[1]*len(string)\n",
    "    \n",
    "    #we calculate for every character (c) of the string the how many \n",
    "    #ordered characters there are before\n",
    "    \n",
    "    for s in range(1,len(string)):\n",
    "        temp_str=''\n",
    "        for k in range(0,s):\n",
    "            if string[s]>string[k] and seq[s]<=seq[k]:\n",
    "                seq[s]=seq[k]+1\n",
    "    return seq"
   ]
  },
  {
   "cell_type": "code",
   "execution_count": 28,
   "metadata": {},
   "outputs": [],
   "source": [
    "s=seq_max_subsequence('CADFECEILGJHABNOFPSTIRYOEABILCNR')"
   ]
  },
  {
   "cell_type": "code",
   "execution_count": 31,
   "metadata": {},
   "outputs": [
    {
     "name": "stdout",
     "output_type": "stream",
     "text": [
      "[1, 1, 2, 3, 3, 2, 3, 4, 5, 4, 5, 5, 1, 2, 6, 7, 4, 8, 9, 10, 6, 9, 11, 7, 3, 1, 2, 6, 7, 3, 8, 9]\n"
     ]
    }
   ],
   "source": [
    "print(s)"
   ]
  },
  {
   "cell_type": "code",
   "execution_count": 30,
   "metadata": {},
   "outputs": [
    {
     "data": {
      "text/plain": [
       "11"
      ]
     },
     "execution_count": 30,
     "metadata": {},
     "output_type": "execute_result"
    }
   ],
   "source": [
    "max(s)"
   ]
  },
  {
   "cell_type": "markdown",
   "metadata": {},
   "source": [
    "$s$ represents dinamically the sequence of the longest subsequence ending with the i-th value. We can find the length of the longest subsequence by looking for the max value."
   ]
  },
  {
   "cell_type": "markdown",
   "metadata": {},
   "source": [
    "This dynamic program updates the performance of the recursive function, because the latter computes the same subtask several times. In this case we can memorize them in a list, so we have all the previous results and we don't need to repeat all of the computations.\n",
    "> $T(n)$ : running time with n elements\n",
    "\n",
    "At the beginning we run the algorithm only for the first character, then for two, for three and so on.\n",
    "\n",
    ">1+2+3+....+n-3+n-2+n-1+n=$\\sum_{i=0}^n (n-i)$ = $\\sum_{i=1}^n i $=$ {n(n+1)}\\over{2}$\\\n",
    "\\\n",
    "So $T(n)$=$\\mathcal{O}(n^2)$\n"
   ]
  },
  {
   "cell_type": "markdown",
   "metadata": {},
   "source": [
    "### Bonus question"
   ]
  },
  {
   "cell_type": "markdown",
   "metadata": {},
   "source": [
    "Let $X[i]$ be the length of the longest sequence of characters in alphabetical order that terminates at the i-th character, and we want to prove that: \n",
    "\n",
    "$$\n",
    "X[i] = 1 + max\\{ \\, X[j]; \\, \\text{for} \\, j = 0,1, \\dots i-1 \\, \\text{if} \\, S[j] < S[i] \\, \\} \\\\\n",
    "X[i] = 1 \\quad \\text{if such a j doesn't exist}\n",
    "$$\n",
    "\n",
    "Suppose that there is another sequence $Y[n]$ such that $Y[n] > X[n]$. Now let $k < n$ (if such a number didn't exist the proof would be trivial) be a number such that we can write: $Y[n] = 1 + X[k]$ , in the same way there is a number $p$ such that we can write: $X[n] = 1 + X[p]$. From the definition of $X[n]$ we know that $X[p] > X[k]$ since it's the maximum length sequence, but we have supposed that $Y[n] > X[n]$, which leads us to a contradiction."
   ]
  }
 ],
 "metadata": {
  "kernelspec": {
   "display_name": "Python 3",
   "language": "python",
   "name": "python3"
  },
  "language_info": {
   "codemirror_mode": {
    "name": "ipython",
    "version": 3
   },
   "file_extension": ".py",
   "mimetype": "text/x-python",
   "name": "python",
   "nbconvert_exporter": "python",
   "pygments_lexer": "ipython3",
   "version": "3.8.3"
  }
 },
 "nbformat": 4,
 "nbformat_minor": 4
}
