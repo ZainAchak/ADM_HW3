{
 "cells": [
  {
   "cell_type": "code",
   "execution_count": 2,
   "metadata": {},
   "outputs": [],
   "source": [
    "import nltk as nl\n",
    "from nltk.corpus import stopwords\n",
    "from nltk.stem import PorterStemmer \n",
    "from nltk.tokenize import sent_tokenize, word_tokenize"
   ]
  },
  {
   "cell_type": "code",
   "execution_count": 40,
   "metadata": {},
   "outputs": [],
   "source": [
    "# this function gives error for words with apostrophe and bar (e.g. O'Neil or hard-working)\n",
    "# also this function will give you the same number for capitalized words and not capitalized words \n",
    "# (e.g. Problem problem have the same id)\n",
    "\n",
    "def str_to_num (string):\n",
    "    \n",
    "    num = int(string, 36)\n",
    "    \n",
    "    return num "
   ]
  },
  {
   "cell_type": "code",
   "execution_count": 68,
   "metadata": {},
   "outputs": [
    {
     "ename": "SyntaxError",
     "evalue": "invalid syntax (<ipython-input-68-4d05d876a859>, line 1)",
     "output_type": "error",
     "traceback": [
      "\u001b[1;36m  File \u001b[1;32m\"<ipython-input-68-4d05d876a859>\"\u001b[1;36m, line \u001b[1;32m1\u001b[0m\n\u001b[1;33m    str_to_num(r'Prob'lem')\u001b[0m\n\u001b[1;37m                      ^\u001b[0m\n\u001b[1;31mSyntaxError\u001b[0m\u001b[1;31m:\u001b[0m invalid syntax\n"
     ]
    }
   ],
   "source": [
    "str_to_num(r'Prob)"
   ]
  },
  {
   "cell_type": "code",
   "execution_count": 41,
   "metadata": {},
   "outputs": [],
   "source": [
    "\n",
    "def clean_info (string):\n",
    "\n",
    "    \n",
    "    # this command will split the string given in input in substrings by using \n",
    "    # the words given to RegexpTokenizer as argument\n",
    "    \n",
    "\n",
    "    \n",
    "    # filter the punctuation\n",
    "    tmp = nl.RegexpTokenizer(r\"['\\w-]+\").tokenize(string)     \n",
    "    \n",
    "    # filter the stopwords (e.g. 'the', 'my', 'an', ...) and stem the remaing ones (e.g. stem('dies') = 'die', \n",
    "    # stem('flies') = 'fli')\n",
    "    \n",
    "    ps = PorterStemmer()\n",
    "    tmp = [ps.stem(word) for word in tmp if word not in stopwords.words('english')]\n",
    "    \n",
    "\n",
    "    # !!! missing normalization part too but i don't think there is any simple solution\n",
    "    \n",
    "    final = ' '.join(tmp)\n",
    "    \n",
    "    return final"
   ]
  },
  {
   "cell_type": "code",
   "execution_count": 42,
   "metadata": {},
   "outputs": [],
   "source": [
    "# we will need first these two functions to implement the search function \n",
    "\n",
    "\n",
    "# this function takes as input a list of lists and gives back the index of the list that has minimus first element\n",
    "\n",
    "def find_min_list (L):\n",
    "    min_elem = L[0][0]\n",
    "    count = 0\n",
    "    index = 0\n",
    "    for l in L[1:]: \n",
    "        if min_elem > l[0]:\n",
    "            count = count + 1 \n",
    "            index = count \n",
    "            min_elem = l[0]\n",
    "        else: \n",
    "            count = count + 1 \n",
    "\n",
    "    return index \n",
    "        \n",
    "\n",
    "# this function takes as input a list of lists and gives back the list created from the intersection of the lists \n",
    "    \n",
    "def intersect_list (L):\n",
    "    results = []\n",
    "    while all(len(l) > 0 for l in L):\n",
    "\n",
    "        if all([L[0][0] == l[0] for l in L[1:]]):     \n",
    "            results.append(L[0][0])\n",
    "            L = [l[1:] for l in L]\n",
    "\n",
    "        else : \n",
    "            min_index = find_min_list(L)\n",
    "            L[min_index] = L[min_index][1:]\n",
    "\n",
    "    return results \n",
    "            "
   ]
  },
  {
   "cell_type": "code",
   "execution_count": 61,
   "metadata": {},
   "outputs": [],
   "source": [
    "# this is th search function adn ideally responds to the question 2.1.2 \n",
    "\n",
    "def find_query(inverted_index):\n",
    "    \n",
    "    string = input() # asks the user a string of words to look up \n",
    "    \n",
    "    string_cleaned = clean_info(string)\n",
    "    list_words = string_cleaned.split(' ')\n",
    "    \n",
    "    \n",
    "    # now translate the list of words in term_id (we will use the hash function meanwhile we choose what function to use)\n",
    "    list_termID = []\n",
    "    for word in list_words: \n",
    "        list_termID.append(str_to_num(word))    # CHANGE HERE IF YOU CHOOSE ANOTHER FUNCTION TO TRANSLATE WORDS INTO NUMBERS\n",
    "        \n",
    "   \n",
    "\n",
    "    # retrieve the documents in the inverted index and collect them in a list \n",
    "    list_documents = []\n",
    "    for term_id in list_termID:\n",
    "        if term_id in inverted_index.keys():   # checking if the word we are looking for is in the inverted_index\n",
    "            list_documents.append(inverted_index.get(term_id))\n",
    "    \n",
    "     \n",
    "    # now intersect these lists (HERE IT'S FUNDAMENTAL TO SUPPOSE THAT THE DOCUMENTS ARE COLLECTED AS INCREASING \n",
    "    # SEQUENCES)\n",
    "    results = intersect_list(list_documents)\n",
    "    \n",
    "    \n",
    "    return results \n",
    "        "
   ]
  },
  {
   "cell_type": "markdown",
   "metadata": {},
   "source": [
    "Let's try out some examples: "
   ]
  },
  {
   "cell_type": "code",
   "execution_count": 64,
   "metadata": {},
   "outputs": [
    {
     "name": "stdout",
     "output_type": "stream",
     "text": [
      "orange apple website oscar lmao\n",
      "['orang', 'appl', 'websit', 'oscar', 'lmao']\n",
      "[41584300, 499881, 1958982437, 41633091, 1008672]\n",
      "[[0, 1, 2, 5, 7, 8, 20], [0, 1, 5, 7, 8], [0, 1, 7], [0, 1, 2]]\n"
     ]
    },
    {
     "data": {
      "text/plain": [
       "[0, 1]"
      ]
     },
     "execution_count": 64,
     "metadata": {},
     "output_type": "execute_result"
    }
   ],
   "source": [
    "# suppose we have the folloing inverted index \n",
    "\n",
    "inverted_index = {41584300: [0, 1, 2, 5, 7, 8, 20], 499881: [0, 1, 5, 7, 8], \\\n",
    "                 1958982437: [0, 1, 7], 41633091: [0, 1, 2]}\n",
    "\n",
    "\n",
    "string = 'orange apple website oscar lmao'\n",
    "\n",
    "\n",
    "find_query(inverted_index)"
   ]
  },
  {
   "cell_type": "code",
   "execution_count": 54,
   "metadata": {
    "scrolled": true
   },
   "outputs": [
    {
     "name": "stdout",
     "output_type": "stream",
     "text": [
      "1958982437\n"
     ]
    }
   ],
   "source": [
    "print(str_to_num('websit'))"
   ]
  },
  {
   "cell_type": "code",
   "execution_count": null,
   "metadata": {},
   "outputs": [],
   "source": []
  },
  {
   "cell_type": "code",
   "execution_count": null,
   "metadata": {},
   "outputs": [],
   "source": []
  }
 ],
 "metadata": {
  "kernelspec": {
   "display_name": "Python 3",
   "language": "python",
   "name": "python3"
  },
  "language_info": {
   "codemirror_mode": {
    "name": "ipython",
    "version": 3
   },
   "file_extension": ".py",
   "mimetype": "text/x-python",
   "name": "python",
   "nbconvert_exporter": "python",
   "pygments_lexer": "ipython3",
   "version": "3.8.3"
  }
 },
 "nbformat": 4,
 "nbformat_minor": 4
}
