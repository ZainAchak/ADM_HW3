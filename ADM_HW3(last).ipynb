{
 "cells": [
  {
   "cell_type": "code",
   "execution_count": 32,
   "metadata": {},
   "outputs": [],
   "source": [
    "import nltk as nl\n",
    "from nltk.corpus import stopwords\n",
    "from nltk.stem import PorterStemmer \n",
    "from nltk.tokenize import sent_tokenize, word_tokenize"
   ]
  },
  {
   "cell_type": "code",
   "execution_count": 22,
   "metadata": {
    "scrolled": true
   },
   "outputs": [
    {
     "name": "stderr",
     "output_type": "stream",
     "text": [
      "[nltk_data] Downloading package stopwords to\n",
      "[nltk_data]     C:\\Users\\momor\\AppData\\Roaming\\nltk_data...\n",
      "[nltk_data]   Unzipping corpora\\stopwords.zip.\n"
     ]
    },
    {
     "data": {
      "text/plain": [
       "True"
      ]
     },
     "execution_count": 22,
     "metadata": {},
     "output_type": "execute_result"
    }
   ],
   "source": [
    "nltk.download('stopwords')"
   ]
  },
  {
   "cell_type": "code",
   "execution_count": 67,
   "metadata": {},
   "outputs": [
    {
     "name": "stdout",
     "output_type": "stream",
     "text": [
      "riviera yacht-blu o'neil broker jonti kershaw captain find hoard mafia dollar motor vessel mia amigo decid split cash but signor pazzano want money honour back launch tradit mob vendetta jonti unassum englishman find drag deeper deeper world misplac honour violenc andi james' taut insight thriller switch cote d'azur corsica final tini italian prison island pioni dare rescu convict mobster enough save jonti pazzano henchmen\n"
     ]
    }
   ],
   "source": [
    "\n",
    "tmp1 = '''\n",
    "Riviera yacht-blue O'Neil broker Jonti Kershaw and his captain find a hoard of Mafia dollars on the motor vessel Mia Amigo \n",
    "and decide to split the cash. But Signor Pazzano wants the money and his honour back and launches \n",
    "a traditional mob vendetta against Jonti, an unassuming Englishman who finds himself \n",
    "dragged deeper and deeper into a world of misplaced honour and violence. Andy James' taut, \n",
    "insightful thriller switches from the Cote d'Azur to Corsica and finally to the tiny Italian prison \n",
    "island of Pioni where only the daring rescue of a convicted mobster will be enough to save Jonti from Pazzano and \n",
    "his henchmen.\n",
    "\n",
    "\n",
    "'''\n",
    "\n",
    "# given a string in input this functions remove the punctuation, the stopwords and stem \n",
    "\n",
    "def clean_info (string):\n",
    "\n",
    "    \n",
    "    # this command will split the string given in input in substrings by using \n",
    "    # the words given to RegexpTokenizer as argument\n",
    "    \n",
    "\n",
    "    \n",
    "    # filter the punctuation\n",
    "    tmp = nltk.RegexpTokenizer(r\"['\\w-]+\").tokenize(string)     \n",
    "    \n",
    "    # filter the stopwords (e.g. 'the', 'my', 'an', ...) and stem the remaing ones (e.g. stem('dies') = 'die', \n",
    "    # stem('flies') = 'fli')\n",
    "    \n",
    "    ps = PorterStemmer()\n",
    "    tmp = [ps.stem(word) for word in tmp if word not in stopwords.words('english')]\n",
    "    \n",
    "\n",
    "    # !!! missing normalization part too but i don't think there is any simple solution\n",
    "    \n",
    "    final = ' '.join(tmp)\n",
    "    \n",
    "    print(final)\n",
    "\n",
    "clean_info (tmp1)\n",
    "    \n",
    "\n"
   ]
  }
 ],
 "metadata": {
  "kernelspec": {
   "display_name": "Python 3",
   "language": "python",
   "name": "python3"
  },
  "language_info": {
   "codemirror_mode": {
    "name": "ipython",
    "version": 3
   },
   "file_extension": ".py",
   "mimetype": "text/x-python",
   "name": "python",
   "nbconvert_exporter": "python",
   "pygments_lexer": "ipython3",
   "version": "3.8.3"
  }
 },
 "nbformat": 4,
 "nbformat_minor": 4
}
